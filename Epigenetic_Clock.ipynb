{
 "cells": [
  {
   "cell_type": "markdown",
   "metadata": {},
   "source": [
    "# Background\n",
    "Scientists define there to be two main types of age: chronological, and biological age. Chronological age is based on how long you have been alive (years since birth), whereas biological age is a rough estimate of how healthy your body is by measuring various different biomarkers. For more information on this, check out my recent article on biological age right here: [What is Biological Age?](https://medium.com/biotein/what-is-biological-age-383692f53e60)\n",
    "\n",
    "One way of determining biological age (as also described in the article) is to measure the methylation levels in your genome. At sites known as CpG sites, along your DNA, various proteins can add on or remove methyl groups, in order to control which genes are expressed into proteins, and which ones aren't. As you age, however, the systems responsible for maintaining this control of the genome begin to break down, leading to errors in methylation. As such, some sites begin to see an accumulation of methyl tags, while others have their tags removed, as you age.\n",
    "\n",
    "Dr. Steve Horvath, longevity researcher at University of California Los Angeles, used this progression to develop a system known as the Horvath aging clock, which is able to produce an accurate estimate of your biological age. For example, after analyzing the methylation levels in a sample of your cells, the clock might tell you that your biological age is around 30, which basically means that your methylation levels (and your body's health) is similar to the average 30-year-old. If your actual age is somewhere around 40, this means you are living a healthy life, whereas if you are only 20 years old, then this suggests that you are living an unhealthy life. This information thus equips people with the knowledge to take control of their lifestyle and live a healthy life."
   ]
  },
  {
   "cell_type": "markdown",
   "metadata": {},
   "source": [
    "# Brief Explanation of This Project\n",
    "In this project, I aim to somewhat replicate the epigenetic clock developed by Horvath, using methylation data taken from blood samples to predict an individual's age. The datasets and methylation sites chosen for this project were advised by the research paper titled [Human Age Prediction Based on DNA Methylation Using a Gradient Boosting Regressor](https://doi.org/10.3390/genes9090424).\n",
    "There are two notable differences between the paper and this code:\n",
    "1. Since this code also takes into account the gender of the patients whose methylation data is available, GSE30870, which does not contain gender information in the dataset, was removed from the sample.\n",
    "2. This notebook contains three different ML Regression algorithms and a Deep Neural Network, and compares the performance of each model on the training and testing dataset. The four models developed in this notebook are: Multivariable Linear Regression, Random Forest Regression, Gradient Boosting Regression, and a Deep Neural Network."
   ]
  },
  {
   "cell_type": "code",
   "execution_count": 1,
   "metadata": {
    "id": "mBv5xDQEqVJO"
   },
   "outputs": [],
   "source": [
    "# Imports\n",
    "import pandas as pd\n",
    "\n",
    "from sklearn.utils import shuffle\n",
    "from sklearn import preprocessing\n",
    "from sklearn.preprocessing import StandardScaler\n",
    "from sklearn import linear_model\n",
    "from sklearn.model_selection import train_test_split\n",
    "\n",
    "import matplotlib.pyplot as plt\n",
    "\n",
    "import numpy as np"
   ]
  },
  {
   "cell_type": "code",
   "execution_count": 2,
   "metadata": {
    "colab": {
     "base_uri": "https://localhost:8080/",
     "height": 204
    },
    "id": "0fnuC4Gaqa0a",
    "outputId": "77e351c3-67bb-4c68-800b-5376460fdbc2"
   },
   "outputs": [
    {
     "data": {
      "text/html": [
       "<div>\n",
       "<style scoped>\n",
       "    .dataframe tbody tr th:only-of-type {\n",
       "        vertical-align: middle;\n",
       "    }\n",
       "\n",
       "    .dataframe tbody tr th {\n",
       "        vertical-align: top;\n",
       "    }\n",
       "\n",
       "    .dataframe thead th {\n",
       "        text-align: right;\n",
       "    }\n",
       "</style>\n",
       "<table border=\"1\" class=\"dataframe\">\n",
       "  <thead>\n",
       "    <tr style=\"text-align: right;\">\n",
       "      <th></th>\n",
       "      <th>...1</th>\n",
       "      <th>cg09809672</th>\n",
       "      <th>cg22736354</th>\n",
       "      <th>cg02228185</th>\n",
       "      <th>cg01820374</th>\n",
       "      <th>cg06493994</th>\n",
       "      <th>cg19761273</th>\n",
       "      <th>gender</th>\n",
       "      <th>age</th>\n",
       "    </tr>\n",
       "  </thead>\n",
       "  <tbody>\n",
       "    <tr>\n",
       "      <th>0</th>\n",
       "      <td>GSM507152</td>\n",
       "      <td>0.392464</td>\n",
       "      <td>0.281630</td>\n",
       "      <td>0.352591</td>\n",
       "      <td>0.315924</td>\n",
       "      <td>0.111604</td>\n",
       "      <td>0.211683</td>\n",
       "      <td>1</td>\n",
       "      <td>71.06</td>\n",
       "    </tr>\n",
       "    <tr>\n",
       "      <th>1</th>\n",
       "      <td>GSM507153</td>\n",
       "      <td>0.377919</td>\n",
       "      <td>0.238900</td>\n",
       "      <td>0.520396</td>\n",
       "      <td>0.323641</td>\n",
       "      <td>0.127965</td>\n",
       "      <td>0.184307</td>\n",
       "      <td>1</td>\n",
       "      <td>69.65</td>\n",
       "    </tr>\n",
       "    <tr>\n",
       "      <th>2</th>\n",
       "      <td>GSM507154</td>\n",
       "      <td>0.458522</td>\n",
       "      <td>0.204078</td>\n",
       "      <td>0.519273</td>\n",
       "      <td>0.363714</td>\n",
       "      <td>0.119891</td>\n",
       "      <td>0.215067</td>\n",
       "      <td>1</td>\n",
       "      <td>65.79</td>\n",
       "    </tr>\n",
       "    <tr>\n",
       "      <th>3</th>\n",
       "      <td>GSM507155</td>\n",
       "      <td>0.479108</td>\n",
       "      <td>0.154893</td>\n",
       "      <td>0.618859</td>\n",
       "      <td>0.493972</td>\n",
       "      <td>0.088941</td>\n",
       "      <td>0.240057</td>\n",
       "      <td>1</td>\n",
       "      <td>49.39</td>\n",
       "    </tr>\n",
       "    <tr>\n",
       "      <th>4</th>\n",
       "      <td>GSM507156</td>\n",
       "      <td>0.418763</td>\n",
       "      <td>0.217832</td>\n",
       "      <td>0.561005</td>\n",
       "      <td>0.398580</td>\n",
       "      <td>0.085992</td>\n",
       "      <td>0.207462</td>\n",
       "      <td>1</td>\n",
       "      <td>60.68</td>\n",
       "    </tr>\n",
       "  </tbody>\n",
       "</table>\n",
       "</div>"
      ],
      "text/plain": [
       "        ...1  cg09809672  cg22736354  cg02228185  cg01820374  cg06493994  \\\n",
       "0  GSM507152    0.392464    0.281630    0.352591    0.315924    0.111604   \n",
       "1  GSM507153    0.377919    0.238900    0.520396    0.323641    0.127965   \n",
       "2  GSM507154    0.458522    0.204078    0.519273    0.363714    0.119891   \n",
       "3  GSM507155    0.479108    0.154893    0.618859    0.493972    0.088941   \n",
       "4  GSM507156    0.418763    0.217832    0.561005    0.398580    0.085992   \n",
       "\n",
       "   cg19761273  gender    age  \n",
       "0    0.211683       1  71.06  \n",
       "1    0.184307       1  69.65  \n",
       "2    0.215067       1  65.79  \n",
       "3    0.240057       1  49.39  \n",
       "4    0.207462       1  60.68  "
      ]
     },
     "execution_count": 2,
     "metadata": {},
     "output_type": "execute_result"
    }
   ],
   "source": [
    "# Loading methylation dataset using Pandas\n",
    "path = \"C:/Users/aadid/Documents/Extra/R_Code/Epigenetic-Clock/Methylation_Dataset.csv\"\n",
    "df = pd.read_csv(path)\n",
    "df.head()"
   ]
  },
  {
   "cell_type": "code",
   "execution_count": 3,
   "metadata": {},
   "outputs": [
    {
     "data": {
      "text/html": [
       "<div>\n",
       "<style scoped>\n",
       "    .dataframe tbody tr th:only-of-type {\n",
       "        vertical-align: middle;\n",
       "    }\n",
       "\n",
       "    .dataframe tbody tr th {\n",
       "        vertical-align: top;\n",
       "    }\n",
       "\n",
       "    .dataframe thead th {\n",
       "        text-align: right;\n",
       "    }\n",
       "</style>\n",
       "<table border=\"1\" class=\"dataframe\">\n",
       "  <thead>\n",
       "    <tr style=\"text-align: right;\">\n",
       "      <th></th>\n",
       "      <th>cg09809672</th>\n",
       "      <th>cg22736354</th>\n",
       "      <th>cg02228185</th>\n",
       "      <th>cg01820374</th>\n",
       "      <th>cg06493994</th>\n",
       "      <th>cg19761273</th>\n",
       "      <th>gender</th>\n",
       "      <th>age</th>\n",
       "    </tr>\n",
       "  </thead>\n",
       "  <tbody>\n",
       "    <tr>\n",
       "      <th>count</th>\n",
       "      <td>1433.000000</td>\n",
       "      <td>1433.000000</td>\n",
       "      <td>1432.000000</td>\n",
       "      <td>1433.000000</td>\n",
       "      <td>1433.000000</td>\n",
       "      <td>1433.000000</td>\n",
       "      <td>1440.000000</td>\n",
       "      <td>1342.000000</td>\n",
       "    </tr>\n",
       "    <tr>\n",
       "      <th>mean</th>\n",
       "      <td>0.643915</td>\n",
       "      <td>-0.034537</td>\n",
       "      <td>0.707461</td>\n",
       "      <td>0.469240</td>\n",
       "      <td>-0.126709</td>\n",
       "      <td>0.190323</td>\n",
       "      <td>0.398611</td>\n",
       "      <td>16.876972</td>\n",
       "    </tr>\n",
       "    <tr>\n",
       "      <th>std</th>\n",
       "      <td>0.182962</td>\n",
       "      <td>0.631238</td>\n",
       "      <td>0.181514</td>\n",
       "      <td>0.249634</td>\n",
       "      <td>0.818831</td>\n",
       "      <td>0.429598</td>\n",
       "      <td>0.489782</td>\n",
       "      <td>20.195080</td>\n",
       "    </tr>\n",
       "    <tr>\n",
       "      <th>min</th>\n",
       "      <td>-0.142805</td>\n",
       "      <td>-3.426375</td>\n",
       "      <td>0.249870</td>\n",
       "      <td>-0.652701</td>\n",
       "      <td>-3.671870</td>\n",
       "      <td>-1.865495</td>\n",
       "      <td>0.000000</td>\n",
       "      <td>0.000000</td>\n",
       "    </tr>\n",
       "    <tr>\n",
       "      <th>25%</th>\n",
       "      <td>0.508143</td>\n",
       "      <td>0.063395</td>\n",
       "      <td>0.634600</td>\n",
       "      <td>0.369900</td>\n",
       "      <td>0.038618</td>\n",
       "      <td>0.220460</td>\n",
       "      <td>0.000000</td>\n",
       "      <td>0.000000</td>\n",
       "    </tr>\n",
       "    <tr>\n",
       "      <th>50%</th>\n",
       "      <td>0.649500</td>\n",
       "      <td>0.093690</td>\n",
       "      <td>0.716848</td>\n",
       "      <td>0.500220</td>\n",
       "      <td>0.056750</td>\n",
       "      <td>0.295079</td>\n",
       "      <td>0.000000</td>\n",
       "      <td>9.250000</td>\n",
       "    </tr>\n",
       "    <tr>\n",
       "      <th>75%</th>\n",
       "      <td>0.819000</td>\n",
       "      <td>0.192362</td>\n",
       "      <td>0.791519</td>\n",
       "      <td>0.610516</td>\n",
       "      <td>0.112080</td>\n",
       "      <td>0.369000</td>\n",
       "      <td>1.000000</td>\n",
       "      <td>26.000000</td>\n",
       "    </tr>\n",
       "    <tr>\n",
       "      <th>max</th>\n",
       "      <td>0.981229</td>\n",
       "      <td>0.460100</td>\n",
       "      <td>1.836750</td>\n",
       "      <td>0.946000</td>\n",
       "      <td>0.308694</td>\n",
       "      <td>0.809860</td>\n",
       "      <td>1.000000</td>\n",
       "      <td>76.498290</td>\n",
       "    </tr>\n",
       "  </tbody>\n",
       "</table>\n",
       "</div>"
      ],
      "text/plain": [
       "        cg09809672   cg22736354   cg02228185   cg01820374   cg06493994  \\\n",
       "count  1433.000000  1433.000000  1432.000000  1433.000000  1433.000000   \n",
       "mean      0.643915    -0.034537     0.707461     0.469240    -0.126709   \n",
       "std       0.182962     0.631238     0.181514     0.249634     0.818831   \n",
       "min      -0.142805    -3.426375     0.249870    -0.652701    -3.671870   \n",
       "25%       0.508143     0.063395     0.634600     0.369900     0.038618   \n",
       "50%       0.649500     0.093690     0.716848     0.500220     0.056750   \n",
       "75%       0.819000     0.192362     0.791519     0.610516     0.112080   \n",
       "max       0.981229     0.460100     1.836750     0.946000     0.308694   \n",
       "\n",
       "        cg19761273       gender          age  \n",
       "count  1433.000000  1440.000000  1342.000000  \n",
       "mean      0.190323     0.398611    16.876972  \n",
       "std       0.429598     0.489782    20.195080  \n",
       "min      -1.865495     0.000000     0.000000  \n",
       "25%       0.220460     0.000000     0.000000  \n",
       "50%       0.295079     0.000000     9.250000  \n",
       "75%       0.369000     1.000000    26.000000  \n",
       "max       0.809860     1.000000    76.498290  "
      ]
     },
     "execution_count": 3,
     "metadata": {},
     "output_type": "execute_result"
    }
   ],
   "source": [
    "df.describe()"
   ]
  },
  {
   "cell_type": "markdown",
   "metadata": {},
   "source": [
    "Here we first shuffle our dataset to remove any confounding factors that may exist as a result of the ordering of the dataset, such as an inappropriate train-test split. We also reset the indices after the shuffling, and drop all rows with missing values (or NaNs)."
   ]
  },
  {
   "cell_type": "code",
   "execution_count": 4,
   "metadata": {
    "colab": {
     "base_uri": "https://localhost:8080/",
     "height": 204
    },
    "id": "L_E6RlCIrMtB",
    "outputId": "6859b7dd-b0f0-4b8d-87c4-3da87b0c4f8c"
   },
   "outputs": [
    {
     "data": {
      "text/html": [
       "<div>\n",
       "<style scoped>\n",
       "    .dataframe tbody tr th:only-of-type {\n",
       "        vertical-align: middle;\n",
       "    }\n",
       "\n",
       "    .dataframe tbody tr th {\n",
       "        vertical-align: top;\n",
       "    }\n",
       "\n",
       "    .dataframe thead th {\n",
       "        text-align: right;\n",
       "    }\n",
       "</style>\n",
       "<table border=\"1\" class=\"dataframe\">\n",
       "  <thead>\n",
       "    <tr style=\"text-align: right;\">\n",
       "      <th></th>\n",
       "      <th>cg09809672</th>\n",
       "      <th>cg22736354</th>\n",
       "      <th>cg02228185</th>\n",
       "      <th>cg01820374</th>\n",
       "      <th>cg06493994</th>\n",
       "      <th>cg19761273</th>\n",
       "      <th>gender</th>\n",
       "      <th>age</th>\n",
       "    </tr>\n",
       "  </thead>\n",
       "  <tbody>\n",
       "    <tr>\n",
       "      <th>1</th>\n",
       "      <td>0.526730</td>\n",
       "      <td>0.110600</td>\n",
       "      <td>0.403080</td>\n",
       "      <td>0.444260</td>\n",
       "      <td>0.054940</td>\n",
       "      <td>0.147440</td>\n",
       "      <td>1</td>\n",
       "      <td>52.000000</td>\n",
       "    </tr>\n",
       "    <tr>\n",
       "      <th>2</th>\n",
       "      <td>0.697096</td>\n",
       "      <td>0.086370</td>\n",
       "      <td>0.742653</td>\n",
       "      <td>0.513994</td>\n",
       "      <td>0.058070</td>\n",
       "      <td>0.335168</td>\n",
       "      <td>1</td>\n",
       "      <td>0.000000</td>\n",
       "    </tr>\n",
       "    <tr>\n",
       "      <th>3</th>\n",
       "      <td>0.641280</td>\n",
       "      <td>0.075930</td>\n",
       "      <td>0.749420</td>\n",
       "      <td>0.538040</td>\n",
       "      <td>0.043000</td>\n",
       "      <td>0.307800</td>\n",
       "      <td>0</td>\n",
       "      <td>7.416667</td>\n",
       "    </tr>\n",
       "    <tr>\n",
       "      <th>4</th>\n",
       "      <td>0.549140</td>\n",
       "      <td>0.120250</td>\n",
       "      <td>0.725800</td>\n",
       "      <td>0.485050</td>\n",
       "      <td>0.053460</td>\n",
       "      <td>0.244870</td>\n",
       "      <td>0</td>\n",
       "      <td>17.000000</td>\n",
       "    </tr>\n",
       "    <tr>\n",
       "      <th>5</th>\n",
       "      <td>0.490546</td>\n",
       "      <td>0.118865</td>\n",
       "      <td>0.472128</td>\n",
       "      <td>0.466561</td>\n",
       "      <td>0.054391</td>\n",
       "      <td>0.234134</td>\n",
       "      <td>1</td>\n",
       "      <td>44.000000</td>\n",
       "    </tr>\n",
       "  </tbody>\n",
       "</table>\n",
       "</div>"
      ],
      "text/plain": [
       "   cg09809672  cg22736354  cg02228185  cg01820374  cg06493994  cg19761273  \\\n",
       "1    0.526730    0.110600    0.403080    0.444260    0.054940    0.147440   \n",
       "2    0.697096    0.086370    0.742653    0.513994    0.058070    0.335168   \n",
       "3    0.641280    0.075930    0.749420    0.538040    0.043000    0.307800   \n",
       "4    0.549140    0.120250    0.725800    0.485050    0.053460    0.244870   \n",
       "5    0.490546    0.118865    0.472128    0.466561    0.054391    0.234134   \n",
       "\n",
       "   gender        age  \n",
       "1       1  52.000000  \n",
       "2       1   0.000000  \n",
       "3       0   7.416667  \n",
       "4       0  17.000000  \n",
       "5       1  44.000000  "
      ]
     },
     "execution_count": 4,
     "metadata": {},
     "output_type": "execute_result"
    }
   ],
   "source": [
    "# Shuffle dataframe to randomize data order, possibly preventing confounding factors\n",
    "df = shuffle(df)\n",
    "df.reset_index(inplace=True, drop=True)\n",
    "\n",
    "# Remove patient ID column\n",
    "df = df.drop(['...1'], axis=1)\n",
    "\n",
    "# Drop all rows with NaN values\n",
    "df = df.dropna()\n",
    "\n",
    "df.head()"
   ]
  },
  {
   "cell_type": "code",
   "execution_count": 5,
   "metadata": {
    "colab": {
     "base_uri": "https://localhost:8080/"
    },
    "id": "iE4Dhyvy5EuR",
    "outputId": "2f931de1-db35-4ffd-b84a-178a2736b71c"
   },
   "outputs": [
    {
     "data": {
      "text/plain": [
       "(array([], dtype=int64), array([], dtype=int64))"
      ]
     },
     "execution_count": 5,
     "metadata": {},
     "output_type": "execute_result"
    }
   ],
   "source": [
    "# Checking if there are any remaining NaNs in the dataset\n",
    "np.where(pd.isnull(df))"
   ]
  },
  {
   "cell_type": "markdown",
   "metadata": {},
   "source": [
    "Below, we plot the correlation matrix, or heatmap, to compare the variables. As can be seen in the lowest row (labelled age),  the methylation sites that might be the best predictors of age (the most strongly correlated, whether negative or positive) are cg09809672, cg01820374, and cg19761273.\n",
    "We also see that gender seems to have a positive positive correlation with age. This suggests a possible confounding factor that may arise as a result of the dataset, since it seems that the females in the dataset (labelled as 1) are older than the males (labelled 0)."
   ]
  },
  {
   "cell_type": "code",
   "execution_count": 6,
   "metadata": {
    "colab": {
     "base_uri": "https://localhost:8080/",
     "height": 501
    },
    "id": "rilLSJs38tth",
    "outputId": "6c4560c8-c965-4195-e908-3461498e2528"
   },
   "outputs": [
    {
     "data": {
      "image/png": "[encoded data removed]",
      "text/plain": [
       "<Figure size 576x576 with 2 Axes>"
      ]
     },
     "metadata": {
      "needs_background": "light"
     },
     "output_type": "display_data"
    }
   ],
   "source": [
    "# Plot correlation matrix, or heatmap, to compare variables. As can \n",
    "# be seen in the lowest row (labelled age), the methylation sites\n",
    "# that might act as the best predictors of age are cg09809672,\n",
    "# cg01820374, and cg19761273.\n",
    "import seaborn as sb\n",
    "C_mat = df.corr()\n",
    "fig = plt.figure(figsize = (8,8))\n",
    "\n",
    "sb.heatmap(C_mat, vmax=1, square=True)\n",
    "plt.show()"
   ]
  },
  {
   "cell_type": "code",
   "execution_count": 7,
   "metadata": {
    "colab": {
     "base_uri": "https://localhost:8080/",
     "height": 299
    },
    "id": "Xp9pvO6lumwy",
    "outputId": "64d7bd9f-c8ed-4343-d50d-7d36557404b0"
   },
   "outputs": [
    {
     "data": {
      "text/plain": [
       "<matplotlib.axes._subplots.AxesSubplot at 0x1bcdcafcd30>"
      ]
     },
     "execution_count": 7,
     "metadata": {},
     "output_type": "execute_result"
    },
    {
     "data": {
      "image/png": "[encoded data removed]",
      "text/plain": [
       "<Figure size 432x288 with 1 Axes>"
      ]
     },
     "metadata": {
      "needs_background": "light"
     },
     "output_type": "display_data"
    }
   ],
   "source": [
    "# Plotting the data for cg09809672 prior to normalization by the Standard Scaler model\n",
    "df['cg09809672'].plot(kind='bar')"
   ]
  },
  {
   "cell_type": "code",
   "execution_count": 8,
   "metadata": {
    "id": "1fSlC6Zav0Jq"
   },
   "outputs": [
    {
     "name": "stderr",
     "output_type": "stream",
     "text": [
      "C:\\Users\\aadid\\AppData\\Roaming\\Python\\Python37\\site-packages\\sklearn\\preprocessing\\data.py:645: DataConversionWarning: Data with input dtype int64, float64 were all converted to float64 by StandardScaler.\n",
      "  return self.partial_fit(X, y)\n",
      "C:\\Users\\aadid\\AppData\\Roaming\\Python\\Python37\\site-packages\\sklearn\\base.py:464: DataConversionWarning: Data with input dtype int64, float64 were all converted to float64 by StandardScaler.\n",
      "  return self.fit(X, **fit_params).transform(X)\n"
     ]
    }
   ],
   "source": [
    "# Normalizing the methylation and gender data with a Standard Scaler.\n",
    "X = df[['cg09809672', 'cg22736354', 'cg02228185', 'cg01820374', 'cg06493994', 'cg19761273', 'gender']]\n",
    "std_scaler = StandardScaler()\n",
    "std_scaler\n",
    "\n",
    "# Separating X vs. y dataframes\n",
    "X_std = pd.DataFrame(std_scaler.fit_transform(X), columns=X.columns)\n",
    "y = df['age']"
   ]
  },
  {
   "cell_type": "code",
   "execution_count": 9,
   "metadata": {
    "colab": {
     "base_uri": "https://localhost:8080/",
     "height": 298
    },
    "id": "m7XsFluRxlNf",
    "outputId": "c751a44e-a270-41e3-91dd-96683580f0aa"
   },
   "outputs": [
    {
     "data": {
      "text/plain": [
       "<matplotlib.axes._subplots.AxesSubplot at 0x1bcdd4a1ba8>"
      ]
     },
     "execution_count": 9,
     "metadata": {},
     "output_type": "execute_result"
    },
    {
     "data": {
      "image/png": "[encoded data removed]",
      "text/plain": [
       "<Figure size 432x288 with 1 Axes>"
      ]
     },
     "metadata": {
      "needs_background": "light"
     },
     "output_type": "display_data"
    }
   ],
   "source": [
    "# Plotting the data for cg09809672 after normalization\n",
    "X_std['cg09809672'].plot(kind='bar')"
   ]
  },
  {
   "cell_type": "code",
   "execution_count": 10,
   "metadata": {
    "id": "GfzLUnz23NBr"
   },
   "outputs": [],
   "source": [
    "# Separating dataset into train and test subsets\n",
    "X_train, X_test, y_train, y_test = train_test_split(X, y, test_size = 0.33, random_state = 42)"
   ]
  },
  {
   "cell_type": "markdown",
   "metadata": {},
   "source": [
    "Based on the score and predictions printed below, we see that the linear regression model is only somewhate capable of accurately predicting the age of an individual using the methylation levels inputted, with roughly 75% testing accuracy (varies with each run)."
   ]
  },
  {
   "cell_type": "code",
   "execution_count": 11,
   "metadata": {
    "colab": {
     "base_uri": "https://localhost:8080/"
    },
    "id": "tKnDAEiN0laa",
    "outputId": "e9a0a152-ffe3-47f1-94d2-1704ea31bf1a"
   },
   "outputs": [
    {
     "name": "stdout",
     "output_type": "stream",
     "text": [
      "0.737530740738999\n"
     ]
    }
   ],
   "source": [
    "# Training the multivariate linear regression model\n",
    "linear_regressor = linear_model.LinearRegression()\n",
    "linear_regressor.fit(X_train, y_train)\n",
    "\n",
    "# Accuracy on the testing set\n",
    "print(linear_regressor.score(X_test, y_test))"
   ]
  },
  {
   "cell_type": "code",
   "execution_count": 12,
   "metadata": {},
   "outputs": [
    {
     "name": "stdout",
     "output_type": "stream",
     "text": [
      "Prediction: 14.615317246070568 \tActual: 17.0\n",
      "Prediction: 9.901882142771562 \tActual: 7.25\n",
      "Prediction: 53.169892214472505 \tActual: 65.53\n",
      "Prediction: 9.193458789417647 \tActual: 0.0\n",
      "Prediction: 15.57978693629444 \tActual: 9.083333332999999\n",
      "Prediction: 8.643369736906834 \tActual: 4.583333333\n",
      "Prediction: 9.575357543741958 \tActual: 5.833333333\n",
      "Prediction: 0.0 \tActual: 0.0\n",
      "Prediction: 6.336825213612727 \tActual: 7.75\n",
      "Prediction: 18.66591306424644 \tActual: 16.08333333\n"
     ]
    }
   ],
   "source": [
    "predictions = linear_regressor.predict(X_test)\n",
    "\n",
    "# Since age cannot be negative, changing all negative predictions to age 0\n",
    "for n, element in enumerate(predictions):\n",
    "    if element < 0:\n",
    "        predictions[n] = 0\n",
    "\n",
    "# Looking at sample predictions for the testing set\n",
    "for i in range(0, 10):\n",
    "    print(\"Prediction:\", predictions[i], \"\\tActual:\", y_test.iloc[i])"
   ]
  },
  {
   "cell_type": "markdown",
   "metadata": {},
   "source": [
    "Looking at the score for the model below, we can see that the Random Forest Regressor model is quite accurate at predicting an individual's age using their methylation data, with roughly 92% testing accuracy (varies with each run)."
   ]
  },
  {
   "cell_type": "code",
   "execution_count": 13,
   "metadata": {
    "colab": {
     "base_uri": "https://localhost:8080/"
    },
    "id": "g8OmmVp26I0_",
    "outputId": "c1802164-a8d4-4732-ddd6-42800ea20121"
   },
   "outputs": [
    {
     "name": "stdout",
     "output_type": "stream",
     "text": [
      "0.9119492435704226\n"
     ]
    }
   ],
   "source": [
    "# Building and training the Random Forest Regressor model\n",
    "from sklearn.ensemble import RandomForestRegressor\n",
    "\n",
    "# Optimal value for n_estimators was determined by trial and error, comparing the score for each trial\n",
    "random_forest_regressor = RandomForestRegressor(n_estimators = 17, random_state = 0)\n",
    "random_forest_regressor.fit(X_train, y_train)\n",
    "\n",
    "# Accuracy on the testing set\n",
    "print(random_forest_regressor.score(X_test, y_test))"
   ]
  },
  {
   "cell_type": "code",
   "execution_count": 14,
   "metadata": {
    "colab": {
     "base_uri": "https://localhost:8080/"
    },
    "id": "Ma-f_TYmVIQo",
    "outputId": "3bae1b06-a16f-49bf-ab39-654cad0ea596"
   },
   "outputs": [
    {
     "name": "stdout",
     "output_type": "stream",
     "text": [
      "Prediction: 11.024509804058825 \tActual: 17.0\n",
      "Prediction: 7.598039215882354 \tActual: 7.25\n",
      "Prediction: 64.13999999999999 \tActual: 65.53\n",
      "Prediction: 0.0 \tActual: 0.0\n",
      "Prediction: 10.132352940764704 \tActual: 9.083333332999999\n",
      "Prediction: 5.936274509823529 \tActual: 4.583333333\n",
      "Prediction: 6.044117646941176 \tActual: 5.833333333\n",
      "Prediction: 0.0 \tActual: 0.0\n",
      "Prediction: 5.794117647176471 \tActual: 7.75\n",
      "Prediction: 12.460784314823533 \tActual: 16.08333333\n"
     ]
    }
   ],
   "source": [
    "predictions = random_forest_regressor.predict(X_test)\n",
    "\n",
    "# Since age cannot be negative, changing all negative predictions to age 0\n",
    "for n, element in enumerate(predictions):\n",
    "    if element < 0:\n",
    "        predictions[n] = 0\n",
    "\n",
    "# Looking at sample predictions for the testing set\n",
    "for i in range(0, 10):\n",
    "  print(\"Prediction:\", predictions[i],\"\\tActual:\", y_test.iloc[i])"
   ]
  },
  {
   "cell_type": "markdown",
   "metadata": {},
   "source": [
    "Looking at the two code blocks below, we see that the Gradient Boosting Regressor model, though not as accurate as the Random Forest Regressor, is still fairly accurate at generating the predictions using the data given, with roughly 86% accuracy on the testing set (varies with each run)."
   ]
  },
  {
   "cell_type": "code",
   "execution_count": 15,
   "metadata": {},
   "outputs": [
    {
     "name": "stdout",
     "output_type": "stream",
     "text": [
      "0.845543855616767\n"
     ]
    }
   ],
   "source": [
    "# Building and training the Gradient Boosting Regressor model\n",
    "from sklearn.ensemble import GradientBoostingRegressor\n",
    "\n",
    "# The values of n_estimators, max_depth, and learning_rate were determined by trial and error,\n",
    "# to obtain the obtimal values shown below.\n",
    "params = {'n_estimators':3, 'max_depth':3, 'learning_rate': 1, 'criterion': 'mse'}\n",
    "\n",
    "gradient_boosting_regressor = GradientBoostingRegressor(**params)\n",
    "gradient_boosting_regressor.fit(X_train, y_train)\n",
    "\n",
    "print(gradient_boosting_regressor.score(X_test, y_test))"
   ]
  },
  {
   "cell_type": "code",
   "execution_count": 16,
   "metadata": {},
   "outputs": [
    {
     "name": "stdout",
     "output_type": "stream",
     "text": [
      "Prediction: 3.505938486564964 \tActual: 17.0\n",
      "Prediction: 13.707487215165807 \tActual: 7.25\n",
      "Prediction: 63.32399212235803 \tActual: 65.53\n",
      "Prediction: 0.0 \tActual: 0.0\n",
      "Prediction: 13.707487215165807 \tActual: 9.083333332999999\n",
      "Prediction: 7.9033466716685465 \tActual: 4.583333333\n",
      "Prediction: 7.9033466716685465 \tActual: 5.833333333\n",
      "Prediction: 0.0 \tActual: 0.0\n",
      "Prediction: 7.9033466716685465 \tActual: 7.75\n",
      "Prediction: 15.655788267536703 \tActual: 16.08333333\n"
     ]
    }
   ],
   "source": [
    "predictions = gradient_boosting_regressor.predict(X_test)\n",
    "for i in range(0, 10):\n",
    "    if predictions[i] < 0:\n",
    "        predictions[i] = 0\n",
    "    print(\"Prediction:\", predictions[i],\"\\tActual:\", y_test.iloc[i])"
   ]
  },
  {
   "cell_type": "code",
   "execution_count": 17,
   "metadata": {
    "colab": {
     "base_uri": "https://localhost:8080/"
    },
    "id": "9tHfs4Qw9zrU",
    "outputId": "0d8f17bf-7835-4aa6-e61c-acbfd78ca46e"
   },
   "outputs": [
    {
     "name": "stderr",
     "output_type": "stream",
     "text": [
      "Using TensorFlow backend.\n",
      "WARNING: Logging before flag parsing goes to stderr.\n",
      "W0107 15:07:13.949198 16976 deprecation.py:506] From C:\\Users\\aadid\\AppData\\Roaming\\Python\\Python37\\site-packages\\tensorflow_core\\python\\ops\\resource_variable_ops.py:1633: calling BaseResourceVariable.__init__ (from tensorflow.python.ops.resource_variable_ops) with constraint is deprecated and will be removed in a future version.\n",
      "Instructions for updating:\n",
      "If using Keras pass *_constraint arguments to layers.\n"
     ]
    },
    {
     "name": "stdout",
     "output_type": "stream",
     "text": [
      "Model: \"sequential_1\"\n",
      "_________________________________________________________________\n",
      "Layer (type)                 Output Shape              Param #   \n",
      "=================================================================\n",
      "dense_1 (Dense)              (None, 128)               1024      \n",
      "_________________________________________________________________\n",
      "dense_2 (Dense)              (None, 256)               33024     \n",
      "_________________________________________________________________\n",
      "dense_3 (Dense)              (None, 256)               65792     \n",
      "_________________________________________________________________\n",
      "dense_4 (Dense)              (None, 256)               65792     \n",
      "_________________________________________________________________\n",
      "dense_5 (Dense)              (None, 1)                 257       \n",
      "=================================================================\n",
      "Total params: 165,889\n",
      "Trainable params: 165,889\n",
      "Non-trainable params: 0\n",
      "_________________________________________________________________\n"
     ]
    }
   ],
   "source": [
    "import tensorflow as tf\n",
    "from keras.callbacks import ModelCheckpoint\n",
    "from keras.models import Sequential\n",
    "from keras.layers import Dense, Activation, Flatten\n",
    "\n",
    "# Creating the sequential neural network model\n",
    "NN_model = Sequential()\n",
    "\n",
    "# Input layer\n",
    "NN_model.add(Dense(128, kernel_initializer='normal', input_dim=X_train.shape[1], activation='relu'))\n",
    "\n",
    "# Hidden layers\n",
    "NN_model.add(Dense(256, kernel_initializer='normal', activation='relu'))\n",
    "NN_model.add(Dense(256, kernel_initializer='normal', activation='relu'))\n",
    "NN_model.add(Dense(256, kernel_initializer='normal', activation='relu'))\n",
    "\n",
    "# Output layer\n",
    "NN_model.add(Dense(1, kernel_initializer='normal', activation='linear'))\n",
    "\n",
    "\n",
    "# Compile NN\n",
    "NN_model.compile(loss='mean_absolute_error', optimizer='adam', metrics=['mean_absolute_error', 'accuracy'])\n",
    "NN_model.summary()"
   ]
  },
  {
   "cell_type": "markdown",
   "metadata": {},
   "source": [
    "As seen in the plots showing the accuracy and loss as the model continues training, or the evaluation in the very last block, the neural network is extremely poor at predicting an individual's age, with an accuracy of around 30% (varies with each run)."
   ]
  },
  {
   "cell_type": "code",
   "execution_count": 18,
   "metadata": {
    "colab": {
     "base_uri": "https://localhost:8080/"
    },
    "id": "sjqvn9peAOcY",
    "outputId": "706f36e2-80d9-4b88-cb4c-15e94f46e3db"
   },
   "outputs": [
    {
     "name": "stderr",
     "output_type": "stream",
     "text": [
      "W0107 15:07:14.503745 16976 deprecation.py:323] From C:\\Users\\aadid\\AppData\\Roaming\\Python\\Python37\\site-packages\\keras\\optimizers.py:550: BaseResourceVariable.constraint (from tensorflow.python.ops.resource_variable_ops) is deprecated and will be removed in a future version.\n",
      "Instructions for updating:\n",
      "Apply a constraint manually following the optimizer update step.\n",
      "W0107 15:07:14.869284 16976 module_wrapper.py:136] From C:\\Users\\aadid\\AppData\\Roaming\\Python\\Python37\\site-packages\\tensorflow_core\\python\\util\\module_wrapper.py:163: The name tf.global_variables is deprecated. Please use tf.compat.v1.global_variables instead.\n",
      "\n"
     ]
    }
   ],
   "source": [
    "history = NN_model.fit(X_train, y_train, epochs=100, batch_size=32, validation_split = 0.2, verbose=0)"
   ]
  },
  {
   "cell_type": "code",
   "execution_count": 19,
   "metadata": {
    "id": "MyEioeZ2B8AA"
   },
   "outputs": [
    {
     "name": "stdout",
     "output_type": "stream",
     "text": [
      "dict_keys(['val_loss', 'val_mean_absolute_error', 'val_accuracy', 'loss', 'mean_absolute_error', 'accuracy'])\n"
     ]
    }
   ],
   "source": [
    "print(history.history.keys())"
   ]
  },
  {
   "cell_type": "code",
   "execution_count": 20,
   "metadata": {},
   "outputs": [
    {
     "data": {
      "image/png": "[encoded data removed]",
      "text/plain": [
       "<Figure size 432x288 with 1 Axes>"
      ]
     },
     "metadata": {
      "needs_background": "light"
     },
     "output_type": "display_data"
    }
   ],
   "source": [
    "plt.plot(history.history['accuracy'])\n",
    "plt.plot(history.history['val_accuracy'])\n",
    "plt.title('model accuracy')\n",
    "plt.ylabel('accuracy')\n",
    "plt.xlabel('epoch')\n",
    "plt.legend(['train', 'test'], loc='upper left')\n",
    "plt.show()"
   ]
  },
  {
   "cell_type": "code",
   "execution_count": 21,
   "metadata": {},
   "outputs": [
    {
     "data": {
      "image/png": "[encoded data removed]",
      "text/plain": [
       "<Figure size 432x288 with 1 Axes>"
      ]
     },
     "metadata": {
      "needs_background": "light"
     },
     "output_type": "display_data"
    }
   ],
   "source": [
    "plt.plot(history.history['loss'])\n",
    "plt.plot(history.history['val_loss'])\n",
    "plt.title('model loss')\n",
    "plt.ylabel('loss')\n",
    "plt.xlabel('epoch')\n",
    "plt.legend(['train', 'test'], loc='upper left')\n",
    "plt.show()"
   ]
  },
  {
   "cell_type": "code",
   "execution_count": 22,
   "metadata": {
    "colab": {
     "base_uri": "https://localhost:8080/"
    },
    "id": "vxuU6KZyAWbg",
    "outputId": "b37e7d5a-5457-41e4-ac6e-ccf35794c3ef"
   },
   "outputs": [
    {
     "name": "stdout",
     "output_type": "stream",
     "text": [
      "441/441 [==============================] - 0s 48us/step\n",
      "Test loss: 2.956726800557437\n",
      "Test accuracy: 0.30612245202064514\n"
     ]
    }
   ],
   "source": [
    "evaluation = NN_model.evaluate(X_test, y_test, batch_size=32)\n",
    "loss = evaluation[0]\n",
    "acc = evaluation[2]\n",
    "print(\"Test loss:\", loss)\n",
    "print(\"Test accuracy:\", acc)"
   ]
  },
  {
   "cell_type": "markdown",
   "metadata": {},
   "source": [
    "# Conclusion\n",
    "With the code seen above, we conclude that the Random Forest Regression model is the best model of the four, and is able to fairly accurately predict an individual's age using their methylation levels at the 6 sites. Not far behind in accuracy is the Gradient Boosting model. The Linear Regression model is not as accurately able to predict the age, but is still able to do so much much more accurately than the neural network, which was only able to achieve a testing accuracy of roughly 30%, and validation accuracy ranging from 30-35%."
   ]
  }
 ],
 "metadata": {
  "colab": {
   "collapsed_sections": [],
   "name": "Epigenetic Clock",
   "provenance": []
  },
  "kernelspec": {
   "display_name": "Python 3",
   "language": "python",
   "name": "python3"
  },
  "language_info": {
   "codemirror_mode": {
    "name": "ipython",
    "version": 3
   },
   "file_extension": ".py",
   "mimetype": "text/x-python",
   "name": "python",
   "nbconvert_exporter": "python",
   "pygments_lexer": "ipython3",
   "version": "3.7.3"
  }
 },
 "nbformat": 4,
 "nbformat_minor": 1
}
