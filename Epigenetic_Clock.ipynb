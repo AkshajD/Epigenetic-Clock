{
 "cells": [
  {
   "cell_type": "markdown",
   "metadata": {},
   "source": [
    "# Background\n",
    "Scientists define there to be two main types of age: chronological, and biological age. Chronological age is based on how long you have been alive (years since birth), whereas biological age is a rough estimate of how healthy your body is by measuring various different biomarkers. For more information on this, check out my recent article on biological age right here: [What is Biological Age?](https://medium.com/biotein/what-is-biological-age-383692f53e60)\n",
    "\n",
    "One way of determining biological age (as also described in the article) is to measure the methylation levels in your genome. At sites known as CpG sites, along your DNA, various proteins can add on or remove methyl groups, in order to control which genes are expressed into proteins, and which ones aren't. As you age, however, the systems responsible for maintaining this control of the genome begin to break down, leading to errors in methylation. As such, some sites begin to see an accumulation of methyl tags, while others have their tags removed, as you age.\n",
    "\n",
    "Dr. Steve Horvath, longevity researcher at University of California Los Angeles, used this progression to develop a system known as the Horvath aging clock, which is able to produce an accurate estimate of your biological age. For example, after analyzing the methylation levels in a sample of your cells, the clock might tell you that your biological age is around 30, which basically means that your methylation levels (and your body's health) is similar to the average 30-year-old. If your actual age is somewhere around 40, this means you are living a healthy life, whereas if you are only 20 years old, then this suggests that you are living an unhealthy life. This information thus equips people with the knowledge to take control of their lifestyle and live a healthy life."
   ]
  },
  {
   "cell_type": "markdown",
   "metadata": {},
   "source": [
    "# Brief Explanation of This Project\n",
    "In this project, I aim to somewhat replicate the epigenetic clock developed by Horvath, using methylation data taken from blood samples to predict an individual's age. The datasets and methylation sites chosen for this project were advised by the research paper titled [Human Age Prediction Based on DNA Methylation Using a Gradient Boosting Regressor](https://doi.org/10.3390/genes9090424).\n",
    "There are two notable differences between the paper and this code:\n",
    "1. Since this code also takes into account the gender of the patients whose methylation data is available, GSE30870, which does not contain gender information in the dataset, was removed from the sample.\n",
    "2. This notebook contains three different ML Regression algorithms and a Deep Neural Network, and compares the performance of each model on the training and testing dataset. The four models developed in this notebook are: Multivariable Linear Regression, Random Forest Regression, Gradient Boosting Regression, and a Deep Neural Network."
   ]
  },
  {
   "cell_type": "code",
   "execution_count": 1,
   "metadata": {
    "id": "mBv5xDQEqVJO"
   },
   "outputs": [],
   "source": [
    "# Imports\n",
    "import pandas as pd\n",
    "\n",
    "from sklearn.utils import shuffle\n",
    "from sklearn import preprocessing\n",
    "from sklearn.preprocessing import StandardScaler\n",
    "from sklearn import linear_model\n",
    "from sklearn.model_selection import train_test_split\n",
    "\n",
    "import matplotlib.pyplot as plt\n",
    "\n",
    "import numpy as np"
   ]
  },
  {
   "cell_type": "markdown",
   "metadata": {},
   "source": [
    "# Preparing the Data"
   ]
  },
  {
   "cell_type": "code",
   "execution_count": 2,
   "metadata": {
    "colab": {
     "base_uri": "https://localhost:8080/",
     "height": 204
    },
    "id": "0fnuC4Gaqa0a",
    "outputId": "77e351c3-67bb-4c68-800b-5376460fdbc2"
   },
   "outputs": [
    {
     "data": {
      "text/html": [
       "<div>\n",
       "<style scoped>\n",
       "    .dataframe tbody tr th:only-of-type {\n",
       "        vertical-align: middle;\n",
       "    }\n",
       "\n",
       "    .dataframe tbody tr th {\n",
       "        vertical-align: top;\n",
       "    }\n",
       "\n",
       "    .dataframe thead th {\n",
       "        text-align: right;\n",
       "    }\n",
       "</style>\n",
       "<table border=\"1\" class=\"dataframe\">\n",
       "  <thead>\n",
       "    <tr style=\"text-align: right;\">\n",
       "      <th></th>\n",
       "      <th>...1</th>\n",
       "      <th>cg09809672</th>\n",
       "      <th>cg22736354</th>\n",
       "      <th>cg02228185</th>\n",
       "      <th>cg01820374</th>\n",
       "      <th>cg06493994</th>\n",
       "      <th>cg19761273</th>\n",
       "      <th>gender</th>\n",
       "      <th>age</th>\n",
       "    </tr>\n",
       "  </thead>\n",
       "  <tbody>\n",
       "    <tr>\n",
       "      <th>0</th>\n",
       "      <td>GSM507152</td>\n",
       "      <td>0.392464</td>\n",
       "      <td>0.281630</td>\n",
       "      <td>0.352591</td>\n",
       "      <td>0.315924</td>\n",
       "      <td>0.111604</td>\n",
       "      <td>0.211683</td>\n",
       "      <td>1</td>\n",
       "      <td>71.06</td>\n",
       "    </tr>\n",
       "    <tr>\n",
       "      <th>1</th>\n",
       "      <td>GSM507153</td>\n",
       "      <td>0.377919</td>\n",
       "      <td>0.238900</td>\n",
       "      <td>0.520396</td>\n",
       "      <td>0.323641</td>\n",
       "      <td>0.127965</td>\n",
       "      <td>0.184307</td>\n",
       "      <td>1</td>\n",
       "      <td>69.65</td>\n",
       "    </tr>\n",
       "    <tr>\n",
       "      <th>2</th>\n",
       "      <td>GSM507154</td>\n",
       "      <td>0.458522</td>\n",
       "      <td>0.204078</td>\n",
       "      <td>0.519273</td>\n",
       "      <td>0.363714</td>\n",
       "      <td>0.119891</td>\n",
       "      <td>0.215067</td>\n",
       "      <td>1</td>\n",
       "      <td>65.79</td>\n",
       "    </tr>\n",
       "    <tr>\n",
       "      <th>3</th>\n",
       "      <td>GSM507155</td>\n",
       "      <td>0.479108</td>\n",
       "      <td>0.154893</td>\n",
       "      <td>0.618859</td>\n",
       "      <td>0.493972</td>\n",
       "      <td>0.088941</td>\n",
       "      <td>0.240057</td>\n",
       "      <td>1</td>\n",
       "      <td>49.39</td>\n",
       "    </tr>\n",
       "    <tr>\n",
       "      <th>4</th>\n",
       "      <td>GSM507156</td>\n",
       "      <td>0.418763</td>\n",
       "      <td>0.217832</td>\n",
       "      <td>0.561005</td>\n",
       "      <td>0.398580</td>\n",
       "      <td>0.085992</td>\n",
       "      <td>0.207462</td>\n",
       "      <td>1</td>\n",
       "      <td>60.68</td>\n",
       "    </tr>\n",
       "  </tbody>\n",
       "</table>\n",
       "</div>"
      ],
      "text/plain": [
       "        ...1  cg09809672  cg22736354  cg02228185  cg01820374  cg06493994  \\\n",
       "0  GSM507152    0.392464    0.281630    0.352591    0.315924    0.111604   \n",
       "1  GSM507153    0.377919    0.238900    0.520396    0.323641    0.127965   \n",
       "2  GSM507154    0.458522    0.204078    0.519273    0.363714    0.119891   \n",
       "3  GSM507155    0.479108    0.154893    0.618859    0.493972    0.088941   \n",
       "4  GSM507156    0.418763    0.217832    0.561005    0.398580    0.085992   \n",
       "\n",
       "   cg19761273  gender    age  \n",
       "0    0.211683       1  71.06  \n",
       "1    0.184307       1  69.65  \n",
       "2    0.215067       1  65.79  \n",
       "3    0.240057       1  49.39  \n",
       "4    0.207462       1  60.68  "
      ]
     },
     "execution_count": 2,
     "metadata": {},
     "output_type": "execute_result"
    }
   ],
   "source": [
    "# Loading methylation dataset using Pandas\n",
    "path = \"./Healthy_Methylation_Dataset.csv\"\n",
    "healthy_df = pd.read_csv(path)\n",
    "healthy_df.head()"
   ]
  },
  {
   "cell_type": "code",
   "execution_count": 3,
   "metadata": {},
   "outputs": [
    {
     "data": {
      "text/html": [
       "<div>\n",
       "<style scoped>\n",
       "    .dataframe tbody tr th:only-of-type {\n",
       "        vertical-align: middle;\n",
       "    }\n",
       "\n",
       "    .dataframe tbody tr th {\n",
       "        vertical-align: top;\n",
       "    }\n",
       "\n",
       "    .dataframe thead th {\n",
       "        text-align: right;\n",
       "    }\n",
       "</style>\n",
       "<table border=\"1\" class=\"dataframe\">\n",
       "  <thead>\n",
       "    <tr style=\"text-align: right;\">\n",
       "      <th></th>\n",
       "      <th>cg09809672</th>\n",
       "      <th>cg22736354</th>\n",
       "      <th>cg02228185</th>\n",
       "      <th>cg01820374</th>\n",
       "      <th>cg06493994</th>\n",
       "      <th>cg19761273</th>\n",
       "      <th>gender</th>\n",
       "      <th>age</th>\n",
       "    </tr>\n",
       "  </thead>\n",
       "  <tbody>\n",
       "    <tr>\n",
       "      <th>count</th>\n",
       "      <td>1433.000000</td>\n",
       "      <td>1433.000000</td>\n",
       "      <td>1432.000000</td>\n",
       "      <td>1433.000000</td>\n",
       "      <td>1433.000000</td>\n",
       "      <td>1433.000000</td>\n",
       "      <td>1440.000000</td>\n",
       "      <td>1342.000000</td>\n",
       "    </tr>\n",
       "    <tr>\n",
       "      <th>mean</th>\n",
       "      <td>0.643915</td>\n",
       "      <td>-0.034537</td>\n",
       "      <td>0.707461</td>\n",
       "      <td>0.469240</td>\n",
       "      <td>-0.126709</td>\n",
       "      <td>0.190323</td>\n",
       "      <td>0.398611</td>\n",
       "      <td>16.876972</td>\n",
       "    </tr>\n",
       "    <tr>\n",
       "      <th>std</th>\n",
       "      <td>0.182962</td>\n",
       "      <td>0.631238</td>\n",
       "      <td>0.181514</td>\n",
       "      <td>0.249634</td>\n",
       "      <td>0.818831</td>\n",
       "      <td>0.429598</td>\n",
       "      <td>0.489782</td>\n",
       "      <td>20.195080</td>\n",
       "    </tr>\n",
       "    <tr>\n",
       "      <th>min</th>\n",
       "      <td>-0.142805</td>\n",
       "      <td>-3.426375</td>\n",
       "      <td>0.249870</td>\n",
       "      <td>-0.652701</td>\n",
       "      <td>-3.671870</td>\n",
       "      <td>-1.865495</td>\n",
       "      <td>0.000000</td>\n",
       "      <td>0.000000</td>\n",
       "    </tr>\n",
       "    <tr>\n",
       "      <th>25%</th>\n",
       "      <td>0.508143</td>\n",
       "      <td>0.063395</td>\n",
       "      <td>0.634600</td>\n",
       "      <td>0.369900</td>\n",
       "      <td>0.038618</td>\n",
       "      <td>0.220460</td>\n",
       "      <td>0.000000</td>\n",
       "      <td>0.000000</td>\n",
       "    </tr>\n",
       "    <tr>\n",
       "      <th>50%</th>\n",
       "      <td>0.649500</td>\n",
       "      <td>0.093690</td>\n",
       "      <td>0.716848</td>\n",
       "      <td>0.500220</td>\n",
       "      <td>0.056750</td>\n",
       "      <td>0.295079</td>\n",
       "      <td>0.000000</td>\n",
       "      <td>9.250000</td>\n",
       "    </tr>\n",
       "    <tr>\n",
       "      <th>75%</th>\n",
       "      <td>0.819000</td>\n",
       "      <td>0.192362</td>\n",
       "      <td>0.791519</td>\n",
       "      <td>0.610516</td>\n",
       "      <td>0.112080</td>\n",
       "      <td>0.369000</td>\n",
       "      <td>1.000000</td>\n",
       "      <td>26.000000</td>\n",
       "    </tr>\n",
       "    <tr>\n",
       "      <th>max</th>\n",
       "      <td>0.981229</td>\n",
       "      <td>0.460100</td>\n",
       "      <td>1.836750</td>\n",
       "      <td>0.946000</td>\n",
       "      <td>0.308694</td>\n",
       "      <td>0.809860</td>\n",
       "      <td>1.000000</td>\n",
       "      <td>76.498290</td>\n",
       "    </tr>\n",
       "  </tbody>\n",
       "</table>\n",
       "</div>"
      ],
      "text/plain": [
       "        cg09809672   cg22736354   cg02228185   cg01820374   cg06493994  \\\n",
       "count  1433.000000  1433.000000  1432.000000  1433.000000  1433.000000   \n",
       "mean      0.643915    -0.034537     0.707461     0.469240    -0.126709   \n",
       "std       0.182962     0.631238     0.181514     0.249634     0.818831   \n",
       "min      -0.142805    -3.426375     0.249870    -0.652701    -3.671870   \n",
       "25%       0.508143     0.063395     0.634600     0.369900     0.038618   \n",
       "50%       0.649500     0.093690     0.716848     0.500220     0.056750   \n",
       "75%       0.819000     0.192362     0.791519     0.610516     0.112080   \n",
       "max       0.981229     0.460100     1.836750     0.946000     0.308694   \n",
       "\n",
       "        cg19761273       gender          age  \n",
       "count  1433.000000  1440.000000  1342.000000  \n",
       "mean      0.190323     0.398611    16.876972  \n",
       "std       0.429598     0.489782    20.195080  \n",
       "min      -1.865495     0.000000     0.000000  \n",
       "25%       0.220460     0.000000     0.000000  \n",
       "50%       0.295079     0.000000     9.250000  \n",
       "75%       0.369000     1.000000    26.000000  \n",
       "max       0.809860     1.000000    76.498290  "
      ]
     },
     "execution_count": 3,
     "metadata": {},
     "output_type": "execute_result"
    }
   ],
   "source": [
    "healthy_df.describe()"
   ]
  },
  {
   "cell_type": "markdown",
   "metadata": {},
   "source": [
    "Here we first shuffle our dataset to remove any confounding factors that may exist as a result of the ordering of the dataset, such as an inappropriate train-test split. We also reset the indices after the shuffling, and drop all rows with missing values (or NaNs)."
   ]
  },
  {
   "cell_type": "code",
   "execution_count": 4,
   "metadata": {
    "colab": {
     "base_uri": "https://localhost:8080/",
     "height": 204
    },
    "id": "L_E6RlCIrMtB",
    "outputId": "6859b7dd-b0f0-4b8d-87c4-3da87b0c4f8c"
   },
   "outputs": [
    {
     "data": {
      "text/html": [
       "<div>\n",
       "<style scoped>\n",
       "    .dataframe tbody tr th:only-of-type {\n",
       "        vertical-align: middle;\n",
       "    }\n",
       "\n",
       "    .dataframe tbody tr th {\n",
       "        vertical-align: top;\n",
       "    }\n",
       "\n",
       "    .dataframe thead th {\n",
       "        text-align: right;\n",
       "    }\n",
       "</style>\n",
       "<table border=\"1\" class=\"dataframe\">\n",
       "  <thead>\n",
       "    <tr style=\"text-align: right;\">\n",
       "      <th></th>\n",
       "      <th>cg09809672</th>\n",
       "      <th>cg22736354</th>\n",
       "      <th>cg02228185</th>\n",
       "      <th>cg01820374</th>\n",
       "      <th>cg06493994</th>\n",
       "      <th>cg19761273</th>\n",
       "      <th>gender</th>\n",
       "      <th>age</th>\n",
       "    </tr>\n",
       "  </thead>\n",
       "  <tbody>\n",
       "    <tr>\n",
       "      <th>0</th>\n",
       "      <td>0.664730</td>\n",
       "      <td>0.232440</td>\n",
       "      <td>0.786340</td>\n",
       "      <td>0.437130</td>\n",
       "      <td>0.204710</td>\n",
       "      <td>0.385560</td>\n",
       "      <td>0</td>\n",
       "      <td>16.000000</td>\n",
       "    </tr>\n",
       "    <tr>\n",
       "      <th>1</th>\n",
       "      <td>0.761120</td>\n",
       "      <td>0.217750</td>\n",
       "      <td>0.877030</td>\n",
       "      <td>0.462410</td>\n",
       "      <td>0.156890</td>\n",
       "      <td>0.399700</td>\n",
       "      <td>0</td>\n",
       "      <td>4.916667</td>\n",
       "    </tr>\n",
       "    <tr>\n",
       "      <th>2</th>\n",
       "      <td>0.630100</td>\n",
       "      <td>0.081750</td>\n",
       "      <td>0.713800</td>\n",
       "      <td>0.532160</td>\n",
       "      <td>0.069550</td>\n",
       "      <td>0.340250</td>\n",
       "      <td>0</td>\n",
       "      <td>8.000000</td>\n",
       "    </tr>\n",
       "    <tr>\n",
       "      <th>3</th>\n",
       "      <td>0.305637</td>\n",
       "      <td>0.246124</td>\n",
       "      <td>0.412507</td>\n",
       "      <td>0.315123</td>\n",
       "      <td>0.070135</td>\n",
       "      <td>0.237811</td>\n",
       "      <td>1</td>\n",
       "      <td>72.580000</td>\n",
       "    </tr>\n",
       "    <tr>\n",
       "      <th>4</th>\n",
       "      <td>0.731670</td>\n",
       "      <td>0.073200</td>\n",
       "      <td>0.695460</td>\n",
       "      <td>0.489000</td>\n",
       "      <td>0.044580</td>\n",
       "      <td>0.340070</td>\n",
       "      <td>0</td>\n",
       "      <td>7.083333</td>\n",
       "    </tr>\n",
       "  </tbody>\n",
       "</table>\n",
       "</div>"
      ],
      "text/plain": [
       "   cg09809672  cg22736354  cg02228185  cg01820374  cg06493994  cg19761273  \\\n",
       "0    0.664730    0.232440    0.786340    0.437130    0.204710    0.385560   \n",
       "1    0.761120    0.217750    0.877030    0.462410    0.156890    0.399700   \n",
       "2    0.630100    0.081750    0.713800    0.532160    0.069550    0.340250   \n",
       "3    0.305637    0.246124    0.412507    0.315123    0.070135    0.237811   \n",
       "4    0.731670    0.073200    0.695460    0.489000    0.044580    0.340070   \n",
       "\n",
       "   gender        age  \n",
       "0       0  16.000000  \n",
       "1       0   4.916667  \n",
       "2       0   8.000000  \n",
       "3       1  72.580000  \n",
       "4       0   7.083333  "
      ]
     },
     "execution_count": 4,
     "metadata": {},
     "output_type": "execute_result"
    }
   ],
   "source": [
    "# Shuffle dataframe to randomize data order, possibly preventing confounding factors\n",
    "healthy_df = shuffle(healthy_df)\n",
    "healthy_df.reset_index(inplace=True, drop=True)\n",
    "\n",
    "# Remove patient ID column\n",
    "healthy_df = healthy_df.drop(['...1'], axis=1)\n",
    "\n",
    "# Drop all rows with NaN values\n",
    "healthy_df = healthy_df.dropna()\n",
    "\n",
    "healthy_df.head()"
   ]
  },
  {
   "cell_type": "code",
   "execution_count": 5,
   "metadata": {
    "colab": {
     "base_uri": "https://localhost:8080/"
    },
    "id": "iE4Dhyvy5EuR",
    "outputId": "2f931de1-db35-4ffd-b84a-178a2736b71c"
   },
   "outputs": [
    {
     "data": {
      "text/plain": [
       "(array([], dtype=int64), array([], dtype=int64))"
      ]
     },
     "execution_count": 5,
     "metadata": {},
     "output_type": "execute_result"
    }
   ],
   "source": [
    "# Checking if there are any remaining NaNs in the dataset\n",
    "np.where(pd.isnull(healthy_df))"
   ]
  },
  {
   "cell_type": "markdown",
   "metadata": {},
   "source": [
    "Below, we plot the correlation matrix, or heatmap, to compare the variables. As can be seen in the lowest row (labelled age),  the methylation sites that might be the best predictors of age (the most strongly correlated, whether negative or positive) are cg09809672, cg01820374, and cg19761273.\n",
    "We also see that gender seems to have a positive positive correlation with age. This suggests a possible confounding factor that may arise as a result of the dataset, since it seems that the females in the dataset (labelled as 1) are older than the males (labelled 0)."
   ]
  },
  {
   "cell_type": "code",
   "execution_count": 6,
   "metadata": {
    "colab": {
     "base_uri": "https://localhost:8080/",
     "height": 501
    },
    "id": "rilLSJs38tth",
    "outputId": "6c4560c8-c965-4195-e908-3461498e2528"
   },
   "outputs": [
    {
     "data": {
      "image/png": "[encoded data removed]",
      "text/plain": [
       "<Figure size 576x576 with 2 Axes>"
      ]
     },
     "metadata": {
      "needs_background": "light"
     },
     "output_type": "display_data"
    }
   ],
   "source": [
    "# Plot correlation matrix, or heatmap, to compare variables. As can \n",
    "# be seen in the lowest row (labelled age), the methylation sites\n",
    "# that might act as the best predictors of age are cg09809672,\n",
    "# cg01820374, and cg19761273.\n",
    "import seaborn as sb\n",
    "C_mat = healthy_df.corr()\n",
    "fig = plt.figure(figsize = (8,8))\n",
    "\n",
    "sb.heatmap(C_mat, vmax=1, square=True)\n",
    "plt.show()"
   ]
  },
  {
   "cell_type": "code",
   "execution_count": 7,
   "metadata": {
    "id": "1fSlC6Zav0Jq"
   },
   "outputs": [],
   "source": [
    "# Normalizing the methylation and gender data with a Standard Scaler.\n",
    "X = healthy_df[['cg09809672', 'cg22736354', 'cg02228185', 'cg01820374', 'cg06493994', 'cg19761273', 'gender']]\n",
    "std_scaler = StandardScaler()\n",
    "std_scaler\n",
    "\n",
    "# Separating X vs. y dataframes\n",
    "X_std = pd.DataFrame(std_scaler.fit_transform(X), columns=X.columns)\n",
    "y = healthy_df['age']"
   ]
  },
  {
   "cell_type": "code",
   "execution_count": 8,
   "metadata": {
    "id": "GfzLUnz23NBr"
   },
   "outputs": [],
   "source": [
    "# Separating dataset into train and test subsets\n",
    "X_train, X_test, y_train, y_test = train_test_split(X, y, test_size = 0.33, random_state = 42)"
   ]
  },
  {
   "cell_type": "markdown",
   "metadata": {},
   "source": [
    "# Training the Models"
   ]
  },
  {
   "cell_type": "markdown",
   "metadata": {},
   "source": [
    "## Linear Regression Model"
   ]
  },
  {
   "cell_type": "markdown",
   "metadata": {},
   "source": [
    "Based on the score and predictions printed below, we see that the linear regression model is only somewhate capable of accurately predicting the age of an individual using the methylation levels inputted, with roughly 75% testing accuracy (varies with each run)."
   ]
  },
  {
   "cell_type": "code",
   "execution_count": 9,
   "metadata": {
    "colab": {
     "base_uri": "https://localhost:8080/"
    },
    "id": "tKnDAEiN0laa",
    "outputId": "e9a0a152-ffe3-47f1-94d2-1704ea31bf1a"
   },
   "outputs": [
    {
     "name": "stdout",
     "output_type": "stream",
     "text": [
      "0.7688030974438016\n"
     ]
    }
   ],
   "source": [
    "# Training the multivariate linear regression model\n",
    "linear_regressor = linear_model.LinearRegression()\n",
    "linear_regressor.fit(X_train, y_train)\n",
    "\n",
    "# Accuracy on the testing set\n",
    "print(linear_regressor.score(X_test, y_test))"
   ]
  },
  {
   "cell_type": "code",
   "execution_count": 10,
   "metadata": {},
   "outputs": [
    {
     "name": "stdout",
     "output_type": "stream",
     "text": [
      "Prediction: 47.72732399894276 \tActual: 62.75428\n",
      "Prediction: 48.03760347195022 \tActual: 54.551680000000005\n",
      "Prediction: 54.95587535235778 \tActual: 28.0\n",
      "Prediction: 8.604857980745521 \tActual: 4.166666667\n",
      "Prediction: 49.17716720430526 \tActual: 44.0\n",
      "Prediction: 0.0005453884303250334 \tActual: 0.0\n",
      "Prediction: 9.802658102869884 \tActual: 5.666666667\n",
      "Prediction: 7.950791333972575 \tActual: 4.083333333\n",
      "Prediction: 0.0 \tActual: 0.0\n",
      "Prediction: 0.0 \tActual: 0.0\n"
     ]
    }
   ],
   "source": [
    "predictions = linear_regressor.predict(X_test)\n",
    "\n",
    "# Since age cannot be negative, changing all negative predictions to age 0\n",
    "for n, element in enumerate(predictions):\n",
    "    if element < 0:\n",
    "        predictions[n] = 0\n",
    "\n",
    "# Looking at sample predictions for the testing set\n",
    "for i in range(0, 10):\n",
    "    print(\"Prediction:\", predictions[i], \"\\tActual:\", y_test.iloc[i])"
   ]
  },
  {
   "cell_type": "markdown",
   "metadata": {},
   "source": [
    "## Random Forest Regression Model"
   ]
  },
  {
   "cell_type": "markdown",
   "metadata": {},
   "source": [
    "Looking at the score for the model below, we can see that the Random Forest Regressor model is quite accurate at predicting an individual's age using their methylation data, with roughly 92% testing accuracy (varies with each run)."
   ]
  },
  {
   "cell_type": "code",
   "execution_count": 11,
   "metadata": {
    "colab": {
     "base_uri": "https://localhost:8080/"
    },
    "id": "g8OmmVp26I0_",
    "outputId": "c1802164-a8d4-4732-ddd6-42800ea20121"
   },
   "outputs": [
    {
     "name": "stdout",
     "output_type": "stream",
     "text": [
      "0.9301906568388421\n"
     ]
    }
   ],
   "source": [
    "# Building and training the Random Forest Regressor model\n",
    "from sklearn.ensemble import RandomForestRegressor\n",
    "\n",
    "# Optimal value for n_estimators was determined by trial and error, comparing the score for each trial\n",
    "random_forest_regressor = RandomForestRegressor(n_estimators = 17, random_state = 0)\n",
    "random_forest_regressor.fit(X_train, y_train)\n",
    "\n",
    "# Accuracy on the testing set\n",
    "print(random_forest_regressor.score(X_test, y_test))"
   ]
  },
  {
   "cell_type": "code",
   "execution_count": 12,
   "metadata": {
    "colab": {
     "base_uri": "https://localhost:8080/"
    },
    "id": "Ma-f_TYmVIQo",
    "outputId": "3bae1b06-a16f-49bf-ab39-654cad0ea596"
   },
   "outputs": [
    {
     "name": "stdout",
     "output_type": "stream",
     "text": [
      "Prediction: 60.441115882352946 \tActual: 62.75428\n",
      "Prediction: 60.36734999999999 \tActual: 54.551680000000005\n",
      "Prediction: 45.80450980411765 \tActual: 28.0\n",
      "Prediction: 5.553921568705882 \tActual: 4.166666667\n",
      "Prediction: 44.646971176470586 \tActual: 44.0\n",
      "Prediction: 0.0 \tActual: 0.0\n",
      "Prediction: 7.274509803647058 \tActual: 5.666666667\n",
      "Prediction: 6.4215686271764705 \tActual: 4.083333333\n",
      "Prediction: 0.0 \tActual: 0.0\n",
      "Prediction: 0.181372549 \tActual: 0.0\n"
     ]
    }
   ],
   "source": [
    "predictions = random_forest_regressor.predict(X_test)\n",
    "\n",
    "# Since age cannot be negative, changing all negative predictions to age 0\n",
    "for n, element in enumerate(predictions):\n",
    "    if element < 0:\n",
    "        predictions[n] = 0\n",
    "\n",
    "# Looking at sample predictions for the testing set\n",
    "for i in range(0, 10):\n",
    "  print(\"Prediction:\", predictions[i],\"\\tActual:\", y_test.iloc[i])"
   ]
  },
  {
   "cell_type": "markdown",
   "metadata": {},
   "source": [
    "## Gradient Boosting Regression Model"
   ]
  },
  {
   "cell_type": "markdown",
   "metadata": {},
   "source": [
    "Looking at the two code blocks below, we see that the Gradient Boosting Regressor model, though not as accurate as the Random Forest Regressor, is still fairly accurate at generating the predictions using the data given, with roughly 86% accuracy on the testing set (varies with each run)."
   ]
  },
  {
   "cell_type": "code",
   "execution_count": 13,
   "metadata": {},
   "outputs": [
    {
     "name": "stdout",
     "output_type": "stream",
     "text": [
      "0.8590492603783062\n"
     ]
    }
   ],
   "source": [
    "# Building and training the Gradient Boosting Regressor model\n",
    "from sklearn.ensemble import GradientBoostingRegressor\n",
    "\n",
    "# The values of n_estimators, max_depth, and learning_rate were determined by trial and error,\n",
    "# to obtain the obtimal values shown below.\n",
    "params = {'n_estimators':3, 'max_depth':3, 'learning_rate': 1, 'criterion': 'mse'}\n",
    "\n",
    "gradient_boosting_regressor = GradientBoostingRegressor(**params)\n",
    "gradient_boosting_regressor.fit(X_train, y_train)\n",
    "\n",
    "print(gradient_boosting_regressor.score(X_test, y_test))"
   ]
  },
  {
   "cell_type": "code",
   "execution_count": 14,
   "metadata": {},
   "outputs": [
    {
     "name": "stdout",
     "output_type": "stream",
     "text": [
      "Prediction: 64.08599554406518 \tActual: 62.75428\n",
      "Prediction: 66.05897277204045 \tActual: 54.551680000000005\n",
      "Prediction: 35.35789682177474 \tActual: 28.0\n",
      "Prediction: 7.032895678696306 \tActual: 4.166666667\n",
      "Prediction: 61.98301230349228 \tActual: 44.0\n",
      "Prediction: 0.0 \tActual: 0.0\n",
      "Prediction: 10.76967046925835 \tActual: 5.666666667\n",
      "Prediction: 10.76967046925835 \tActual: 4.083333333\n",
      "Prediction: 0.0 \tActual: 0.0\n",
      "Prediction: 0.8061334187355035 \tActual: 0.0\n"
     ]
    }
   ],
   "source": [
    "predictions = gradient_boosting_regressor.predict(X_test)\n",
    "for i in range(0, 10):\n",
    "    if predictions[i] < 0:\n",
    "        predictions[i] = 0\n",
    "    print(\"Prediction:\", predictions[i],\"\\tActual:\", y_test.iloc[i])"
   ]
  },
  {
   "cell_type": "markdown",
   "metadata": {},
   "source": [
    "## Regressive Neural Network"
   ]
  },
  {
   "cell_type": "code",
   "execution_count": 15,
   "metadata": {
    "colab": {
     "base_uri": "https://localhost:8080/"
    },
    "id": "9tHfs4Qw9zrU",
    "outputId": "0d8f17bf-7835-4aa6-e61c-acbfd78ca46e"
   },
   "outputs": [
    {
     "name": "stdout",
     "output_type": "stream",
     "text": [
      "Model: \"sequential\"\n",
      "_________________________________________________________________\n",
      "Layer (type)                 Output Shape              Param #   \n",
      "=================================================================\n",
      "dense (Dense)                (None, 128)               1024      \n",
      "_________________________________________________________________\n",
      "dense_1 (Dense)              (None, 256)               33024     \n",
      "_________________________________________________________________\n",
      "dense_2 (Dense)              (None, 256)               65792     \n",
      "_________________________________________________________________\n",
      "dense_3 (Dense)              (None, 256)               65792     \n",
      "_________________________________________________________________\n",
      "dense_4 (Dense)              (None, 1)                 257       \n",
      "=================================================================\n",
      "Total params: 165,889\n",
      "Trainable params: 165,889\n",
      "Non-trainable params: 0\n",
      "_________________________________________________________________\n"
     ]
    }
   ],
   "source": [
    "import tensorflow as tf\n",
    "from keras.callbacks import ModelCheckpoint\n",
    "from keras.models import Sequential\n",
    "from keras.layers import Dense, Activation, Flatten\n",
    "\n",
    "# Creating the sequential neural network model\n",
    "NN_model = Sequential()\n",
    "\n",
    "# Input layer\n",
    "NN_model.add(Dense(128, kernel_initializer='normal', input_dim=X_train.shape[1], activation='relu'))\n",
    "\n",
    "# Hidden layers\n",
    "NN_model.add(Dense(256, kernel_initializer='normal', activation='relu'))\n",
    "NN_model.add(Dense(256, kernel_initializer='normal', activation='relu'))\n",
    "NN_model.add(Dense(256, kernel_initializer='normal', activation='relu'))\n",
    "\n",
    "# Output layer\n",
    "NN_model.add(Dense(1, kernel_initializer='normal', activation='linear'))\n",
    "\n",
    "\n",
    "# Compile NN\n",
    "NN_model.compile(loss='mean_absolute_error', optimizer='adam', metrics=['mean_absolute_error', 'accuracy'])\n",
    "NN_model.summary()"
   ]
  },
  {
   "cell_type": "markdown",
   "metadata": {},
   "source": [
    "As seen in the plots showing the accuracy and loss as the model continues training, or the evaluation in the very last block, the neural network is extremely poor at predicting an individual's age, with an accuracy of around 30% (varies with each run)."
   ]
  },
  {
   "cell_type": "code",
   "execution_count": 16,
   "metadata": {
    "colab": {
     "base_uri": "https://localhost:8080/"
    },
    "id": "sjqvn9peAOcY",
    "outputId": "706f36e2-80d9-4b88-cb4c-15e94f46e3db"
   },
   "outputs": [],
   "source": [
    "history = NN_model.fit(X_train, y_train, epochs=100, batch_size=32, validation_split = 0.2, verbose=0)"
   ]
  },
  {
   "cell_type": "code",
   "execution_count": 17,
   "metadata": {
    "id": "MyEioeZ2B8AA"
   },
   "outputs": [
    {
     "name": "stdout",
     "output_type": "stream",
     "text": [
      "dict_keys(['loss', 'mean_absolute_error', 'accuracy', 'val_loss', 'val_mean_absolute_error', 'val_accuracy'])\n"
     ]
    }
   ],
   "source": [
    "print(history.history.keys())"
   ]
  },
  {
   "cell_type": "code",
   "execution_count": 18,
   "metadata": {},
   "outputs": [
    {
     "data": {
      "image/png": "[encoded data removed]",
      "text/plain": [
       "<Figure size 432x288 with 1 Axes>"
      ]
     },
     "metadata": {
      "needs_background": "light"
     },
     "output_type": "display_data"
    }
   ],
   "source": [
    "plt.plot(history.history['accuracy'])\n",
    "plt.plot(history.history['val_accuracy'])\n",
    "plt.title('model accuracy')\n",
    "plt.ylabel('accuracy')\n",
    "plt.xlabel('epoch')\n",
    "plt.legend(['train', 'test'], loc='upper left')\n",
    "plt.show()"
   ]
  },
  {
   "cell_type": "code",
   "execution_count": 19,
   "metadata": {},
   "outputs": [
    {
     "data": {
      "image/png": "[encoded data removed]",
      "text/plain": [
       "<Figure size 432x288 with 1 Axes>"
      ]
     },
     "metadata": {
      "needs_background": "light"
     },
     "output_type": "display_data"
    }
   ],
   "source": [
    "plt.plot(history.history['loss'])\n",
    "plt.plot(history.history['val_loss'])\n",
    "plt.title('model loss')\n",
    "plt.ylabel('loss')\n",
    "plt.xlabel('epoch')\n",
    "plt.legend(['train', 'test'], loc='upper left')\n",
    "plt.show()"
   ]
  },
  {
   "cell_type": "code",
   "execution_count": 20,
   "metadata": {
    "colab": {
     "base_uri": "https://localhost:8080/"
    },
    "id": "vxuU6KZyAWbg",
    "outputId": "b37e7d5a-5457-41e4-ac6e-ccf35794c3ef"
   },
   "outputs": [
    {
     "name": "stdout",
     "output_type": "stream",
     "text": [
      "14/14 [==============================] - 0s 1ms/step - loss: 2.9464 - mean_absolute_error: 2.9464 - accuracy: 0.3016\n",
      "Test loss: 2.946436882019043\n",
      "Test accuracy: 0.30158731341362\n"
     ]
    }
   ],
   "source": [
    "evaluation = NN_model.evaluate(X_test, y_test, batch_size=32)\n",
    "loss = evaluation[0]\n",
    "acc = evaluation[2]\n",
    "print(\"Test loss:\", loss)\n",
    "print(\"Test accuracy:\", acc)"
   ]
  },
  {
   "cell_type": "markdown",
   "metadata": {},
   "source": [
    "## Conclusion\n",
    "With the code seen above, we conclude that the Random Forest Regression model is the best model of the four, and is able to fairly accurately predict an individual's age using their methylation levels at the 6 sites. Not far behind in accuracy is the Gradient Boosting model. The Linear Regression model is not as accurately able to predict the age, but is still able to do so much much more accurately than the neural network, which was only able to achieve a testing accuracy of roughly 30%, and validation accuracy ranging from 30-35%."
   ]
  },
  {
   "cell_type": "markdown",
   "metadata": {},
   "source": [
    "# Testing on Diseased Patients"
   ]
  },
  {
   "cell_type": "markdown",
   "metadata": {},
   "source": [
    "Some of the models developed above are capable of accurately predicting the age of healthy individuals based on their methylation levels. However, if biological age is really a marker of one's health, then it should be expected that unhealthy individuals (or diseased individuals) should display methylation levels corresponding with a worse biological age. To test this, we import a small dataset (GSE20067) of around 195 diseased patients (194 after eliminating NaNs) and use the Random Forest Regressor (the best model in the previous dataset) to compare the predicted biological age to their actual chronological age. \n",
    "\n",
    "Note: The dataset itself is made up of Irish patients suffering from type 1 diabetes (T1D), which is caused by a dysfunctional pancreas that produces little or no insulin. Find out more about T1D here: [Type 1 Diabetes](https://www.mayoclinic.org/diseases-conditions/type-1-diabetes/symptoms-causes/syc-20353011)."
   ]
  },
  {
   "cell_type": "code",
   "execution_count": 21,
   "metadata": {},
   "outputs": [
    {
     "data": {
      "text/html": [
       "<div>\n",
       "<style scoped>\n",
       "    .dataframe tbody tr th:only-of-type {\n",
       "        vertical-align: middle;\n",
       "    }\n",
       "\n",
       "    .dataframe tbody tr th {\n",
       "        vertical-align: top;\n",
       "    }\n",
       "\n",
       "    .dataframe thead th {\n",
       "        text-align: right;\n",
       "    }\n",
       "</style>\n",
       "<table border=\"1\" class=\"dataframe\">\n",
       "  <thead>\n",
       "    <tr style=\"text-align: right;\">\n",
       "      <th></th>\n",
       "      <th>Unnamed: 0</th>\n",
       "      <th>cg09809672</th>\n",
       "      <th>cg22736354</th>\n",
       "      <th>cg02228185</th>\n",
       "      <th>cg01820374</th>\n",
       "      <th>cg06493994</th>\n",
       "      <th>cg19761273</th>\n",
       "      <th>gender</th>\n",
       "      <th>age</th>\n",
       "    </tr>\n",
       "  </thead>\n",
       "  <tbody>\n",
       "    <tr>\n",
       "      <th>0</th>\n",
       "      <td>GSM501487</td>\n",
       "      <td>0.464046</td>\n",
       "      <td>0.124111</td>\n",
       "      <td>0.523125</td>\n",
       "      <td>0.504438</td>\n",
       "      <td>0.072193</td>\n",
       "      <td>0.260505</td>\n",
       "      <td>1</td>\n",
       "      <td>17</td>\n",
       "    </tr>\n",
       "    <tr>\n",
       "      <th>1</th>\n",
       "      <td>GSM501488</td>\n",
       "      <td>0.488148</td>\n",
       "      <td>0.097101</td>\n",
       "      <td>0.497576</td>\n",
       "      <td>0.399762</td>\n",
       "      <td>0.054484</td>\n",
       "      <td>0.210733</td>\n",
       "      <td>0</td>\n",
       "      <td>15</td>\n",
       "    </tr>\n",
       "    <tr>\n",
       "      <th>2</th>\n",
       "      <td>GSM501489</td>\n",
       "      <td>0.383598</td>\n",
       "      <td>0.159436</td>\n",
       "      <td>0.537074</td>\n",
       "      <td>0.256889</td>\n",
       "      <td>0.086804</td>\n",
       "      <td>0.179779</td>\n",
       "      <td>0</td>\n",
       "      <td>13</td>\n",
       "    </tr>\n",
       "    <tr>\n",
       "      <th>3</th>\n",
       "      <td>GSM501490</td>\n",
       "      <td>0.409324</td>\n",
       "      <td>0.147916</td>\n",
       "      <td>0.592664</td>\n",
       "      <td>0.367384</td>\n",
       "      <td>0.077439</td>\n",
       "      <td>0.230137</td>\n",
       "      <td>0</td>\n",
       "      <td>22</td>\n",
       "    </tr>\n",
       "    <tr>\n",
       "      <th>4</th>\n",
       "      <td>GSM501491</td>\n",
       "      <td>0.665320</td>\n",
       "      <td>0.146727</td>\n",
       "      <td>0.627873</td>\n",
       "      <td>0.420957</td>\n",
       "      <td>0.093538</td>\n",
       "      <td>0.216396</td>\n",
       "      <td>0</td>\n",
       "      <td>29</td>\n",
       "    </tr>\n",
       "  </tbody>\n",
       "</table>\n",
       "</div>"
      ],
      "text/plain": [
       "  Unnamed: 0  cg09809672  cg22736354  cg02228185  cg01820374  cg06493994  \\\n",
       "0  GSM501487    0.464046    0.124111    0.523125    0.504438    0.072193   \n",
       "1  GSM501488    0.488148    0.097101    0.497576    0.399762    0.054484   \n",
       "2  GSM501489    0.383598    0.159436    0.537074    0.256889    0.086804   \n",
       "3  GSM501490    0.409324    0.147916    0.592664    0.367384    0.077439   \n",
       "4  GSM501491    0.665320    0.146727    0.627873    0.420957    0.093538   \n",
       "\n",
       "   cg19761273  gender  age  \n",
       "0    0.260505       1   17  \n",
       "1    0.210733       0   15  \n",
       "2    0.179779       0   13  \n",
       "3    0.230137       0   22  \n",
       "4    0.216396       0   29  "
      ]
     },
     "execution_count": 21,
     "metadata": {},
     "output_type": "execute_result"
    }
   ],
   "source": [
    "path = \"./Subsets/Diseased/GSE20067.csv\"\n",
    "disease_df = pd.read_csv(path)\n",
    "disease_df.head()"
   ]
  },
  {
   "cell_type": "code",
   "execution_count": 22,
   "metadata": {},
   "outputs": [
    {
     "data": {
      "text/html": [
       "<div>\n",
       "<style scoped>\n",
       "    .dataframe tbody tr th:only-of-type {\n",
       "        vertical-align: middle;\n",
       "    }\n",
       "\n",
       "    .dataframe tbody tr th {\n",
       "        vertical-align: top;\n",
       "    }\n",
       "\n",
       "    .dataframe thead th {\n",
       "        text-align: right;\n",
       "    }\n",
       "</style>\n",
       "<table border=\"1\" class=\"dataframe\">\n",
       "  <thead>\n",
       "    <tr style=\"text-align: right;\">\n",
       "      <th></th>\n",
       "      <th>cg09809672</th>\n",
       "      <th>cg22736354</th>\n",
       "      <th>cg02228185</th>\n",
       "      <th>cg01820374</th>\n",
       "      <th>cg06493994</th>\n",
       "      <th>cg19761273</th>\n",
       "      <th>gender</th>\n",
       "      <th>age</th>\n",
       "    </tr>\n",
       "  </thead>\n",
       "  <tbody>\n",
       "    <tr>\n",
       "      <th>0</th>\n",
       "      <td>0.464046</td>\n",
       "      <td>0.124111</td>\n",
       "      <td>0.523125</td>\n",
       "      <td>0.504438</td>\n",
       "      <td>0.072193</td>\n",
       "      <td>0.260505</td>\n",
       "      <td>1</td>\n",
       "      <td>17</td>\n",
       "    </tr>\n",
       "    <tr>\n",
       "      <th>1</th>\n",
       "      <td>0.488148</td>\n",
       "      <td>0.097101</td>\n",
       "      <td>0.497576</td>\n",
       "      <td>0.399762</td>\n",
       "      <td>0.054484</td>\n",
       "      <td>0.210733</td>\n",
       "      <td>0</td>\n",
       "      <td>15</td>\n",
       "    </tr>\n",
       "    <tr>\n",
       "      <th>2</th>\n",
       "      <td>0.383598</td>\n",
       "      <td>0.159436</td>\n",
       "      <td>0.537074</td>\n",
       "      <td>0.256889</td>\n",
       "      <td>0.086804</td>\n",
       "      <td>0.179779</td>\n",
       "      <td>0</td>\n",
       "      <td>13</td>\n",
       "    </tr>\n",
       "    <tr>\n",
       "      <th>3</th>\n",
       "      <td>0.409324</td>\n",
       "      <td>0.147916</td>\n",
       "      <td>0.592664</td>\n",
       "      <td>0.367384</td>\n",
       "      <td>0.077439</td>\n",
       "      <td>0.230137</td>\n",
       "      <td>0</td>\n",
       "      <td>22</td>\n",
       "    </tr>\n",
       "    <tr>\n",
       "      <th>4</th>\n",
       "      <td>0.665320</td>\n",
       "      <td>0.146727</td>\n",
       "      <td>0.627873</td>\n",
       "      <td>0.420957</td>\n",
       "      <td>0.093538</td>\n",
       "      <td>0.216396</td>\n",
       "      <td>0</td>\n",
       "      <td>29</td>\n",
       "    </tr>\n",
       "  </tbody>\n",
       "</table>\n",
       "</div>"
      ],
      "text/plain": [
       "   cg09809672  cg22736354  cg02228185  cg01820374  cg06493994  cg19761273  \\\n",
       "0    0.464046    0.124111    0.523125    0.504438    0.072193    0.260505   \n",
       "1    0.488148    0.097101    0.497576    0.399762    0.054484    0.210733   \n",
       "2    0.383598    0.159436    0.537074    0.256889    0.086804    0.179779   \n",
       "3    0.409324    0.147916    0.592664    0.367384    0.077439    0.230137   \n",
       "4    0.665320    0.146727    0.627873    0.420957    0.093538    0.216396   \n",
       "\n",
       "   gender  age  \n",
       "0       1   17  \n",
       "1       0   15  \n",
       "2       0   13  \n",
       "3       0   22  \n",
       "4       0   29  "
      ]
     },
     "execution_count": 22,
     "metadata": {},
     "output_type": "execute_result"
    }
   ],
   "source": [
    "# Remove patient ID column\n",
    "disease_df = disease_df.drop(['Unnamed: 0'], axis=1)\n",
    "\n",
    "# Drop all rows with NaN values\n",
    "disease_df = disease_df.dropna()\n",
    "\n",
    "disease_df.head()"
   ]
  },
  {
   "cell_type": "code",
   "execution_count": 23,
   "metadata": {},
   "outputs": [],
   "source": [
    "disease_X = disease_df[['cg09809672', 'cg22736354', 'cg02228185', 'cg01820374', 'cg06493994', 'cg19761273', 'gender']]\n",
    "disease_Y = disease_df['age']\n",
    "\n",
    "disease_predictions = random_forest_regressor.predict(disease_X)"
   ]
  },
  {
   "cell_type": "code",
   "execution_count": 24,
   "metadata": {},
   "outputs": [
    {
     "data": {
      "image/png": "[encoded data removed]",
      "text/plain": [
       "<Figure size 432x288 with 1 Axes>"
      ]
     },
     "metadata": {
      "needs_background": "light"
     },
     "output_type": "display_data"
    }
   ],
   "source": [
    "plt.plot(disease_predictions)\n",
    "plt.plot(disease_Y)\n",
    "plt.title(\"Actual vs. Predicted Age for Small Set of Diseased Patients (GSE20067)\")\n",
    "plt.ylabel('Age')\n",
    "plt.legend(['Predicted Age', 'Actual Age'], loc='upper left')\n",
    "plt.show()"
   ]
  },
  {
   "cell_type": "markdown",
   "metadata": {},
   "source": [
    "## Conclusion\n",
    "As can be seen above, the predicted age (shown in blue) is generally much higher than the actual age (orange) of the diseased individual. This matches the expected results, since the high levels of biological damage associated with chronic conditions has been associated with a methylation pattern reflecting individuals older than the person themself.\n",
    "With this, we can conclude that the random forest regressor is quite accurate at predicting the biological age, and represents the correct trend with diseased individuals."
   ]
  }
 ],
 "metadata": {
  "colab": {
   "collapsed_sections": [],
   "name": "Epigenetic Clock",
   "provenance": []
  },
  "kernelspec": {
   "display_name": "Python 3",
   "language": "python",
   "name": "python3"
  },
  "language_info": {
   "codemirror_mode": {
    "name": "ipython",
    "version": 3
   },
   "file_extension": ".py",
   "mimetype": "text/x-python",
   "name": "python",
   "nbconvert_exporter": "python",
   "pygments_lexer": "ipython3",
   "version": "3.8.5"
  }
 },
 "nbformat": 4,
 "nbformat_minor": 1
}
