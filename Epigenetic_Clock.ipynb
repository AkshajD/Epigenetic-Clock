{
 "cells": [
  {
   "cell_type": "markdown",
   "metadata": {},
   "source": [
    "# Background\n",
    "Scientists define there to be two main types of age: chronological, and biological age. Chronological age is based on how long you have been alive (years since birth), whereas biological age is a rough estimate of how healthy your body is by measuring various different biomarkers. For more information on this, check out my recent article on biological age right here: [What is Biological Age?](https://medium.com/biotein/what-is-biological-age-383692f53e60)\n",
    "\n",
    "One way of determining biological age (as also described in the article) is to measure the methylation levels in your genome. At sites known as CpG sites, along your DNA, various proteins can add on or remove methyl groups, in order to control which genes are expressed into proteins, and which ones aren't. As you age, however, the systems responsible for maintaining this control of the genome begin to break down, leading to errors in methylation. As such, some sites begin to see an accumulation of methyl tags, while others have their tags removed, as you age.\n",
    "\n",
    "Dr. Steve Horvath, longevity researcher at University of California Los Angeles, used this progression to develop a system known as the Horvath aging clock, which is able to produce an accurate estimate of your biological age. For example, after analyzing the methylation levels in a sample of your cells, the clock might tell you that your biological age is around 30, which basically means that your methylation levels (and your body's health) is similar to the average 30-year-old. If your actual age is somewhere around 40, this means you are living a healthy life, whereas if you are only 20 years old, then this suggests that you are living an unhealthy life. This information thus equips people with the knowledge to take control of their lifestyle and live a healthy life."
   ]
  },
  {
   "cell_type": "markdown",
   "metadata": {},
   "source": [
    "# Brief Explanation of This Project\n",
    "In this project, I aim to somewhat replicate the epigenetic clock developed by Horvath, using methylation data taken from blood samples to predict an individual's age. The datasets and methylation sites chosen for this project were advised by the research paper titled [Human Age Prediction Based on DNA Methylation Using a Gradient Boosting Regressor](https://doi.org/10.3390/genes9090424).\n",
    "There are two notable differences between the paper and this code:\n",
    "1. Since this code also takes into account the gender of the patients whose methylation data is available, GSE30870, which does not contain gender information in the dataset, was removed from the sample.\n",
    "2. This notebook contains three different ML Regression algorithms and a Deep Neural Network, and compares the performance of each model on the training and testing dataset. The four models developed in this notebook are: Multivariable Linear Regression, Random Forest Regression, Gradient Boosting Regression, and a Deep Neural Network."
   ]
  },
  {
   "cell_type": "code",
   "execution_count": 1,
   "metadata": {
    "id": "mBv5xDQEqVJO"
   },
   "outputs": [],
   "source": [
    "# Imports\n",
    "import pandas as pd\n",
    "\n",
    "from sklearn.utils import shuffle\n",
    "from sklearn import preprocessing\n",
    "from sklearn.preprocessing import StandardScaler\n",
    "from sklearn import linear_model\n",
    "from sklearn.model_selection import train_test_split\n",
    "\n",
    "import matplotlib.pyplot as plt\n",
    "\n",
    "import numpy as np"
   ]
  },
  {
   "cell_type": "code",
   "execution_count": 2,
   "metadata": {
    "colab": {
     "base_uri": "https://localhost:8080/",
     "height": 204
    },
    "id": "0fnuC4Gaqa0a",
    "outputId": "77e351c3-67bb-4c68-800b-5376460fdbc2"
   },
   "outputs": [
    {
     "data": {
      "text/html": [
       "<div>\n",
       "<style scoped>\n",
       "    .dataframe tbody tr th:only-of-type {\n",
       "        vertical-align: middle;\n",
       "    }\n",
       "\n",
       "    .dataframe tbody tr th {\n",
       "        vertical-align: top;\n",
       "    }\n",
       "\n",
       "    .dataframe thead th {\n",
       "        text-align: right;\n",
       "    }\n",
       "</style>\n",
       "<table border=\"1\" class=\"dataframe\">\n",
       "  <thead>\n",
       "    <tr style=\"text-align: right;\">\n",
       "      <th></th>\n",
       "      <th>...1</th>\n",
       "      <th>cg09809672</th>\n",
       "      <th>cg22736354</th>\n",
       "      <th>cg02228185</th>\n",
       "      <th>cg01820374</th>\n",
       "      <th>cg06493994</th>\n",
       "      <th>cg19761273</th>\n",
       "      <th>gender</th>\n",
       "      <th>age</th>\n",
       "    </tr>\n",
       "  </thead>\n",
       "  <tbody>\n",
       "    <tr>\n",
       "      <th>0</th>\n",
       "      <td>GSM507152</td>\n",
       "      <td>0.392464</td>\n",
       "      <td>0.281630</td>\n",
       "      <td>0.352591</td>\n",
       "      <td>0.315924</td>\n",
       "      <td>0.111604</td>\n",
       "      <td>0.211683</td>\n",
       "      <td>1.0</td>\n",
       "      <td>71.06</td>\n",
       "    </tr>\n",
       "    <tr>\n",
       "      <th>1</th>\n",
       "      <td>GSM507153</td>\n",
       "      <td>0.377919</td>\n",
       "      <td>0.238900</td>\n",
       "      <td>0.520396</td>\n",
       "      <td>0.323641</td>\n",
       "      <td>0.127965</td>\n",
       "      <td>0.184307</td>\n",
       "      <td>1.0</td>\n",
       "      <td>69.65</td>\n",
       "    </tr>\n",
       "    <tr>\n",
       "      <th>2</th>\n",
       "      <td>GSM507154</td>\n",
       "      <td>0.458522</td>\n",
       "      <td>0.204078</td>\n",
       "      <td>0.519273</td>\n",
       "      <td>0.363714</td>\n",
       "      <td>0.119891</td>\n",
       "      <td>0.215067</td>\n",
       "      <td>1.0</td>\n",
       "      <td>65.79</td>\n",
       "    </tr>\n",
       "    <tr>\n",
       "      <th>3</th>\n",
       "      <td>GSM507155</td>\n",
       "      <td>0.479108</td>\n",
       "      <td>0.154893</td>\n",
       "      <td>0.618859</td>\n",
       "      <td>0.493972</td>\n",
       "      <td>0.088941</td>\n",
       "      <td>0.240057</td>\n",
       "      <td>1.0</td>\n",
       "      <td>49.39</td>\n",
       "    </tr>\n",
       "    <tr>\n",
       "      <th>4</th>\n",
       "      <td>GSM507156</td>\n",
       "      <td>0.418763</td>\n",
       "      <td>0.217832</td>\n",
       "      <td>0.561005</td>\n",
       "      <td>0.398580</td>\n",
       "      <td>0.085992</td>\n",
       "      <td>0.207462</td>\n",
       "      <td>1.0</td>\n",
       "      <td>60.68</td>\n",
       "    </tr>\n",
       "  </tbody>\n",
       "</table>\n",
       "</div>"
      ],
      "text/plain": [
       "        ...1  cg09809672  cg22736354  cg02228185  cg01820374  cg06493994  \\\n",
       "0  GSM507152    0.392464    0.281630    0.352591    0.315924    0.111604   \n",
       "1  GSM507153    0.377919    0.238900    0.520396    0.323641    0.127965   \n",
       "2  GSM507154    0.458522    0.204078    0.519273    0.363714    0.119891   \n",
       "3  GSM507155    0.479108    0.154893    0.618859    0.493972    0.088941   \n",
       "4  GSM507156    0.418763    0.217832    0.561005    0.398580    0.085992   \n",
       "\n",
       "   cg19761273  gender    age  \n",
       "0    0.211683     1.0  71.06  \n",
       "1    0.184307     1.0  69.65  \n",
       "2    0.215067     1.0  65.79  \n",
       "3    0.240057     1.0  49.39  \n",
       "4    0.207462     1.0  60.68  "
      ]
     },
     "execution_count": 2,
     "metadata": {},
     "output_type": "execute_result"
    }
   ],
   "source": [
    "# Loading methylation dataset using Pandas\n",
    "path = \"Enter your path here\"\n",
    "df = pd.read_csv(path)\n",
    "df.head()"
   ]
  },
  {
   "cell_type": "markdown",
   "metadata": {},
   "source": [
    "Here we first shuffle our dataset to remove any confounding factors that may exist as a result of the ordering of the dataset, such as an inappropriate train-test split."
   ]
  },
  {
   "cell_type": "code",
   "execution_count": 3,
   "metadata": {
    "colab": {
     "base_uri": "https://localhost:8080/",
     "height": 204
    },
    "id": "L_E6RlCIrMtB",
    "outputId": "6859b7dd-b0f0-4b8d-87c4-3da87b0c4f8c"
   },
   "outputs": [
    {
     "data": {
      "text/html": [
       "<div>\n",
       "<style scoped>\n",
       "    .dataframe tbody tr th:only-of-type {\n",
       "        vertical-align: middle;\n",
       "    }\n",
       "\n",
       "    .dataframe tbody tr th {\n",
       "        vertical-align: top;\n",
       "    }\n",
       "\n",
       "    .dataframe thead th {\n",
       "        text-align: right;\n",
       "    }\n",
       "</style>\n",
       "<table border=\"1\" class=\"dataframe\">\n",
       "  <thead>\n",
       "    <tr style=\"text-align: right;\">\n",
       "      <th></th>\n",
       "      <th>cg09809672</th>\n",
       "      <th>cg22736354</th>\n",
       "      <th>cg02228185</th>\n",
       "      <th>cg01820374</th>\n",
       "      <th>cg06493994</th>\n",
       "      <th>cg19761273</th>\n",
       "      <th>gender</th>\n",
       "      <th>age</th>\n",
       "    </tr>\n",
       "  </thead>\n",
       "  <tbody>\n",
       "    <tr>\n",
       "      <th>0</th>\n",
       "      <td>0.709000</td>\n",
       "      <td>0.085300</td>\n",
       "      <td>0.796000</td>\n",
       "      <td>0.704000</td>\n",
       "      <td>0.063700</td>\n",
       "      <td>0.327000</td>\n",
       "      <td>1.0</td>\n",
       "      <td>0.000000</td>\n",
       "    </tr>\n",
       "    <tr>\n",
       "      <th>1</th>\n",
       "      <td>0.893000</td>\n",
       "      <td>0.024700</td>\n",
       "      <td>0.820000</td>\n",
       "      <td>0.854000</td>\n",
       "      <td>0.022800</td>\n",
       "      <td>0.426000</td>\n",
       "      <td>1.0</td>\n",
       "      <td>0.000000</td>\n",
       "    </tr>\n",
       "    <tr>\n",
       "      <th>2</th>\n",
       "      <td>0.606990</td>\n",
       "      <td>0.075370</td>\n",
       "      <td>0.693870</td>\n",
       "      <td>0.525770</td>\n",
       "      <td>0.040520</td>\n",
       "      <td>0.271890</td>\n",
       "      <td>0.0</td>\n",
       "      <td>5.666667</td>\n",
       "    </tr>\n",
       "    <tr>\n",
       "      <th>3</th>\n",
       "      <td>0.444817</td>\n",
       "      <td>0.327044</td>\n",
       "      <td>0.762018</td>\n",
       "      <td>0.261705</td>\n",
       "      <td>0.269671</td>\n",
       "      <td>0.259167</td>\n",
       "      <td>1.0</td>\n",
       "      <td>58.587270</td>\n",
       "    </tr>\n",
       "    <tr>\n",
       "      <th>4</th>\n",
       "      <td>0.502900</td>\n",
       "      <td>0.071740</td>\n",
       "      <td>0.705690</td>\n",
       "      <td>0.508110</td>\n",
       "      <td>0.052470</td>\n",
       "      <td>0.246320</td>\n",
       "      <td>0.0</td>\n",
       "      <td>9.000000</td>\n",
       "    </tr>\n",
       "  </tbody>\n",
       "</table>\n",
       "</div>"
      ],
      "text/plain": [
       "   cg09809672  cg22736354  cg02228185  cg01820374  cg06493994  cg19761273  \\\n",
       "0    0.709000    0.085300    0.796000    0.704000    0.063700    0.327000   \n",
       "1    0.893000    0.024700    0.820000    0.854000    0.022800    0.426000   \n",
       "2    0.606990    0.075370    0.693870    0.525770    0.040520    0.271890   \n",
       "3    0.444817    0.327044    0.762018    0.261705    0.269671    0.259167   \n",
       "4    0.502900    0.071740    0.705690    0.508110    0.052470    0.246320   \n",
       "\n",
       "   gender        age  \n",
       "0     1.0   0.000000  \n",
       "1     1.0   0.000000  \n",
       "2     0.0   5.666667  \n",
       "3     1.0  58.587270  \n",
       "4     0.0   9.000000  "
      ]
     },
     "execution_count": 3,
     "metadata": {},
     "output_type": "execute_result"
    }
   ],
   "source": [
    "# Shuffle dataframe to randomize data order, possibly preventing confounding factors\n",
    "df = shuffle(df)\n",
    "df.reset_index(inplace=True, drop=True)\n",
    "\n",
    "# Remove patient ID column\n",
    "df = df.drop(['...1'], axis=1)\n",
    "\n",
    "# Drop all rows with NaN values\n",
    "df = df.dropna()\n",
    "\n",
    "df.head()"
   ]
  },
  {
   "cell_type": "code",
   "execution_count": 4,
   "metadata": {
    "colab": {
     "base_uri": "https://localhost:8080/"
    },
    "id": "iE4Dhyvy5EuR",
    "outputId": "2f931de1-db35-4ffd-b84a-178a2736b71c"
   },
   "outputs": [
    {
     "data": {
      "text/plain": [
       "(array([], dtype=int64), array([], dtype=int64))"
      ]
     },
     "execution_count": 4,
     "metadata": {},
     "output_type": "execute_result"
    }
   ],
   "source": [
    "# Checking if there are any remaining NaNs in the dataset\n",
    "np.where(pd.isnull(df))"
   ]
  },
  {
   "cell_type": "markdown",
   "metadata": {},
   "source": [
    "Below, we plot the correlation matrix, or heatmap, to compare the variables. As can be seen in the lowest row (labelled age),  the methylation sites that might be the best predictors of age (the most strongly correlated, whether negative or positive) are cg09809672, cg01820374, and cg19761273.\n",
    "We also see that gender seems to have a positive positive correlation with age. This suggests a possible confounding factor that may arise as a result of the dataset, since it seems that the females in the dataset (labelled as 1) are older than the males (labelled 0)."
   ]
  },
  {
   "cell_type": "code",
   "execution_count": 5,
   "metadata": {
    "colab": {
     "base_uri": "https://localhost:8080/",
     "height": 501
    },
    "id": "rilLSJs38tth",
    "outputId": "6c4560c8-c965-4195-e908-3461498e2528"
   },
   "outputs": [
    {
     "data": {
      "image/png": "[encoded data removed]",
      "text/plain": [
       "<Figure size 576x576 with 2 Axes>"
      ]
     },
     "metadata": {
      "needs_background": "light"
     },
     "output_type": "display_data"
    }
   ],
   "source": [
    "# Plot correlation matrix, or heatmap, to compare variables. As can \n",
    "# be seen in the lowest row (labelled age), the methylation sites\n",
    "# that might act as the best predictors of age are cg09809672,\n",
    "# cg01820374, and cg19761273.\n",
    "import seaborn as sb\n",
    "C_mat = df.corr()\n",
    "fig = plt.figure(figsize = (8,8))\n",
    "\n",
    "sb.heatmap(C_mat, vmax=1, square=True)\n",
    "plt.show()"
   ]
  },
  {
   "cell_type": "code",
   "execution_count": 6,
   "metadata": {
    "colab": {
     "base_uri": "https://localhost:8080/",
     "height": 299
    },
    "id": "Xp9pvO6lumwy",
    "outputId": "64d7bd9f-c8ed-4343-d50d-7d36557404b0"
   },
   "outputs": [
    {
     "data": {
      "text/plain": [
       "<matplotlib.axes._subplots.AxesSubplot at 0x1e3c1f2de80>"
      ]
     },
     "execution_count": 6,
     "metadata": {},
     "output_type": "execute_result"
    },
    {
     "data": {
      "image/png": "[encoded data removed]",
      "text/plain": [
       "<Figure size 432x288 with 1 Axes>"
      ]
     },
     "metadata": {
      "needs_background": "light"
     },
     "output_type": "display_data"
    }
   ],
   "source": [
    "# Plotting the data for cg09809672 prior to normalization by the Standard Scaler model\n",
    "df['cg09809672'].plot(kind='bar')"
   ]
  },
  {
   "cell_type": "code",
   "execution_count": 7,
   "metadata": {
    "id": "1fSlC6Zav0Jq"
   },
   "outputs": [],
   "source": [
    "# Normalizing the methylation and gender data with a Standard Scaler.\n",
    "X = df[['cg09809672', 'cg22736354', 'cg02228185', 'cg01820374', 'cg06493994', 'cg19761273', 'gender']]\n",
    "std_scaler = StandardScaler()\n",
    "std_scaler\n",
    "\n",
    "# Separating X vs. y dataframes\n",
    "X_std = pd.DataFrame(std_scaler.fit_transform(X), columns=X.columns)\n",
    "y = df['age']"
   ]
  },
  {
   "cell_type": "code",
   "execution_count": 8,
   "metadata": {
    "colab": {
     "base_uri": "https://localhost:8080/",
     "height": 298
    },
    "id": "m7XsFluRxlNf",
    "outputId": "c751a44e-a270-41e3-91dd-96683580f0aa"
   },
   "outputs": [
    {
     "data": {
      "text/plain": [
       "<matplotlib.axes._subplots.AxesSubplot at 0x1e3c4a96a90>"
      ]
     },
     "execution_count": 8,
     "metadata": {},
     "output_type": "execute_result"
    },
    {
     "data": {
      "image/png": "[encoded data removed]",
      "text/plain": [
       "<Figure size 432x288 with 1 Axes>"
      ]
     },
     "metadata": {
      "needs_background": "light"
     },
     "output_type": "display_data"
    }
   ],
   "source": [
    "# Plotting the data for cg09809672 after normalization\n",
    "X_std['cg09809672'].plot(kind='bar')"
   ]
  },
  {
   "cell_type": "code",
   "execution_count": 9,
   "metadata": {
    "id": "GfzLUnz23NBr"
   },
   "outputs": [],
   "source": [
    "# Separating dataset into train and test subsets\n",
    "X_train, X_test, y_train, y_test = train_test_split(X, y, test_size = 0.33, random_state = 42)"
   ]
  },
  {
   "cell_type": "markdown",
   "metadata": {},
   "source": [
    "Based on the score and predictions printed below, we see that the linear regression model is only somewhate capable of accurately predicting the age of an individual using the methylation levels inputted, with roughly 71% testing accuracy (varies with each run)."
   ]
  },
  {
   "cell_type": "code",
   "execution_count": 10,
   "metadata": {
    "colab": {
     "base_uri": "https://localhost:8080/"
    },
    "id": "tKnDAEiN0laa",
    "outputId": "e9a0a152-ffe3-47f1-94d2-1704ea31bf1a"
   },
   "outputs": [
    {
     "name": "stdout",
     "output_type": "stream",
     "text": [
      "0.7062188257332627\n"
     ]
    }
   ],
   "source": [
    "# Training the multivariate linear regression model\n",
    "linear_regressor = linear_model.LinearRegression()\n",
    "linear_regressor.fit(X_train, y_train)\n",
    "\n",
    "# Accuracy on the testing set\n",
    "print(linear_regressor.score(X_test, y_test))"
   ]
  },
  {
   "cell_type": "code",
   "execution_count": 11,
   "metadata": {},
   "outputs": [
    {
     "name": "stdout",
     "output_type": "stream",
     "text": [
      "Prediction: 3.361980696164494 \tActual: 0.0\n",
      "Prediction: 36.606907811684025 \tActual: 39.0\n",
      "Prediction: 42.917863357996325 \tActual: 32.0\n",
      "Prediction: 0.0 \tActual: 0.0\n",
      "Prediction: 4.785013030628292 \tActual: 0.0\n",
      "Prediction: 0.0 \tActual: 0.0\n",
      "Prediction: 45.36119480726499 \tActual: 68.2\n",
      "Prediction: 41.984695386735865 \tActual: 49.39\n",
      "Prediction: 11.024138615537836 \tActual: 0.0\n",
      "Prediction: 0.0 \tActual: 0.0\n"
     ]
    }
   ],
   "source": [
    "predictions = linear_regressor.predict(X_test)\n",
    "\n",
    "# Since age cannot be negative, changing all negative predictions to age 0\n",
    "for n, element in enumerate(predictions):\n",
    "    if element < 0:\n",
    "        predictions[n] = 0\n",
    "\n",
    "# Looking at sample predictions for the testing set\n",
    "for i in range(0, 10):\n",
    "    print(\"Prediction:\", predictions[i], \"\\tActual:\", y_test.iloc[i])"
   ]
  },
  {
   "cell_type": "markdown",
   "metadata": {},
   "source": [
    "Looking at the score for the model below, we can see that the Random Forest Regressor model is quite accurate at predicting an individual's age using their methylation data, with roughly 92% testing accuracy (varies with each run).\n",
    "It is interesting to note, however, that in the predictions printed below, the model's predictions are not always close (such as predicting roughly 28.77 for someone who is actually 49.39 years. This may be either due to fact that the model is unable to accurately predict for 8% of the testing set, and the example shown may happen to be part of that 8%, or it could be because the specific individuals in question are outliers (much more or less healthier than the average person in their age demographic)."
   ]
  },
  {
   "cell_type": "code",
   "execution_count": 12,
   "metadata": {
    "colab": {
     "base_uri": "https://localhost:8080/"
    },
    "id": "g8OmmVp26I0_",
    "outputId": "c1802164-a8d4-4732-ddd6-42800ea20121"
   },
   "outputs": [
    {
     "name": "stdout",
     "output_type": "stream",
     "text": [
      "0.9238801364611001\n"
     ]
    }
   ],
   "source": [
    "# Building and training the Random Forest Regressor model\n",
    "from sklearn.ensemble import RandomForestRegressor\n",
    "\n",
    "# Optimal value for n_estimators was determined by trial and error, comparing the score for each trial\n",
    "random_forest_regressor = RandomForestRegressor(n_estimators = 17, random_state = 0)\n",
    "random_forest_regressor.fit(X_train, y_train)\n",
    "\n",
    "# Accuracy on the testing set\n",
    "print(random_forest_regressor.score(X_test, y_test))"
   ]
  },
  {
   "cell_type": "code",
   "execution_count": 13,
   "metadata": {
    "colab": {
     "base_uri": "https://localhost:8080/"
    },
    "id": "Ma-f_TYmVIQo",
    "outputId": "3bae1b06-a16f-49bf-ab39-654cad0ea596"
   },
   "outputs": [
    {
     "name": "stdout",
     "output_type": "stream",
     "text": [
      "Prediction: 0.0 \tActual: 0.0\n",
      "Prediction: 37.470588235294116 \tActual: 39.0\n",
      "Prediction: 44.146506274705885 \tActual: 32.0\n",
      "Prediction: 0.0 \tActual: 0.0\n",
      "Prediction: 0.0 \tActual: 0.0\n",
      "Prediction: 0.0 \tActual: 0.0\n",
      "Prediction: 58.51941176470588 \tActual: 68.2\n",
      "Prediction: 57.011764705882364 \tActual: 49.39\n",
      "Prediction: 0.0 \tActual: 0.0\n",
      "Prediction: 0.0 \tActual: 0.0\n"
     ]
    }
   ],
   "source": [
    "predictions = random_forest_regressor.predict(X_test)\n",
    "\n",
    "# Since age cannot be negative, changing all negative predictions to age 0\n",
    "for n, element in enumerate(predictions):\n",
    "    if element < 0:\n",
    "        predictions[n] = 0\n",
    "\n",
    "# Looking at sample predictions for the testing set\n",
    "for i in range(0, 10):\n",
    "  print(\"Prediction:\", predictions[i],\"\\tActual:\", y_test.iloc[i])"
   ]
  },
  {
   "cell_type": "markdown",
   "metadata": {},
   "source": [
    "Looking at the two code blocks below, we see that the Gradient Boosting Regressor model, though not as accurate as the Random Forest Regressor, is still fairly accurate at generating the predictions using the data given, with roughly 86% accuracy on the testing set (varies with each run)."
   ]
  },
  {
   "cell_type": "code",
   "execution_count": 14,
   "metadata": {},
   "outputs": [
    {
     "name": "stdout",
     "output_type": "stream",
     "text": [
      "0.8546468914279138\n"
     ]
    }
   ],
   "source": [
    "# Building and training the Gradient Boosting Regressor model\n",
    "from sklearn.ensemble import GradientBoostingRegressor\n",
    "\n",
    "# The values of n_estimators, max_depth, and learning_rate were determined by trial and error,\n",
    "# to obtain the obtimal values shown below.\n",
    "params = {'n_estimators':3, 'max_depth':3, 'learning_rate': 1, 'criterion': 'mse'}\n",
    "\n",
    "gradient_boosting_regressor = GradientBoostingRegressor(**params)\n",
    "gradient_boosting_regressor.fit(X_train, y_train)\n",
    "\n",
    "print(gradient_boosting_regressor.score(X_test, y_test))"
   ]
  },
  {
   "cell_type": "code",
   "execution_count": 15,
   "metadata": {},
   "outputs": [
    {
     "name": "stdout",
     "output_type": "stream",
     "text": [
      "Prediction: 0.0 \tActual: 0.0\n",
      "Prediction: 29.346972927989295 \tActual: 39.0\n",
      "Prediction: 54.618409687558255 \tActual: 32.0\n",
      "Prediction: 0.0 \tActual: 0.0\n",
      "Prediction: 0.0 \tActual: 0.0\n",
      "Prediction: 0.0 \tActual: 0.0\n",
      "Prediction: 66.1524905275214 \tActual: 68.2\n",
      "Prediction: 54.618409687558255 \tActual: 49.39\n",
      "Prediction: 0.7939371689461725 \tActual: 0.0\n",
      "Prediction: 0.0 \tActual: 0.0\n"
     ]
    }
   ],
   "source": [
    "predictions = gradient_boosting_regressor.predict(X_test)\n",
    "for i in range(0, 10):\n",
    "    if predictions[i] < 0:\n",
    "        predictions[i] = 0\n",
    "    print(\"Prediction:\", predictions[i],\"\\tActual:\", y_test.iloc[i])"
   ]
  },
  {
   "cell_type": "code",
   "execution_count": 16,
   "metadata": {
    "colab": {
     "base_uri": "https://localhost:8080/"
    },
    "id": "9tHfs4Qw9zrU",
    "outputId": "0d8f17bf-7835-4aa6-e61c-acbfd78ca46e"
   },
   "outputs": [
    {
     "name": "stderr",
     "output_type": "stream",
     "text": [
      "Using TensorFlow backend.\n",
      "WARNING: Logging before flag parsing goes to stderr.\n",
      "W0106 18:55:43.895842 31440 deprecation.py:506] From C:\\Users\\aadid\\AppData\\Roaming\\Python\\Python37\\site-packages\\tensorflow_core\\python\\ops\\resource_variable_ops.py:1633: calling BaseResourceVariable.__init__ (from tensorflow.python.ops.resource_variable_ops) with constraint is deprecated and will be removed in a future version.\n",
      "Instructions for updating:\n",
      "If using Keras pass *_constraint arguments to layers.\n"
     ]
    },
    {
     "name": "stdout",
     "output_type": "stream",
     "text": [
      "Model: \"sequential_1\"\n",
      "_________________________________________________________________\n",
      "Layer (type)                 Output Shape              Param #   \n",
      "=================================================================\n",
      "dense_1 (Dense)              (None, 128)               1024      \n",
      "_________________________________________________________________\n",
      "dense_2 (Dense)              (None, 256)               33024     \n",
      "_________________________________________________________________\n",
      "dense_3 (Dense)              (None, 256)               65792     \n",
      "_________________________________________________________________\n",
      "dense_4 (Dense)              (None, 256)               65792     \n",
      "_________________________________________________________________\n",
      "dense_5 (Dense)              (None, 1)                 257       \n",
      "=================================================================\n",
      "Total params: 165,889\n",
      "Trainable params: 165,889\n",
      "Non-trainable params: 0\n",
      "_________________________________________________________________\n"
     ]
    }
   ],
   "source": [
    "import tensorflow as tf\n",
    "from keras.callbacks import ModelCheckpoint\n",
    "from keras.models import Sequential\n",
    "from keras.layers import Dense, Activation, Flatten\n",
    "\n",
    "# Creating the sequential neural network model\n",
    "NN_model = Sequential()\n",
    "\n",
    "# Input layer\n",
    "NN_model.add(Dense(128, kernel_initializer='normal', input_dim=X_train.shape[1], activation='relu'))\n",
    "\n",
    "# Hidden layers\n",
    "NN_model.add(Dense(256, kernel_initializer='normal', activation='relu'))\n",
    "NN_model.add(Dense(256, kernel_initializer='normal', activation='relu'))\n",
    "NN_model.add(Dense(256, kernel_initializer='normal', activation='relu'))\n",
    "\n",
    "# Output layer\n",
    "NN_model.add(Dense(1, kernel_initializer='normal', activation='linear'))\n",
    "\n",
    "\n",
    "# Compile NN\n",
    "NN_model.compile(loss='mean_absolute_error', optimizer='adam', metrics=['mean_absolute_error', 'accuracy'])\n",
    "NN_model.summary()"
   ]
  },
  {
   "cell_type": "code",
   "execution_count": 17,
   "metadata": {
    "id": "HdalP-xpACGx"
   },
   "outputs": [],
   "source": [
    "checkpoint_name = 'Weights-{epoch:03d}--{val_loss:.5f}.hdf5' \n",
    "checkpoint = ModelCheckpoint(checkpoint_name, monitor='val_loss', verbose = 1, save_best_only = True, mode ='auto')\n",
    "callbacks_list = [checkpoint]"
   ]
  },
  {
   "cell_type": "markdown",
   "metadata": {},
   "source": [
    "As shown in the summary for the epochs during the neural network training (val_accuracy and accuracy), the plots showing the accuracy and loss as the model continues training, or the evaluation in the very last block, the neural network is extremely poor at predicting an individual's age, with a accuracy of around 30% (varies with each run)."
   ]
  },
  {
   "cell_type": "code",
   "execution_count": 18,
   "metadata": {
    "colab": {
     "base_uri": "https://localhost:8080/"
    },
    "id": "sjqvn9peAOcY",
    "outputId": "706f36e2-80d9-4b88-cb4c-15e94f46e3db"
   },
   "outputs": [
    {
     "name": "stderr",
     "output_type": "stream",
     "text": [
      "W0106 18:55:44.607327 31440 deprecation.py:323] From C:\\Users\\aadid\\AppData\\Roaming\\Python\\Python37\\site-packages\\keras\\optimizers.py:550: BaseResourceVariable.constraint (from tensorflow.python.ops.resource_variable_ops) is deprecated and will be removed in a future version.\n",
      "Instructions for updating:\n",
      "Apply a constraint manually following the optimizer update step.\n",
      "W0106 18:55:45.013777 31440 module_wrapper.py:136] From C:\\Users\\aadid\\AppData\\Roaming\\Python\\Python37\\site-packages\\tensorflow_core\\python\\util\\module_wrapper.py:163: The name tf.global_variables is deprecated. Please use tf.compat.v1.global_variables instead.\n",
      "\n"
     ]
    },
    {
     "name": "stdout",
     "output_type": "stream",
     "text": [
      "Train on 714 samples, validate on 179 samples\n",
      "Epoch 1/100\n",
      "714/714 [==============================] - 0s 417us/step - loss: 16.4281 - mean_absolute_error: 16.4281 - accuracy: 0.1204 - val_loss: 13.8830 - val_mean_absolute_error: 13.8830 - val_accuracy: 0.0000e+00\n",
      "\n",
      "Epoch 00001: val_loss improved from inf to 13.88298, saving model to Weights-001--13.88298.hdf5\n",
      "Epoch 2/100\n",
      "714/714 [==============================] - 0s 105us/step - loss: 13.8522 - mean_absolute_error: 13.8522 - accuracy: 0.0084 - val_loss: 12.9844 - val_mean_absolute_error: 12.9844 - val_accuracy: 0.0000e+00\n",
      "\n",
      "Epoch 00002: val_loss improved from 13.88298 to 12.98441, saving model to Weights-002--12.98441.hdf5\n",
      "Epoch 3/100\n",
      "714/714 [==============================] - 0s 109us/step - loss: 12.7942 - mean_absolute_error: 12.7942 - accuracy: 0.0042 - val_loss: 11.0250 - val_mean_absolute_error: 11.0250 - val_accuracy: 0.0112\n",
      "\n",
      "Epoch 00003: val_loss improved from 12.98441 to 11.02502, saving model to Weights-003--11.02502.hdf5\n",
      "Epoch 4/100\n",
      "714/714 [==============================] - 0s 133us/step - loss: 9.1206 - mean_absolute_error: 9.1206 - accuracy: 0.0714 - val_loss: 5.7061 - val_mean_absolute_error: 5.7061 - val_accuracy: 0.3017\n",
      "\n",
      "Epoch 00004: val_loss improved from 11.02502 to 5.70612, saving model to Weights-004--5.70612.hdf5\n",
      "Epoch 5/100\n",
      "714/714 [==============================] - 0s 110us/step - loss: 6.0518 - mean_absolute_error: 6.0518 - accuracy: 0.2787 - val_loss: 5.1814 - val_mean_absolute_error: 5.1814 - val_accuracy: 0.3017\n",
      "\n",
      "Epoch 00005: val_loss improved from 5.70612 to 5.18139, saving model to Weights-005--5.18139.hdf5\n",
      "Epoch 6/100\n",
      "714/714 [==============================] - 0s 125us/step - loss: 5.3478 - mean_absolute_error: 5.3478 - accuracy: 0.2507 - val_loss: 4.6840 - val_mean_absolute_error: 4.6840 - val_accuracy: 0.3184\n",
      "\n",
      "Epoch 00006: val_loss improved from 5.18139 to 4.68396, saving model to Weights-006--4.68396.hdf5\n",
      "Epoch 7/100\n",
      "714/714 [==============================] - 0s 112us/step - loss: 4.7156 - mean_absolute_error: 4.7156 - accuracy: 0.2591 - val_loss: 4.8377 - val_mean_absolute_error: 4.8377 - val_accuracy: 0.3184\n",
      "\n",
      "Epoch 00007: val_loss did not improve from 4.68396\n",
      "Epoch 8/100\n",
      "714/714 [==============================] - 0s 129us/step - loss: 5.1969 - mean_absolute_error: 5.1969 - accuracy: 0.2591 - val_loss: 4.8400 - val_mean_absolute_error: 4.8400 - val_accuracy: 0.2793\n",
      "\n",
      "Epoch 00008: val_loss did not improve from 4.68396\n",
      "Epoch 9/100\n",
      "714/714 [==============================] - 0s 126us/step - loss: 4.5244 - mean_absolute_error: 4.5244 - accuracy: 0.2717 - val_loss: 4.6077 - val_mean_absolute_error: 4.6077 - val_accuracy: 0.3017\n",
      "\n",
      "Epoch 00009: val_loss improved from 4.68396 to 4.60770, saving model to Weights-009--4.60770.hdf5\n",
      "Epoch 10/100\n",
      "714/714 [==============================] - 0s 102us/step - loss: 4.5189 - mean_absolute_error: 4.5189 - accuracy: 0.2745 - val_loss: 4.3761 - val_mean_absolute_error: 4.3761 - val_accuracy: 0.3017\n",
      "\n",
      "Epoch 00010: val_loss improved from 4.60770 to 4.37615, saving model to Weights-010--4.37615.hdf5\n",
      "Epoch 11/100\n",
      "714/714 [==============================] - 0s 130us/step - loss: 4.1068 - mean_absolute_error: 4.1068 - accuracy: 0.2759 - val_loss: 4.5105 - val_mean_absolute_error: 4.5105 - val_accuracy: 0.2905\n",
      "\n",
      "Epoch 00011: val_loss did not improve from 4.37615\n",
      "Epoch 12/100\n",
      "714/714 [==============================] - 0s 135us/step - loss: 4.4345 - mean_absolute_error: 4.4345 - accuracy: 0.2633 - val_loss: 4.0933 - val_mean_absolute_error: 4.0933 - val_accuracy: 0.2905\n",
      "\n",
      "Epoch 00012: val_loss improved from 4.37615 to 4.09332, saving model to Weights-012--4.09332.hdf5\n",
      "Epoch 13/100\n",
      "714/714 [==============================] - 0s 112us/step - loss: 3.8280 - mean_absolute_error: 3.8280 - accuracy: 0.2759 - val_loss: 3.6218 - val_mean_absolute_error: 3.6218 - val_accuracy: 0.3017\n",
      "\n",
      "Epoch 00013: val_loss improved from 4.09332 to 3.62182, saving model to Weights-013--3.62182.hdf5\n",
      "Epoch 14/100\n",
      "714/714 [==============================] - 0s 145us/step - loss: 3.6313 - mean_absolute_error: 3.6313 - accuracy: 0.2745 - val_loss: 3.7994 - val_mean_absolute_error: 3.7994 - val_accuracy: 0.3073\n",
      "\n",
      "Epoch 00014: val_loss did not improve from 3.62182\n",
      "Epoch 15/100\n",
      "714/714 [==============================] - 0s 138us/step - loss: 3.6115 - mean_absolute_error: 3.6115 - accuracy: 0.2829 - val_loss: 3.6952 - val_mean_absolute_error: 3.6952 - val_accuracy: 0.3240\n",
      "\n",
      "Epoch 00015: val_loss did not improve from 3.62182\n",
      "Epoch 16/100\n",
      "714/714 [==============================] - 0s 112us/step - loss: 3.5077 - mean_absolute_error: 3.5077 - accuracy: 0.2815 - val_loss: 3.6829 - val_mean_absolute_error: 3.6829 - val_accuracy: 0.3017\n",
      "\n",
      "Epoch 00016: val_loss did not improve from 3.62182\n",
      "Epoch 17/100\n",
      "714/714 [==============================] - 0s 106us/step - loss: 3.6814 - mean_absolute_error: 3.6814 - accuracy: 0.2843 - val_loss: 4.0361 - val_mean_absolute_error: 4.0361 - val_accuracy: 0.2905\n",
      "\n",
      "Epoch 00017: val_loss did not improve from 3.62182\n",
      "Epoch 18/100\n",
      "714/714 [==============================] - 0s 108us/step - loss: 3.7649 - mean_absolute_error: 3.7649 - accuracy: 0.2801 - val_loss: 3.6889 - val_mean_absolute_error: 3.6889 - val_accuracy: 0.3073\n",
      "\n",
      "Epoch 00018: val_loss did not improve from 3.62182\n",
      "Epoch 19/100\n",
      "714/714 [==============================] - 0s 106us/step - loss: 3.4978 - mean_absolute_error: 3.4978 - accuracy: 0.2913 - val_loss: 3.5793 - val_mean_absolute_error: 3.5793 - val_accuracy: 0.3073\n",
      "\n",
      "Epoch 00019: val_loss improved from 3.62182 to 3.57932, saving model to Weights-019--3.57932.hdf5\n",
      "Epoch 20/100\n",
      "714/714 [==============================] - 0s 105us/step - loss: 3.4699 - mean_absolute_error: 3.4699 - accuracy: 0.2787 - val_loss: 3.4384 - val_mean_absolute_error: 3.4384 - val_accuracy: 0.3352\n",
      "\n",
      "Epoch 00020: val_loss improved from 3.57932 to 3.43843, saving model to Weights-020--3.43843.hdf5\n",
      "Epoch 21/100\n",
      "714/714 [==============================] - 0s 135us/step - loss: 3.5435 - mean_absolute_error: 3.5435 - accuracy: 0.2843 - val_loss: 4.1687 - val_mean_absolute_error: 4.1687 - val_accuracy: 0.3184\n",
      "\n",
      "Epoch 00021: val_loss did not improve from 3.43843\n",
      "Epoch 22/100\n",
      "714/714 [==============================] - 0s 135us/step - loss: 3.6569 - mean_absolute_error: 3.6569 - accuracy: 0.2787 - val_loss: 4.2783 - val_mean_absolute_error: 4.2783 - val_accuracy: 0.3073\n",
      "\n",
      "Epoch 00022: val_loss did not improve from 3.43843\n",
      "Epoch 23/100\n",
      "714/714 [==============================] - 0s 108us/step - loss: 3.4592 - mean_absolute_error: 3.4592 - accuracy: 0.2955 - val_loss: 3.3088 - val_mean_absolute_error: 3.3088 - val_accuracy: 0.3184\n",
      "\n",
      "Epoch 00023: val_loss improved from 3.43843 to 3.30881, saving model to Weights-023--3.30881.hdf5\n",
      "Epoch 24/100\n",
      "714/714 [==============================] - 0s 99us/step - loss: 3.5773 - mean_absolute_error: 3.5773 - accuracy: 0.2857 - val_loss: 3.6065 - val_mean_absolute_error: 3.6065 - val_accuracy: 0.3017\n",
      "\n",
      "Epoch 00024: val_loss did not improve from 3.30881\n",
      "Epoch 25/100\n",
      "714/714 [==============================] - 0s 101us/step - loss: 3.5108 - mean_absolute_error: 3.5108 - accuracy: 0.2983 - val_loss: 3.3617 - val_mean_absolute_error: 3.3617 - val_accuracy: 0.3128\n",
      "\n",
      "Epoch 00025: val_loss did not improve from 3.30881\n",
      "Epoch 26/100\n",
      "714/714 [==============================] - 0s 109us/step - loss: 3.3976 - mean_absolute_error: 3.3976 - accuracy: 0.2857 - val_loss: 3.3730 - val_mean_absolute_error: 3.3730 - val_accuracy: 0.3128\n",
      "\n",
      "Epoch 00026: val_loss did not improve from 3.30881\n",
      "Epoch 27/100\n",
      "714/714 [==============================] - 0s 144us/step - loss: 3.2228 - mean_absolute_error: 3.2228 - accuracy: 0.2941 - val_loss: 3.6578 - val_mean_absolute_error: 3.6578 - val_accuracy: 0.3352\n",
      "\n",
      "Epoch 00027: val_loss did not improve from 3.30881\n",
      "Epoch 28/100\n",
      "714/714 [==============================] - 0s 129us/step - loss: 3.2641 - mean_absolute_error: 3.2641 - accuracy: 0.3095 - val_loss: 3.3832 - val_mean_absolute_error: 3.3832 - val_accuracy: 0.3073\n",
      "\n",
      "Epoch 00028: val_loss did not improve from 3.30881\n",
      "Epoch 29/100\n",
      "714/714 [==============================] - 0s 105us/step - loss: 3.2717 - mean_absolute_error: 3.2717 - accuracy: 0.2899 - val_loss: 3.2624 - val_mean_absolute_error: 3.2624 - val_accuracy: 0.3184\n"
     ]
    },
    {
     "name": "stdout",
     "output_type": "stream",
     "text": [
      "\n",
      "Epoch 00029: val_loss improved from 3.30881 to 3.26243, saving model to Weights-029--3.26243.hdf5\n",
      "Epoch 30/100\n",
      "714/714 [==============================] - 0s 106us/step - loss: 3.4909 - mean_absolute_error: 3.4909 - accuracy: 0.2955 - val_loss: 3.3377 - val_mean_absolute_error: 3.3377 - val_accuracy: 0.3520\n",
      "\n",
      "Epoch 00030: val_loss did not improve from 3.26243\n",
      "Epoch 31/100\n",
      "714/714 [==============================] - 0s 92us/step - loss: 3.2143 - mean_absolute_error: 3.2143 - accuracy: 0.2955 - val_loss: 3.3635 - val_mean_absolute_error: 3.3635 - val_accuracy: 0.3184\n",
      "\n",
      "Epoch 00031: val_loss did not improve from 3.26243\n",
      "Epoch 32/100\n",
      "714/714 [==============================] - 0s 98us/step - loss: 3.5331 - mean_absolute_error: 3.5331 - accuracy: 0.2829 - val_loss: 3.9476 - val_mean_absolute_error: 3.9476 - val_accuracy: 0.2402\n",
      "\n",
      "Epoch 00032: val_loss did not improve from 3.26243\n",
      "Epoch 33/100\n",
      "714/714 [==============================] - 0s 103us/step - loss: 3.5752 - mean_absolute_error: 3.5752 - accuracy: 0.2605 - val_loss: 3.4984 - val_mean_absolute_error: 3.4984 - val_accuracy: 0.3240\n",
      "\n",
      "Epoch 00033: val_loss did not improve from 3.26243\n",
      "Epoch 34/100\n",
      "714/714 [==============================] - 0s 98us/step - loss: 3.5534 - mean_absolute_error: 3.5534 - accuracy: 0.2983 - val_loss: 4.1492 - val_mean_absolute_error: 4.1492 - val_accuracy: 0.2291\n",
      "\n",
      "Epoch 00034: val_loss did not improve from 3.26243\n",
      "Epoch 35/100\n",
      "714/714 [==============================] - 0s 95us/step - loss: 3.5028 - mean_absolute_error: 3.5028 - accuracy: 0.2787 - val_loss: 3.2969 - val_mean_absolute_error: 3.2969 - val_accuracy: 0.3184\n",
      "\n",
      "Epoch 00035: val_loss did not improve from 3.26243\n",
      "Epoch 36/100\n",
      "714/714 [==============================] - 0s 98us/step - loss: 3.2247 - mean_absolute_error: 3.2247 - accuracy: 0.2913 - val_loss: 3.5814 - val_mean_absolute_error: 3.5814 - val_accuracy: 0.3128\n",
      "\n",
      "Epoch 00036: val_loss did not improve from 3.26243\n",
      "Epoch 37/100\n",
      "714/714 [==============================] - 0s 99us/step - loss: 3.5517 - mean_absolute_error: 3.5517 - accuracy: 0.2913 - val_loss: 3.1548 - val_mean_absolute_error: 3.1548 - val_accuracy: 0.3240\n",
      "\n",
      "Epoch 00037: val_loss improved from 3.26243 to 3.15475, saving model to Weights-037--3.15475.hdf5\n",
      "Epoch 38/100\n",
      "714/714 [==============================] - 0s 108us/step - loss: 3.3665 - mean_absolute_error: 3.3665 - accuracy: 0.2899 - val_loss: 3.4086 - val_mean_absolute_error: 3.4086 - val_accuracy: 0.3240\n",
      "\n",
      "Epoch 00038: val_loss did not improve from 3.15475\n",
      "Epoch 39/100\n",
      "714/714 [==============================] - 0s 101us/step - loss: 3.2514 - mean_absolute_error: 3.2514 - accuracy: 0.3011 - val_loss: 3.2433 - val_mean_absolute_error: 3.2433 - val_accuracy: 0.3296\n",
      "\n",
      "Epoch 00039: val_loss did not improve from 3.15475\n",
      "Epoch 40/100\n",
      "714/714 [==============================] - 0s 98us/step - loss: 3.1993 - mean_absolute_error: 3.1993 - accuracy: 0.2927 - val_loss: 3.3695 - val_mean_absolute_error: 3.3695 - val_accuracy: 0.3352\n",
      "\n",
      "Epoch 00040: val_loss did not improve from 3.15475\n",
      "Epoch 41/100\n",
      "714/714 [==============================] - 0s 99us/step - loss: 3.4179 - mean_absolute_error: 3.4179 - accuracy: 0.2843 - val_loss: 3.1413 - val_mean_absolute_error: 3.1413 - val_accuracy: 0.3296\n",
      "\n",
      "Epoch 00041: val_loss improved from 3.15475 to 3.14129, saving model to Weights-041--3.14129.hdf5\n",
      "Epoch 42/100\n",
      "714/714 [==============================] - 0s 109us/step - loss: 3.2125 - mean_absolute_error: 3.2125 - accuracy: 0.2983 - val_loss: 3.3031 - val_mean_absolute_error: 3.3031 - val_accuracy: 0.3184\n",
      "\n",
      "Epoch 00042: val_loss did not improve from 3.14129\n",
      "Epoch 43/100\n",
      "714/714 [==============================] - 0s 103us/step - loss: 3.1523 - mean_absolute_error: 3.1523 - accuracy: 0.3095 - val_loss: 3.4070 - val_mean_absolute_error: 3.4070 - val_accuracy: 0.3073\n",
      "\n",
      "Epoch 00043: val_loss did not improve from 3.14129\n",
      "Epoch 44/100\n",
      "714/714 [==============================] - 0s 103us/step - loss: 3.3170 - mean_absolute_error: 3.3170 - accuracy: 0.2885 - val_loss: 3.3265 - val_mean_absolute_error: 3.3265 - val_accuracy: 0.3184\n",
      "\n",
      "Epoch 00044: val_loss did not improve from 3.14129\n",
      "Epoch 45/100\n",
      "714/714 [==============================] - 0s 99us/step - loss: 3.1924 - mean_absolute_error: 3.1924 - accuracy: 0.3053 - val_loss: 3.0564 - val_mean_absolute_error: 3.0564 - val_accuracy: 0.3408\n",
      "\n",
      "Epoch 00045: val_loss improved from 3.14129 to 3.05637, saving model to Weights-045--3.05637.hdf5\n",
      "Epoch 46/100\n",
      "714/714 [==============================] - 0s 130us/step - loss: 3.1096 - mean_absolute_error: 3.1096 - accuracy: 0.2969 - val_loss: 3.4034 - val_mean_absolute_error: 3.4034 - val_accuracy: 0.3240\n",
      "\n",
      "Epoch 00046: val_loss did not improve from 3.05637\n",
      "Epoch 47/100\n",
      "714/714 [==============================] - 0s 102us/step - loss: 3.3356 - mean_absolute_error: 3.3356 - accuracy: 0.2927 - val_loss: 3.4258 - val_mean_absolute_error: 3.4258 - val_accuracy: 0.3240\n",
      "\n",
      "Epoch 00047: val_loss did not improve from 3.05637\n",
      "Epoch 48/100\n",
      "714/714 [==============================] - 0s 105us/step - loss: 3.1723 - mean_absolute_error: 3.1723 - accuracy: 0.2941 - val_loss: 3.7947 - val_mean_absolute_error: 3.7947 - val_accuracy: 0.3184\n",
      "\n",
      "Epoch 00048: val_loss did not improve from 3.05637\n",
      "Epoch 49/100\n",
      "714/714 [==============================] - 0s 106us/step - loss: 3.1446 - mean_absolute_error: 3.1446 - accuracy: 0.2941 - val_loss: 3.1616 - val_mean_absolute_error: 3.1616 - val_accuracy: 0.3240\n",
      "\n",
      "Epoch 00049: val_loss did not improve from 3.05637\n",
      "Epoch 50/100\n",
      "714/714 [==============================] - 0s 105us/step - loss: 3.0258 - mean_absolute_error: 3.0258 - accuracy: 0.3011 - val_loss: 3.0760 - val_mean_absolute_error: 3.0760 - val_accuracy: 0.3296\n",
      "\n",
      "Epoch 00050: val_loss did not improve from 3.05637\n",
      "Epoch 51/100\n",
      "714/714 [==============================] - 0s 108us/step - loss: 3.1807 - mean_absolute_error: 3.1807 - accuracy: 0.3011 - val_loss: 3.1018 - val_mean_absolute_error: 3.1018 - val_accuracy: 0.3352\n",
      "\n",
      "Epoch 00051: val_loss did not improve from 3.05637\n",
      "Epoch 52/100\n",
      "714/714 [==============================] - 0s 119us/step - loss: 3.0630 - mean_absolute_error: 3.0630 - accuracy: 0.2997 - val_loss: 3.2630 - val_mean_absolute_error: 3.2630 - val_accuracy: 0.3352\n",
      "\n",
      "Epoch 00052: val_loss did not improve from 3.05637\n",
      "Epoch 53/100\n",
      "714/714 [==============================] - 0s 110us/step - loss: 3.1452 - mean_absolute_error: 3.1452 - accuracy: 0.2997 - val_loss: 3.6641 - val_mean_absolute_error: 3.6641 - val_accuracy: 0.3240\n",
      "\n",
      "Epoch 00053: val_loss did not improve from 3.05637\n",
      "Epoch 54/100\n",
      "714/714 [==============================] - 0s 108us/step - loss: 3.1910 - mean_absolute_error: 3.1910 - accuracy: 0.2941 - val_loss: 3.0625 - val_mean_absolute_error: 3.0625 - val_accuracy: 0.3240\n",
      "\n",
      "Epoch 00054: val_loss did not improve from 3.05637\n",
      "Epoch 55/100\n",
      "714/714 [==============================] - 0s 105us/step - loss: 3.2334 - mean_absolute_error: 3.2334 - accuracy: 0.2983 - val_loss: 3.2441 - val_mean_absolute_error: 3.2441 - val_accuracy: 0.3240\n",
      "\n",
      "Epoch 00055: val_loss did not improve from 3.05637\n",
      "Epoch 56/100\n",
      "714/714 [==============================] - 0s 116us/step - loss: 3.3569 - mean_absolute_error: 3.3569 - accuracy: 0.2885 - val_loss: 3.1314 - val_mean_absolute_error: 3.1314 - val_accuracy: 0.3184\n",
      "\n",
      "Epoch 00056: val_loss did not improve from 3.05637\n",
      "Epoch 57/100\n",
      "714/714 [==============================] - 0s 112us/step - loss: 3.1118 - mean_absolute_error: 3.1118 - accuracy: 0.2997 - val_loss: 3.5899 - val_mean_absolute_error: 3.5899 - val_accuracy: 0.2570\n",
      "\n",
      "Epoch 00057: val_loss did not improve from 3.05637\n",
      "Epoch 58/100\n",
      "714/714 [==============================] - 0s 102us/step - loss: 3.1975 - mean_absolute_error: 3.1975 - accuracy: 0.2997 - val_loss: 3.3995 - val_mean_absolute_error: 3.3995 - val_accuracy: 0.3240\n",
      "\n",
      "Epoch 00058: val_loss did not improve from 3.05637\n",
      "Epoch 59/100\n",
      "714/714 [==============================] - 0s 113us/step - loss: 3.2547 - mean_absolute_error: 3.2547 - accuracy: 0.2927 - val_loss: 3.3541 - val_mean_absolute_error: 3.3541 - val_accuracy: 0.3240\n",
      "\n",
      "Epoch 00059: val_loss did not improve from 3.05637\n",
      "Epoch 60/100\n",
      "714/714 [==============================] - 0s 123us/step - loss: 3.0461 - mean_absolute_error: 3.0461 - accuracy: 0.2969 - val_loss: 3.5354 - val_mean_absolute_error: 3.5354 - val_accuracy: 0.3184\n",
      "\n",
      "Epoch 00060: val_loss did not improve from 3.05637\n",
      "Epoch 61/100\n",
      "714/714 [==============================] - 0s 106us/step - loss: 3.0898 - mean_absolute_error: 3.0898 - accuracy: 0.2969 - val_loss: 3.4467 - val_mean_absolute_error: 3.4467 - val_accuracy: 0.3184\n",
      "\n",
      "Epoch 00061: val_loss did not improve from 3.05637\n",
      "Epoch 62/100\n",
      "714/714 [==============================] - 0s 98us/step - loss: 3.1695 - mean_absolute_error: 3.1695 - accuracy: 0.2969 - val_loss: 3.3444 - val_mean_absolute_error: 3.3444 - val_accuracy: 0.3240\n",
      "\n",
      "Epoch 00062: val_loss did not improve from 3.05637\n",
      "Epoch 63/100\n",
      "714/714 [==============================] - 0s 115us/step - loss: 3.1390 - mean_absolute_error: 3.1390 - accuracy: 0.3067 - val_loss: 3.1850 - val_mean_absolute_error: 3.1850 - val_accuracy: 0.3240\n",
      "\n",
      "Epoch 00063: val_loss did not improve from 3.05637\n",
      "Epoch 64/100\n",
      "714/714 [==============================] - 0s 144us/step - loss: 3.1513 - mean_absolute_error: 3.1513 - accuracy: 0.2955 - val_loss: 3.0048 - val_mean_absolute_error: 3.0048 - val_accuracy: 0.3184\n",
      "\n",
      "Epoch 00064: val_loss improved from 3.05637 to 3.00484, saving model to Weights-064--3.00484.hdf5\n",
      "Epoch 65/100\n",
      "714/714 [==============================] - 0s 120us/step - loss: 3.3126 - mean_absolute_error: 3.3126 - accuracy: 0.2955 - val_loss: 3.1995 - val_mean_absolute_error: 3.1995 - val_accuracy: 0.3296\n",
      "\n",
      "Epoch 00065: val_loss did not improve from 3.00484\n",
      "Epoch 66/100\n",
      "714/714 [==============================] - 0s 126us/step - loss: 3.7885 - mean_absolute_error: 3.7885 - accuracy: 0.2801 - val_loss: 3.1811 - val_mean_absolute_error: 3.1811 - val_accuracy: 0.3240\n",
      "\n",
      "Epoch 00066: val_loss did not improve from 3.00484\n",
      "Epoch 67/100\n",
      "714/714 [==============================] - 0s 123us/step - loss: 2.9999 - mean_absolute_error: 2.9999 - accuracy: 0.2969 - val_loss: 3.4166 - val_mean_absolute_error: 3.4166 - val_accuracy: 0.3240\n",
      "\n",
      "Epoch 00067: val_loss did not improve from 3.00484\n",
      "Epoch 68/100\n",
      "714/714 [==============================] - 0s 101us/step - loss: 3.1234 - mean_absolute_error: 3.1234 - accuracy: 0.2913 - val_loss: 3.1433 - val_mean_absolute_error: 3.1433 - val_accuracy: 0.3352\n",
      "\n",
      "Epoch 00068: val_loss did not improve from 3.00484\n",
      "Epoch 69/100\n",
      "714/714 [==============================] - 0s 102us/step - loss: 3.0662 - mean_absolute_error: 3.0662 - accuracy: 0.3067 - val_loss: 2.9605 - val_mean_absolute_error: 2.9605 - val_accuracy: 0.3240\n",
      "\n",
      "Epoch 00069: val_loss improved from 3.00484 to 2.96053, saving model to Weights-069--2.96053.hdf5\n",
      "Epoch 70/100\n",
      "714/714 [==============================] - 0s 106us/step - loss: 3.0141 - mean_absolute_error: 3.0141 - accuracy: 0.3053 - val_loss: 3.0471 - val_mean_absolute_error: 3.0471 - val_accuracy: 0.3128\n",
      "\n",
      "Epoch 00070: val_loss did not improve from 2.96053\n",
      "Epoch 71/100\n",
      "714/714 [==============================] - 0s 116us/step - loss: 3.0140 - mean_absolute_error: 3.0140 - accuracy: 0.3053 - val_loss: 3.5186 - val_mean_absolute_error: 3.5186 - val_accuracy: 0.3240\n",
      "\n",
      "Epoch 00071: val_loss did not improve from 2.96053\n",
      "Epoch 72/100\n",
      "714/714 [==============================] - 0s 98us/step - loss: 3.4087 - mean_absolute_error: 3.4087 - accuracy: 0.2899 - val_loss: 3.1541 - val_mean_absolute_error: 3.1541 - val_accuracy: 0.3240\n",
      "\n",
      "Epoch 00072: val_loss did not improve from 2.96053\n",
      "Epoch 73/100\n",
      "714/714 [==============================] - 0s 103us/step - loss: 3.0667 - mean_absolute_error: 3.0667 - accuracy: 0.2969 - val_loss: 3.1660 - val_mean_absolute_error: 3.1660 - val_accuracy: 0.3128\n",
      "\n",
      "Epoch 00073: val_loss did not improve from 2.96053\n",
      "Epoch 74/100\n",
      "714/714 [==============================] - 0s 112us/step - loss: 3.0389 - mean_absolute_error: 3.0389 - accuracy: 0.2955 - val_loss: 3.0842 - val_mean_absolute_error: 3.0842 - val_accuracy: 0.3408\n",
      "\n",
      "Epoch 00074: val_loss did not improve from 2.96053\n",
      "Epoch 75/100\n",
      "714/714 [==============================] - 0s 115us/step - loss: 3.0059 - mean_absolute_error: 3.0059 - accuracy: 0.2983 - val_loss: 3.0050 - val_mean_absolute_error: 3.0050 - val_accuracy: 0.3408\n",
      "\n",
      "Epoch 00075: val_loss did not improve from 2.96053\n",
      "Epoch 76/100\n",
      "714/714 [==============================] - 0s 106us/step - loss: 3.3112 - mean_absolute_error: 3.3112 - accuracy: 0.2941 - val_loss: 2.9965 - val_mean_absolute_error: 2.9965 - val_accuracy: 0.3240\n",
      "\n",
      "Epoch 00076: val_loss did not improve from 2.96053\n",
      "Epoch 77/100\n",
      "714/714 [==============================] - 0s 106us/step - loss: 3.0100 - mean_absolute_error: 3.0100 - accuracy: 0.2941 - val_loss: 3.1774 - val_mean_absolute_error: 3.1774 - val_accuracy: 0.3240\n",
      "\n",
      "Epoch 00077: val_loss did not improve from 2.96053\n",
      "Epoch 78/100\n",
      "714/714 [==============================] - 0s 113us/step - loss: 2.9368 - mean_absolute_error: 2.9368 - accuracy: 0.2969 - val_loss: 3.1930 - val_mean_absolute_error: 3.1930 - val_accuracy: 0.3017\n",
      "\n",
      "Epoch 00078: val_loss did not improve from 2.96053\n",
      "Epoch 79/100\n",
      "714/714 [==============================] - 0s 113us/step - loss: 3.1437 - mean_absolute_error: 3.1437 - accuracy: 0.2899 - val_loss: 3.1365 - val_mean_absolute_error: 3.1365 - val_accuracy: 0.3296\n",
      "\n",
      "Epoch 00079: val_loss did not improve from 2.96053\n",
      "Epoch 80/100\n",
      "714/714 [==============================] - 0s 109us/step - loss: 2.9570 - mean_absolute_error: 2.9570 - accuracy: 0.3109 - val_loss: 3.1179 - val_mean_absolute_error: 3.1179 - val_accuracy: 0.3352\n",
      "\n",
      "Epoch 00080: val_loss did not improve from 2.96053\n",
      "Epoch 81/100\n",
      "714/714 [==============================] - 0s 101us/step - loss: 3.0854 - mean_absolute_error: 3.0854 - accuracy: 0.3081 - val_loss: 3.6581 - val_mean_absolute_error: 3.6581 - val_accuracy: 0.3240\n",
      "\n",
      "Epoch 00081: val_loss did not improve from 2.96053\n",
      "Epoch 82/100\n",
      "714/714 [==============================] - 0s 110us/step - loss: 3.1648 - mean_absolute_error: 3.1648 - accuracy: 0.2885 - val_loss: 3.1788 - val_mean_absolute_error: 3.1788 - val_accuracy: 0.3240\n",
      "\n",
      "Epoch 00082: val_loss did not improve from 2.96053\n",
      "Epoch 83/100\n",
      "714/714 [==============================] - 0s 116us/step - loss: 2.9669 - mean_absolute_error: 2.9669 - accuracy: 0.2955 - val_loss: 3.0438 - val_mean_absolute_error: 3.0438 - val_accuracy: 0.3128\n",
      "\n",
      "Epoch 00083: val_loss did not improve from 2.96053\n",
      "Epoch 84/100\n",
      "714/714 [==============================] - 0s 102us/step - loss: 2.9921 - mean_absolute_error: 2.9921 - accuracy: 0.2955 - val_loss: 3.2428 - val_mean_absolute_error: 3.2428 - val_accuracy: 0.3296\n",
      "\n",
      "Epoch 00084: val_loss did not improve from 2.96053\n",
      "Epoch 85/100\n",
      "714/714 [==============================] - 0s 110us/step - loss: 2.9781 - mean_absolute_error: 2.9781 - accuracy: 0.3039 - val_loss: 3.0943 - val_mean_absolute_error: 3.0943 - val_accuracy: 0.3128\n",
      "\n",
      "Epoch 00085: val_loss did not improve from 2.96053\n",
      "Epoch 86/100\n",
      "714/714 [==============================] - 0s 112us/step - loss: 2.9973 - mean_absolute_error: 2.9973 - accuracy: 0.3025 - val_loss: 3.3301 - val_mean_absolute_error: 3.3301 - val_accuracy: 0.3464\n",
      "\n",
      "Epoch 00086: val_loss did not improve from 2.96053\n",
      "Epoch 87/100\n",
      "714/714 [==============================] - 0s 117us/step - loss: 2.9322 - mean_absolute_error: 2.9322 - accuracy: 0.3011 - val_loss: 3.1641 - val_mean_absolute_error: 3.1641 - val_accuracy: 0.3240\n",
      "\n",
      "Epoch 00087: val_loss did not improve from 2.96053\n",
      "Epoch 88/100\n",
      "714/714 [==============================] - 0s 105us/step - loss: 3.2271 - mean_absolute_error: 3.2271 - accuracy: 0.2913 - val_loss: 3.3663 - val_mean_absolute_error: 3.3663 - val_accuracy: 0.3240\n",
      "\n",
      "Epoch 00088: val_loss did not improve from 2.96053\n",
      "Epoch 89/100\n",
      "714/714 [==============================] - 0s 109us/step - loss: 3.3466 - mean_absolute_error: 3.3466 - accuracy: 0.2899 - val_loss: 3.3429 - val_mean_absolute_error: 3.3429 - val_accuracy: 0.3296\n",
      "\n",
      "Epoch 00089: val_loss did not improve from 2.96053\n",
      "Epoch 90/100\n",
      "714/714 [==============================] - 0s 109us/step - loss: 2.9571 - mean_absolute_error: 2.9571 - accuracy: 0.3011 - val_loss: 3.1713 - val_mean_absolute_error: 3.1713 - val_accuracy: 0.3296\n",
      "\n",
      "Epoch 00090: val_loss did not improve from 2.96053\n",
      "Epoch 91/100\n"
     ]
    },
    {
     "name": "stdout",
     "output_type": "stream",
     "text": [
      "714/714 [==============================] - 0s 112us/step - loss: 3.1036 - mean_absolute_error: 3.1036 - accuracy: 0.2941 - val_loss: 3.5969 - val_mean_absolute_error: 3.5969 - val_accuracy: 0.3240\n",
      "\n",
      "Epoch 00091: val_loss did not improve from 2.96053\n",
      "Epoch 92/100\n",
      "714/714 [==============================] - 0s 117us/step - loss: 3.1911 - mean_absolute_error: 3.1911 - accuracy: 0.2955 - val_loss: 2.9748 - val_mean_absolute_error: 2.9748 - val_accuracy: 0.3017\n",
      "\n",
      "Epoch 00092: val_loss did not improve from 2.96053\n",
      "Epoch 93/100\n",
      "714/714 [==============================] - 0s 113us/step - loss: 3.0580 - mean_absolute_error: 3.0580 - accuracy: 0.2969 - val_loss: 2.9379 - val_mean_absolute_error: 2.9379 - val_accuracy: 0.3408\n",
      "\n",
      "Epoch 00093: val_loss improved from 2.96053 to 2.93789, saving model to Weights-093--2.93789.hdf5\n",
      "Epoch 94/100\n",
      "714/714 [==============================] - 0s 109us/step - loss: 3.0374 - mean_absolute_error: 3.0374 - accuracy: 0.3067 - val_loss: 3.0581 - val_mean_absolute_error: 3.0581 - val_accuracy: 0.3073\n",
      "\n",
      "Epoch 00094: val_loss did not improve from 2.93789\n",
      "Epoch 95/100\n",
      "714/714 [==============================] - 0s 106us/step - loss: 2.9727 - mean_absolute_error: 2.9727 - accuracy: 0.2969 - val_loss: 2.9884 - val_mean_absolute_error: 2.9884 - val_accuracy: 0.3184\n",
      "\n",
      "Epoch 00095: val_loss did not improve from 2.93789\n",
      "Epoch 96/100\n",
      "714/714 [==============================] - 0s 109us/step - loss: 2.9608 - mean_absolute_error: 2.9608 - accuracy: 0.3053 - val_loss: 3.0839 - val_mean_absolute_error: 3.0839 - val_accuracy: 0.3184\n",
      "\n",
      "Epoch 00096: val_loss did not improve from 2.93789\n",
      "Epoch 97/100\n",
      "714/714 [==============================] - 0s 113us/step - loss: 2.9360 - mean_absolute_error: 2.9360 - accuracy: 0.2983 - val_loss: 3.0414 - val_mean_absolute_error: 3.0414 - val_accuracy: 0.3240\n",
      "\n",
      "Epoch 00097: val_loss did not improve from 2.93789\n",
      "Epoch 98/100\n",
      "714/714 [==============================] - 0s 112us/step - loss: 2.8650 - mean_absolute_error: 2.8650 - accuracy: 0.2997 - val_loss: 3.0583 - val_mean_absolute_error: 3.0583 - val_accuracy: 0.2905\n",
      "\n",
      "Epoch 00098: val_loss did not improve from 2.93789\n",
      "Epoch 99/100\n",
      "714/714 [==============================] - 0s 123us/step - loss: 3.1023 - mean_absolute_error: 3.1023 - accuracy: 0.2955 - val_loss: 2.9116 - val_mean_absolute_error: 2.9116 - val_accuracy: 0.3408\n",
      "\n",
      "Epoch 00099: val_loss improved from 2.93789 to 2.91158, saving model to Weights-099--2.91158.hdf5\n",
      "Epoch 100/100\n",
      "714/714 [==============================] - 0s 112us/step - loss: 3.1181 - mean_absolute_error: 3.1181 - accuracy: 0.3067 - val_loss: 3.7771 - val_mean_absolute_error: 3.7771 - val_accuracy: 0.3296\n",
      "\n",
      "Epoch 00100: val_loss did not improve from 2.91158\n"
     ]
    }
   ],
   "source": [
    "history = NN_model.fit(X_train, y_train, epochs=100, batch_size=32, validation_split = 0.2, callbacks=callbacks_list)"
   ]
  },
  {
   "cell_type": "code",
   "execution_count": 19,
   "metadata": {
    "id": "MyEioeZ2B8AA"
   },
   "outputs": [
    {
     "name": "stdout",
     "output_type": "stream",
     "text": [
      "dict_keys(['val_loss', 'val_mean_absolute_error', 'val_accuracy', 'loss', 'mean_absolute_error', 'accuracy'])\n"
     ]
    }
   ],
   "source": [
    "print(history.history.keys())"
   ]
  },
  {
   "cell_type": "code",
   "execution_count": 20,
   "metadata": {},
   "outputs": [
    {
     "data": {
      "image/png": "[encoded data removed]",
      "text/plain": [
       "<Figure size 432x288 with 1 Axes>"
      ]
     },
     "metadata": {
      "needs_background": "light"
     },
     "output_type": "display_data"
    }
   ],
   "source": [
    "plt.plot(history.history['accuracy'])\n",
    "plt.plot(history.history['val_accuracy'])\n",
    "plt.title('model accuracy')\n",
    "plt.ylabel('accuracy')\n",
    "plt.xlabel('epoch')\n",
    "plt.legend(['train', 'test'], loc='upper left')\n",
    "plt.show()"
   ]
  },
  {
   "cell_type": "code",
   "execution_count": 21,
   "metadata": {},
   "outputs": [
    {
     "data": {
      "image/png": "[encoded data removed]",
      "text/plain": [
       "<Figure size 432x288 with 1 Axes>"
      ]
     },
     "metadata": {
      "needs_background": "light"
     },
     "output_type": "display_data"
    }
   ],
   "source": [
    "plt.plot(history.history['loss'])\n",
    "plt.plot(history.history['val_loss'])\n",
    "plt.title('model loss')\n",
    "plt.ylabel('loss')\n",
    "plt.xlabel('epoch')\n",
    "plt.legend(['train', 'test'], loc='upper left')\n",
    "plt.show()"
   ]
  },
  {
   "cell_type": "code",
   "execution_count": 22,
   "metadata": {
    "colab": {
     "base_uri": "https://localhost:8080/"
    },
    "id": "vxuU6KZyAWbg",
    "outputId": "b37e7d5a-5457-41e4-ac6e-ccf35794c3ef"
   },
   "outputs": [
    {
     "name": "stdout",
     "output_type": "stream",
     "text": [
      "441/441 [==============================] - 0s 41us/step\n",
      "Test loss: 3.842462548322959\n",
      "Test accuracy: 0.32199546694755554\n"
     ]
    }
   ],
   "source": [
    "evaluation = NN_model.evaluate(X_test, y_test, batch_size=32)\n",
    "loss = evaluation[0]\n",
    "acc = evaluation[2]\n",
    "print(\"Test loss:\", loss)\n",
    "print(\"Test accuracy:\", acc)"
   ]
  },
  {
   "cell_type": "markdown",
   "metadata": {},
   "source": [
    "# Conclusion\n",
    "With the code seen above, we conclude that the Random Forest Regression model is the best model of the four, and is able to fairly accurately predict an individual's age using their methylation levels at the 6 sites. Not far behind in accuracy is the Gradient Boosting model. The Linear Regression model is not as accurately able to predict the age, but is still able to do so much much more accurately than the neural network, which was only able to achieve a testing accuracy of roughly 30%, and validation accuracy ranging from 30-35%."
   ]
  }
 ],
 "metadata": {
  "colab": {
   "collapsed_sections": [],
   "name": "Epigenetic Clock",
   "provenance": []
  },
  "kernelspec": {
   "display_name": "Python 3",
   "language": "python",
   "name": "python3"
  },
  "language_info": {
   "codemirror_mode": {
    "name": "ipython",
    "version": 3
   },
   "file_extension": ".py",
   "mimetype": "text/x-python",
   "name": "python",
   "nbconvert_exporter": "python",
   "pygments_lexer": "ipython3",
   "version": "3.7.3"
  }
 },
 "nbformat": 4,
 "nbformat_minor": 1
}
