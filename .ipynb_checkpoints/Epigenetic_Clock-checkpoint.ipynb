{
 "cells": [
  {
   "cell_type": "markdown",
   "metadata": {},
   "source": [
    "# Background\n",
    "Scientists define there to be two main types of age: chronological, and biological age. Chronological age is based on how long you have been alive (years since birth), whereas biological age is a rough estimate of how healthy your body is by measuring various different biomarkers. For more information on this, check out my recent article on biological age right here: [What is Biological Age?](https://medium.com/biotein/what-is-biological-age-383692f53e60)\n",
    "\n",
    "One way of determining biological age (as also described in the article) is to measure the methylation levels in your genome. At sites known as CpG sites, along your DNA, various proteins can add on or remove methyl groups, in order to control which genes are expressed into proteins, and which ones aren't. As you age, however, the systems responsible for maintaining this control of the genome begin to break down, leading to errors in methylation. As such, some sites begin to see an accumulation of methyl tags, while others have their tags removed, as you age.\n",
    "\n",
    "Dr. Steve Horvath, longevity researcher at University o California Los Angeles, used this progression to develop a system known as the Horvath aging clock, which is able to produce an accurate estimate of your biological age. For example, after analyzing the methylation levels in a sample of your cells, the clock might tell you that your biological age is around 30, which basically means that your methylation levels (and your body's health) is similar to the average 30-year-old. If your actual age is somewhere around 40, this means you are living a healthy life, whereas if you are only 20 years old, then this suggests that you are living an unhealthy life. This information thus equips people with the knowledge to take control of their lifestyle and live a healthy life."
   ]
  },
  {
   "cell_type": "markdown",
   "metadata": {},
   "source": [
    "# Brief Explanation of This Project\n",
    "In this project, I aim to somewhat replicate the epigenetic clock developed by Horvath, using methylation data taken from blood samples to predict an individual's age."
   ]
  },
  {
   "cell_type": "code",
   "execution_count": 1,
   "metadata": {
    "id": "mBv5xDQEqVJO"
   },
   "outputs": [],
   "source": [
    "# Imports\n",
    "import pandas as pd\n",
    "from sklearn.utils import shuffle\n",
    "from sklearn import preprocessing\n",
    "from sklearn.preprocessing import StandardScaler\n",
    "from sklearn import linear_model\n",
    "from sklearn.model_selection import train_test_split\n",
    "import matplotlib.pyplot as plt\n",
    "import numpy as np"
   ]
  },
  {
   "cell_type": "code",
   "execution_count": 2,
   "metadata": {
    "colab": {
     "base_uri": "https://localhost:8080/",
     "height": 204
    },
    "id": "0fnuC4Gaqa0a",
    "outputId": "77e351c3-67bb-4c68-800b-5376460fdbc2"
   },
   "outputs": [
    {
     "data": {
      "text/html": [
       "<div>\n",
       "<style scoped>\n",
       "    .dataframe tbody tr th:only-of-type {\n",
       "        vertical-align: middle;\n",
       "    }\n",
       "\n",
       "    .dataframe tbody tr th {\n",
       "        vertical-align: top;\n",
       "    }\n",
       "\n",
       "    .dataframe thead th {\n",
       "        text-align: right;\n",
       "    }\n",
       "</style>\n",
       "<table border=\"1\" class=\"dataframe\">\n",
       "  <thead>\n",
       "    <tr style=\"text-align: right;\">\n",
       "      <th></th>\n",
       "      <th>...1</th>\n",
       "      <th>cg09809672</th>\n",
       "      <th>cg22736354</th>\n",
       "      <th>cg02228185</th>\n",
       "      <th>cg01820374</th>\n",
       "      <th>cg06493994</th>\n",
       "      <th>cg19761273</th>\n",
       "      <th>gender</th>\n",
       "      <th>age</th>\n",
       "    </tr>\n",
       "  </thead>\n",
       "  <tbody>\n",
       "    <tr>\n",
       "      <th>0</th>\n",
       "      <td>GSM507152</td>\n",
       "      <td>0.392464</td>\n",
       "      <td>0.281630</td>\n",
       "      <td>0.352591</td>\n",
       "      <td>0.315924</td>\n",
       "      <td>0.111604</td>\n",
       "      <td>0.211683</td>\n",
       "      <td>1</td>\n",
       "      <td>71.06</td>\n",
       "    </tr>\n",
       "    <tr>\n",
       "      <th>1</th>\n",
       "      <td>GSM507153</td>\n",
       "      <td>0.377919</td>\n",
       "      <td>0.238900</td>\n",
       "      <td>0.520396</td>\n",
       "      <td>0.323641</td>\n",
       "      <td>0.127965</td>\n",
       "      <td>0.184307</td>\n",
       "      <td>1</td>\n",
       "      <td>69.65</td>\n",
       "    </tr>\n",
       "    <tr>\n",
       "      <th>2</th>\n",
       "      <td>GSM507154</td>\n",
       "      <td>0.458522</td>\n",
       "      <td>0.204078</td>\n",
       "      <td>0.519273</td>\n",
       "      <td>0.363714</td>\n",
       "      <td>0.119891</td>\n",
       "      <td>0.215067</td>\n",
       "      <td>1</td>\n",
       "      <td>65.79</td>\n",
       "    </tr>\n",
       "    <tr>\n",
       "      <th>3</th>\n",
       "      <td>GSM507155</td>\n",
       "      <td>0.479108</td>\n",
       "      <td>0.154893</td>\n",
       "      <td>0.618859</td>\n",
       "      <td>0.493972</td>\n",
       "      <td>0.088941</td>\n",
       "      <td>0.240057</td>\n",
       "      <td>1</td>\n",
       "      <td>49.39</td>\n",
       "    </tr>\n",
       "    <tr>\n",
       "      <th>4</th>\n",
       "      <td>GSM507156</td>\n",
       "      <td>0.418763</td>\n",
       "      <td>0.217832</td>\n",
       "      <td>0.561005</td>\n",
       "      <td>0.398580</td>\n",
       "      <td>0.085992</td>\n",
       "      <td>0.207462</td>\n",
       "      <td>1</td>\n",
       "      <td>60.68</td>\n",
       "    </tr>\n",
       "  </tbody>\n",
       "</table>\n",
       "</div>"
      ],
      "text/plain": [
       "        ...1  cg09809672  cg22736354  cg02228185  cg01820374  cg06493994  \\\n",
       "0  GSM507152    0.392464    0.281630    0.352591    0.315924    0.111604   \n",
       "1  GSM507153    0.377919    0.238900    0.520396    0.323641    0.127965   \n",
       "2  GSM507154    0.458522    0.204078    0.519273    0.363714    0.119891   \n",
       "3  GSM507155    0.479108    0.154893    0.618859    0.493972    0.088941   \n",
       "4  GSM507156    0.418763    0.217832    0.561005    0.398580    0.085992   \n",
       "\n",
       "   cg19761273  gender    age  \n",
       "0    0.211683       1  71.06  \n",
       "1    0.184307       1  69.65  \n",
       "2    0.215067       1  65.79  \n",
       "3    0.240057       1  49.39  \n",
       "4    0.207462       1  60.68  "
      ]
     },
     "execution_count": 2,
     "metadata": {},
     "output_type": "execute_result"
    }
   ],
   "source": [
    "# Loading methylation dataset\n",
    "path = \"C:/Users/aadid/Documents/Extra/R_Code/Epigenetic Clock/Methylation_Dataset.csv\"\n",
    "df = pd.read_csv(path)\n",
    "df.head()"
   ]
  },
  {
   "cell_type": "code",
   "execution_count": 3,
   "metadata": {
    "colab": {
     "base_uri": "https://localhost:8080/",
     "height": 204
    },
    "id": "L_E6RlCIrMtB",
    "outputId": "6859b7dd-b0f0-4b8d-87c4-3da87b0c4f8c"
   },
   "outputs": [
    {
     "data": {
      "text/html": [
       "<div>\n",
       "<style scoped>\n",
       "    .dataframe tbody tr th:only-of-type {\n",
       "        vertical-align: middle;\n",
       "    }\n",
       "\n",
       "    .dataframe tbody tr th {\n",
       "        vertical-align: top;\n",
       "    }\n",
       "\n",
       "    .dataframe thead th {\n",
       "        text-align: right;\n",
       "    }\n",
       "</style>\n",
       "<table border=\"1\" class=\"dataframe\">\n",
       "  <thead>\n",
       "    <tr style=\"text-align: right;\">\n",
       "      <th></th>\n",
       "      <th>cg09809672</th>\n",
       "      <th>cg22736354</th>\n",
       "      <th>cg02228185</th>\n",
       "      <th>cg01820374</th>\n",
       "      <th>cg06493994</th>\n",
       "      <th>cg19761273</th>\n",
       "      <th>gender</th>\n",
       "      <th>age</th>\n",
       "    </tr>\n",
       "  </thead>\n",
       "  <tbody>\n",
       "    <tr>\n",
       "      <th>0</th>\n",
       "      <td>0.370513</td>\n",
       "      <td>-2.679426</td>\n",
       "      <td>1.071757</td>\n",
       "      <td>-0.419631</td>\n",
       "      <td>-3.386605</td>\n",
       "      <td>-1.288155</td>\n",
       "      <td>1</td>\n",
       "      <td>31.000000</td>\n",
       "    </tr>\n",
       "    <tr>\n",
       "      <th>1</th>\n",
       "      <td>0.765490</td>\n",
       "      <td>0.088040</td>\n",
       "      <td>0.704960</td>\n",
       "      <td>0.536780</td>\n",
       "      <td>0.048230</td>\n",
       "      <td>0.324100</td>\n",
       "      <td>0</td>\n",
       "      <td>4.333333</td>\n",
       "    </tr>\n",
       "    <tr>\n",
       "      <th>2</th>\n",
       "      <td>0.654020</td>\n",
       "      <td>0.073570</td>\n",
       "      <td>0.696060</td>\n",
       "      <td>0.414720</td>\n",
       "      <td>0.058600</td>\n",
       "      <td>0.339130</td>\n",
       "      <td>0</td>\n",
       "      <td>6.750000</td>\n",
       "    </tr>\n",
       "    <tr>\n",
       "      <th>3</th>\n",
       "      <td>0.880000</td>\n",
       "      <td>0.018600</td>\n",
       "      <td>0.801000</td>\n",
       "      <td>0.902000</td>\n",
       "      <td>0.017700</td>\n",
       "      <td>0.386000</td>\n",
       "      <td>1</td>\n",
       "      <td>0.000000</td>\n",
       "    </tr>\n",
       "    <tr>\n",
       "      <th>4</th>\n",
       "      <td>0.558180</td>\n",
       "      <td>0.113090</td>\n",
       "      <td>0.712590</td>\n",
       "      <td>0.520650</td>\n",
       "      <td>0.037370</td>\n",
       "      <td>0.293700</td>\n",
       "      <td>0</td>\n",
       "      <td>12.166667</td>\n",
       "    </tr>\n",
       "  </tbody>\n",
       "</table>\n",
       "</div>"
      ],
      "text/plain": [
       "   cg09809672  cg22736354  cg02228185  cg01820374  cg06493994  cg19761273  \\\n",
       "0    0.370513   -2.679426    1.071757   -0.419631   -3.386605   -1.288155   \n",
       "1    0.765490    0.088040    0.704960    0.536780    0.048230    0.324100   \n",
       "2    0.654020    0.073570    0.696060    0.414720    0.058600    0.339130   \n",
       "3    0.880000    0.018600    0.801000    0.902000    0.017700    0.386000   \n",
       "4    0.558180    0.113090    0.712590    0.520650    0.037370    0.293700   \n",
       "\n",
       "   gender        age  \n",
       "0       1  31.000000  \n",
       "1       0   4.333333  \n",
       "2       0   6.750000  \n",
       "3       1   0.000000  \n",
       "4       0  12.166667  "
      ]
     },
     "execution_count": 3,
     "metadata": {},
     "output_type": "execute_result"
    }
   ],
   "source": [
    "# Shuffle dataframe to randomize data order, possibly preventing confounding factors\n",
    "df = shuffle(df)\n",
    "df.reset_index(inplace=True, drop=True)\n",
    "df = df.rename(columns={'...1':'patient_id'})\n",
    "df = df.drop(['patient_id'], axis=1)\n",
    "df = df.dropna()\n",
    "\n",
    "def oneHotEncode(df, colNames):\n",
    "  for col in colNames:\n",
    "    if (df[col].dtype == np.dtype('object')):\n",
    "      dummies = pd.get_dummies(df[col],prefix=col)\n",
    "      df = pd.concat([df,dummies],axis=1)\n",
    "      #drop the encoded column\n",
    "      df.drop([col],axis = 1 , inplace=True)\n",
    "    return df\n",
    "\n",
    "df = oneHotEncode(df, df.columns)\n",
    "\n",
    "df.head()"
   ]
  },
  {
   "cell_type": "code",
   "execution_count": 5,
   "metadata": {
    "colab": {
     "base_uri": "https://localhost:8080/"
    },
    "id": "iE4Dhyvy5EuR",
    "outputId": "2f931de1-db35-4ffd-b84a-178a2736b71c"
   },
   "outputs": [
    {
     "data": {
      "text/plain": [
       "(array([], dtype=int64), array([], dtype=int64))"
      ]
     },
     "execution_count": 5,
     "metadata": {},
     "output_type": "execute_result"
    }
   ],
   "source": [
    "np.where(pd.isnull(df))\n"
   ]
  },
  {
   "cell_type": "code",
   "execution_count": 4,
   "metadata": {
    "colab": {
     "base_uri": "https://localhost:8080/",
     "height": 501
    },
    "id": "rilLSJs38tth",
    "outputId": "6c4560c8-c965-4195-e908-3461498e2528"
   },
   "outputs": [
    {
     "data": {
      "image/png": "[encoded data removed]",
      "text/plain": [
       "<Figure size 576x576 with 2 Axes>"
      ]
     },
     "metadata": {
      "needs_background": "light"
     },
     "output_type": "display_data"
    }
   ],
   "source": [
    "import seaborn as sb\n",
    "C_mat = df.corr()\n",
    "fig = plt.figure(figsize = (8,8))\n",
    "\n",
    "sb.heatmap(C_mat, vmax=1, square=True)\n",
    "plt.show()"
   ]
  },
  {
   "cell_type": "code",
   "execution_count": 7,
   "metadata": {
    "colab": {
     "base_uri": "https://localhost:8080/",
     "height": 299
    },
    "id": "Xp9pvO6lumwy",
    "outputId": "64d7bd9f-c8ed-4343-d50d-7d36557404b0"
   },
   "outputs": [
    {
     "data": {
      "text/plain": [
       "<matplotlib.axes._subplots.AxesSubplot at 0x19439381d30>"
      ]
     },
     "execution_count": 7,
     "metadata": {},
     "output_type": "execute_result"
    },
    {
     "data": {
      "image/png": "[encoded data removed]",
      "text/plain": [
       "<Figure size 432x288 with 1 Axes>"
      ]
     },
     "metadata": {
      "needs_background": "light"
     },
     "output_type": "display_data"
    }
   ],
   "source": [
    "df['cg09809672'].plot(kind='bar')"
   ]
  },
  {
   "cell_type": "code",
   "execution_count": 8,
   "metadata": {
    "id": "1fSlC6Zav0Jq"
   },
   "outputs": [
    {
     "name": "stderr",
     "output_type": "stream",
     "text": [
      "C:\\Users\\aadid\\AppData\\Roaming\\Python\\Python37\\site-packages\\sklearn\\preprocessing\\data.py:645: DataConversionWarning: Data with input dtype int64, float64 were all converted to float64 by StandardScaler.\n",
      "  return self.partial_fit(X, y)\n",
      "C:\\Users\\aadid\\AppData\\Roaming\\Python\\Python37\\site-packages\\sklearn\\base.py:464: DataConversionWarning: Data with input dtype int64, float64 were all converted to float64 by StandardScaler.\n",
      "  return self.fit(X, **fit_params).transform(X)\n"
     ]
    }
   ],
   "source": [
    "X = df[['cg09809672', 'cg22736354', 'cg02228185',\t'cg01820374',\t'cg06493994',\t'cg19761273', 'gender']]\n",
    "std_scaler = StandardScaler()\n",
    "std_scaler\n",
    "\n",
    "X_std = pd.DataFrame(std_scaler.fit_transform(X), columns=X.columns)"
   ]
  },
  {
   "cell_type": "code",
   "execution_count": 9,
   "metadata": {
    "id": "X0PlLmcn27wM"
   },
   "outputs": [],
   "source": [
    "y = df['age']"
   ]
  },
  {
   "cell_type": "code",
   "execution_count": 10,
   "metadata": {
    "colab": {
     "base_uri": "https://localhost:8080/",
     "height": 298
    },
    "id": "m7XsFluRxlNf",
    "outputId": "c751a44e-a270-41e3-91dd-96683580f0aa"
   },
   "outputs": [
    {
     "data": {
      "text/plain": [
       "<matplotlib.axes._subplots.AxesSubplot at 0x1943bd5f6a0>"
      ]
     },
     "execution_count": 10,
     "metadata": {},
     "output_type": "execute_result"
    },
    {
     "data": {
      "image/png": "[encoded data removed]",
      "text/plain": [
       "<Figure size 432x288 with 1 Axes>"
      ]
     },
     "metadata": {
      "needs_background": "light"
     },
     "output_type": "display_data"
    }
   ],
   "source": [
    "X_std['cg01820374'].plot(kind='bar')"
   ]
  },
  {
   "cell_type": "code",
   "execution_count": 11,
   "metadata": {
    "colab": {
     "base_uri": "https://localhost:8080/",
     "height": 280
    },
    "id": "GqvpC8YJxseR",
    "outputId": "f4bf0849-a6ad-4d6b-ed67-5d5144f344de"
   },
   "outputs": [
    {
     "data": {
      "image/png": "[encoded data removed]",
      "text/plain": [
       "<Figure size 432x288 with 1 Axes>"
      ]
     },
     "metadata": {
      "needs_background": "light"
     },
     "output_type": "display_data"
    }
   ],
   "source": [
    "import matplotlib.pyplot as plt\n",
    "\n",
    "plt.scatter(df['age'], X_std['cg22736354'])\n",
    "plt.xlabel('Age')\n",
    "plt.ylabel('Methylation')\n",
    "plt.show()"
   ]
  },
  {
   "cell_type": "code",
   "execution_count": 12,
   "metadata": {
    "id": "GfzLUnz23NBr"
   },
   "outputs": [],
   "source": [
    "X_train, X_test, y_train, y_test = train_test_split(X, y, test_size = 0.33, random_state = 42)"
   ]
  },
  {
   "cell_type": "code",
   "execution_count": 13,
   "metadata": {
    "colab": {
     "base_uri": "https://localhost:8080/"
    },
    "id": "XhoP-fEw94ZP",
    "outputId": "5274b9e9-84e3-4953-e7dc-00b28ece44d3"
   },
   "outputs": [
    {
     "data": {
      "text/plain": [
       "972      8.416667\n",
       "1148    10.916667\n",
       "1351    26.000000\n",
       "324      6.833333\n",
       "258     11.666667\n",
       "Name: age, dtype: float64"
      ]
     },
     "execution_count": 13,
     "metadata": {},
     "output_type": "execute_result"
    }
   ],
   "source": [
    "y_test.head()"
   ]
  },
  {
   "cell_type": "code",
   "execution_count": 14,
   "metadata": {
    "colab": {
     "base_uri": "https://localhost:8080/"
    },
    "id": "tKnDAEiN0laa",
    "outputId": "e9a0a152-ffe3-47f1-94d2-1704ea31bf1a"
   },
   "outputs": [
    {
     "data": {
      "text/plain": [
       "LinearRegression(copy_X=True, fit_intercept=True, n_jobs=None,\n",
       "         normalize=False)"
      ]
     },
     "execution_count": 14,
     "metadata": {},
     "output_type": "execute_result"
    }
   ],
   "source": [
    "regr = linear_model.LinearRegression()\n",
    "regr.fit(X_train, y_train)"
   ]
  },
  {
   "cell_type": "code",
   "execution_count": 15,
   "metadata": {
    "colab": {
     "base_uri": "https://localhost:8080/"
    },
    "id": "du7n98ZY8lCN",
    "outputId": "34b4a403-b703-485a-a7f4-f6d91298e6bb"
   },
   "outputs": [
    {
     "name": "stdout",
     "output_type": "stream",
     "text": [
      "0.7289873359837876\n"
     ]
    }
   ],
   "source": [
    "print(regr.score(X_test, y_test))"
   ]
  },
  {
   "cell_type": "code",
   "execution_count": 16,
   "metadata": {
    "colab": {
     "base_uri": "https://localhost:8080/"
    },
    "id": "g8OmmVp26I0_",
    "outputId": "c1802164-a8d4-4732-ddd6-42800ea20121"
   },
   "outputs": [
    {
     "data": {
      "text/plain": [
       "RandomForestRegressor(bootstrap=True, criterion='mse', max_depth=None,\n",
       "           max_features='auto', max_leaf_nodes=None,\n",
       "           min_impurity_decrease=0.0, min_impurity_split=None,\n",
       "           min_samples_leaf=1, min_samples_split=2,\n",
       "           min_weight_fraction_leaf=0.0, n_estimators=15, n_jobs=None,\n",
       "           oob_score=False, random_state=0, verbose=0, warm_start=False)"
      ]
     },
     "execution_count": 16,
     "metadata": {},
     "output_type": "execute_result"
    }
   ],
   "source": [
    "from sklearn.ensemble import RandomForestRegressor\n",
    "regressor = RandomForestRegressor(n_estimators = 15, random_state = 0)\n",
    "regressor.fit(X_train, y_train)"
   ]
  },
  {
   "cell_type": "code",
   "execution_count": 17,
   "metadata": {
    "colab": {
     "base_uri": "https://localhost:8080/"
    },
    "id": "QAZxo_dg6swV",
    "outputId": "d6272a68-a78d-4dc3-a0c6-0b82b92cc139"
   },
   "outputs": [
    {
     "name": "stdout",
     "output_type": "stream",
     "text": [
      "0.9270875542076957\n"
     ]
    }
   ],
   "source": [
    "print(regressor.score(X_test, y_test))"
   ]
  },
  {
   "cell_type": "code",
   "execution_count": 18,
   "metadata": {
    "colab": {
     "base_uri": "https://localhost:8080/"
    },
    "id": "Ma-f_TYmVIQo",
    "outputId": "3bae1b06-a16f-49bf-ab39-654cad0ea596"
   },
   "outputs": [
    {
     "name": "stdout",
     "output_type": "stream",
     "text": [
      "Prediction: 12.477777777066667     Actual: 8.416666667000001\n",
      "Prediction: 5.861111111066667     Actual: 10.91666667\n",
      "Prediction: 29.866666666666667     Actual: 26.0\n",
      "Prediction: 7.922222222866667     Actual: 6.833333333\n",
      "Prediction: 11.416666667066664     Actual: 11.66666667\n",
      "Prediction: 11.4722222222     Actual: 6.666666667\n",
      "Prediction: 65.58384933333333     Actual: 75.09651\n",
      "Prediction: 8.422222221933334     Actual: 9.166666667000001\n",
      "Prediction: 11.155555554933335     Actual: 8.333333332999999\n",
      "Prediction: 11.205555555400002     Actual: 8.916666667000001\n"
     ]
    }
   ],
   "source": [
    "predictions = regressor.predict(X_test)\n",
    "for i in range(0, 10):\n",
    "  print(\"Prediction:\", predictions[i],\"    Actual:\", y_test.iloc[i])"
   ]
  },
  {
   "cell_type": "code",
   "execution_count": 31,
   "metadata": {
    "colab": {
     "base_uri": "https://localhost:8080/"
    },
    "id": "9tHfs4Qw9zrU",
    "outputId": "0d8f17bf-7835-4aa6-e61c-acbfd78ca46e"
   },
   "outputs": [
    {
     "name": "stdout",
     "output_type": "stream",
     "text": [
      "Model: \"sequential_2\"\n",
      "_________________________________________________________________\n",
      "Layer (type)                 Output Shape              Param #   \n",
      "=================================================================\n",
      "dense_6 (Dense)              (None, 128)               1024      \n",
      "_________________________________________________________________\n",
      "dense_7 (Dense)              (None, 256)               33024     \n",
      "_________________________________________________________________\n",
      "dense_8 (Dense)              (None, 256)               65792     \n",
      "_________________________________________________________________\n",
      "dense_9 (Dense)              (None, 256)               65792     \n",
      "_________________________________________________________________\n",
      "dense_10 (Dense)             (None, 1)                 257       \n",
      "=================================================================\n",
      "Total params: 165,889\n",
      "Trainable params: 165,889\n",
      "Non-trainable params: 0\n",
      "_________________________________________________________________\n"
     ]
    }
   ],
   "source": [
    "import tensorflow as tf\n",
    "from keras.callbacks import ModelCheckpoint\n",
    "from keras.models import Sequential\n",
    "from keras.layers import Dense, Activation, Flatten\n",
    "\n",
    "\n",
    "NN_model = Sequential()\n",
    "\n",
    "# Input layer\n",
    "NN_model.add(Dense(128, kernel_initializer='normal', input_dim=X_train.shape[1], activation='relu'))\n",
    "\n",
    "# Hidden layers\n",
    "NN_model.add(Dense(256, kernel_initializer='normal', activation='relu'))\n",
    "NN_model.add(Dense(256, kernel_initializer='normal', activation='relu'))\n",
    "NN_model.add(Dense(256, kernel_initializer='normal', activation='relu'))\n",
    "\n",
    "# Output layer\n",
    "NN_model.add(Dense(1, kernel_initializer='normal', activation='linear'))\n",
    "\n",
    "\n",
    "# Compile NN\n",
    "NN_model.compile(loss='mean_absolute_error', optimizer='adam', metrics=['mean_absolute_error', 'accuracy'])\n",
    "NN_model.summary()"
   ]
  },
  {
   "cell_type": "code",
   "execution_count": 32,
   "metadata": {
    "id": "HdalP-xpACGx"
   },
   "outputs": [],
   "source": [
    "checkpoint_name = 'Weights-{epoch:03d}--{val_loss:.5f}.hdf5' \n",
    "checkpoint = ModelCheckpoint(checkpoint_name, monitor='val_loss', verbose = 1, save_best_only = True, mode ='auto')\n",
    "callbacks_list = [checkpoint]"
   ]
  },
  {
   "cell_type": "code",
   "execution_count": 33,
   "metadata": {
    "colab": {
     "base_uri": "https://localhost:8080/"
    },
    "id": "sjqvn9peAOcY",
    "outputId": "706f36e2-80d9-4b88-cb4c-15e94f46e3db"
   },
   "outputs": [
    {
     "name": "stdout",
     "output_type": "stream",
     "text": [
      "Train on 714 samples, validate on 179 samples\n",
      "Epoch 1/100\n",
      "714/714 [==============================] - 0s 494us/step - loss: 15.4959 - mean_absolute_error: 15.4959 - accuracy: 0.1359 - val_loss: 15.8257 - val_mean_absolute_error: 15.8257 - val_accuracy: 0.0112\n",
      "\n",
      "Epoch 00001: val_loss improved from inf to 15.82573, saving model to Weights-001--15.82573.hdf5\n",
      "Epoch 2/100\n",
      "714/714 [==============================] - 0s 113us/step - loss: 12.7301 - mean_absolute_error: 12.7301 - accuracy: 0.0084 - val_loss: 15.2151 - val_mean_absolute_error: 15.2151 - val_accuracy: 0.0112\n",
      "\n",
      "Epoch 00002: val_loss improved from 15.82573 to 15.21509, saving model to Weights-002--15.21509.hdf5\n",
      "Epoch 3/100\n",
      "714/714 [==============================] - 0s 105us/step - loss: 10.5295 - mean_absolute_error: 10.5295 - accuracy: 0.0252 - val_loss: 10.6771 - val_mean_absolute_error: 10.6771 - val_accuracy: 0.1341\n",
      "\n",
      "Epoch 00003: val_loss improved from 15.21509 to 10.67710, saving model to Weights-003--10.67710.hdf5\n",
      "Epoch 4/100\n",
      "714/714 [==============================] - 0s 106us/step - loss: 6.7588 - mean_absolute_error: 6.7588 - accuracy: 0.1975 - val_loss: 6.8990 - val_mean_absolute_error: 6.8990 - val_accuracy: 0.3073\n",
      "\n",
      "Epoch 00004: val_loss improved from 10.67710 to 6.89903, saving model to Weights-004--6.89903.hdf5\n",
      "Epoch 5/100\n",
      "714/714 [==============================] - 0s 110us/step - loss: 5.6248 - mean_absolute_error: 5.6248 - accuracy: 0.2969 - val_loss: 6.2225 - val_mean_absolute_error: 6.2225 - val_accuracy: 0.3128\n",
      "\n",
      "Epoch 00005: val_loss improved from 6.89903 to 6.22248, saving model to Weights-005--6.22248.hdf5\n",
      "Epoch 6/100\n",
      "714/714 [==============================] - 0s 116us/step - loss: 5.4490 - mean_absolute_error: 5.4490 - accuracy: 0.2913 - val_loss: 5.9325 - val_mean_absolute_error: 5.9325 - val_accuracy: 0.2626\n",
      "\n",
      "Epoch 00006: val_loss improved from 6.22248 to 5.93254, saving model to Weights-006--5.93254.hdf5\n",
      "Epoch 7/100\n",
      "714/714 [==============================] - 0s 113us/step - loss: 4.8475 - mean_absolute_error: 4.8475 - accuracy: 0.2899 - val_loss: 5.6003 - val_mean_absolute_error: 5.6003 - val_accuracy: 0.3128\n",
      "\n",
      "Epoch 00007: val_loss improved from 5.93254 to 5.60035, saving model to Weights-007--5.60035.hdf5\n",
      "Epoch 8/100\n",
      "714/714 [==============================] - 0s 124us/step - loss: 4.5047 - mean_absolute_error: 4.5047 - accuracy: 0.3067 - val_loss: 5.1109 - val_mean_absolute_error: 5.1109 - val_accuracy: 0.2905\n",
      "\n",
      "Epoch 00008: val_loss improved from 5.60035 to 5.11086, saving model to Weights-008--5.11086.hdf5\n",
      "Epoch 9/100\n",
      "714/714 [==============================] - 0s 123us/step - loss: 4.2974 - mean_absolute_error: 4.2974 - accuracy: 0.2969 - val_loss: 5.5141 - val_mean_absolute_error: 5.5141 - val_accuracy: 0.2849\n",
      "\n",
      "Epoch 00009: val_loss did not improve from 5.11086\n",
      "Epoch 10/100\n",
      "714/714 [==============================] - 0s 120us/step - loss: 3.9333 - mean_absolute_error: 3.9333 - accuracy: 0.3109 - val_loss: 4.5838 - val_mean_absolute_error: 4.5838 - val_accuracy: 0.2961\n",
      "\n",
      "Epoch 00010: val_loss improved from 5.11086 to 4.58383, saving model to Weights-010--4.58383.hdf5\n",
      "Epoch 11/100\n",
      "714/714 [==============================] - 0s 101us/step - loss: 3.6584 - mean_absolute_error: 3.6584 - accuracy: 0.3123 - val_loss: 4.7671 - val_mean_absolute_error: 4.7671 - val_accuracy: 0.2737\n",
      "\n",
      "Epoch 00011: val_loss did not improve from 4.58383\n",
      "Epoch 12/100\n",
      "714/714 [==============================] - 0s 115us/step - loss: 3.5894 - mean_absolute_error: 3.5894 - accuracy: 0.3151 - val_loss: 4.8721 - val_mean_absolute_error: 4.8721 - val_accuracy: 0.3073\n",
      "\n",
      "Epoch 00012: val_loss did not improve from 4.58383\n",
      "Epoch 13/100\n",
      "714/714 [==============================] - 0s 115us/step - loss: 3.4483 - mean_absolute_error: 3.4483 - accuracy: 0.3151 - val_loss: 4.4235 - val_mean_absolute_error: 4.4235 - val_accuracy: 0.2849\n",
      "\n",
      "Epoch 00013: val_loss improved from 4.58383 to 4.42353, saving model to Weights-013--4.42353.hdf5\n",
      "Epoch 14/100\n",
      "714/714 [==============================] - 0s 115us/step - loss: 3.3683 - mean_absolute_error: 3.3683 - accuracy: 0.3207 - val_loss: 4.5840 - val_mean_absolute_error: 4.5840 - val_accuracy: 0.2849\n",
      "\n",
      "Epoch 00014: val_loss did not improve from 4.42353\n",
      "Epoch 15/100\n",
      "714/714 [==============================] - 0s 113us/step - loss: 3.4033 - mean_absolute_error: 3.4033 - accuracy: 0.3207 - val_loss: 4.3274 - val_mean_absolute_error: 4.3274 - val_accuracy: 0.3017\n",
      "\n",
      "Epoch 00015: val_loss improved from 4.42353 to 4.32738, saving model to Weights-015--4.32738.hdf5\n",
      "Epoch 16/100\n",
      "714/714 [==============================] - 0s 116us/step - loss: 3.4438 - mean_absolute_error: 3.4438 - accuracy: 0.3081 - val_loss: 4.4602 - val_mean_absolute_error: 4.4602 - val_accuracy: 0.2793\n",
      "\n",
      "Epoch 00016: val_loss did not improve from 4.32738\n",
      "Epoch 17/100\n",
      "714/714 [==============================] - 0s 113us/step - loss: 3.4704 - mean_absolute_error: 3.4704 - accuracy: 0.3095 - val_loss: 5.4396 - val_mean_absolute_error: 5.4396 - val_accuracy: 0.3017\n",
      "\n",
      "Epoch 00017: val_loss did not improve from 4.32738\n",
      "Epoch 18/100\n",
      "714/714 [==============================] - 0s 117us/step - loss: 3.4778 - mean_absolute_error: 3.4778 - accuracy: 0.3151 - val_loss: 4.4529 - val_mean_absolute_error: 4.4529 - val_accuracy: 0.2737\n",
      "\n",
      "Epoch 00018: val_loss did not improve from 4.32738\n",
      "Epoch 19/100\n",
      "714/714 [==============================] - 0s 116us/step - loss: 3.3499 - mean_absolute_error: 3.3499 - accuracy: 0.3039 - val_loss: 4.3505 - val_mean_absolute_error: 4.3505 - val_accuracy: 0.3017\n",
      "\n",
      "Epoch 00019: val_loss did not improve from 4.32738\n",
      "Epoch 20/100\n",
      "714/714 [==============================] - 0s 135us/step - loss: 3.1102 - mean_absolute_error: 3.1102 - accuracy: 0.3235 - val_loss: 4.5050 - val_mean_absolute_error: 4.5050 - val_accuracy: 0.2849\n",
      "\n",
      "Epoch 00020: val_loss did not improve from 4.32738\n",
      "Epoch 21/100\n",
      "714/714 [==============================] - 0s 112us/step - loss: 3.1390 - mean_absolute_error: 3.1390 - accuracy: 0.3235 - val_loss: 4.2404 - val_mean_absolute_error: 4.2404 - val_accuracy: 0.3017\n",
      "\n",
      "Epoch 00021: val_loss improved from 4.32738 to 4.24040, saving model to Weights-021--4.24040.hdf5\n",
      "Epoch 22/100\n",
      "714/714 [==============================] - 0s 122us/step - loss: 3.2991 - mean_absolute_error: 3.2991 - accuracy: 0.3151 - val_loss: 4.2465 - val_mean_absolute_error: 4.2465 - val_accuracy: 0.2961\n",
      "\n",
      "Epoch 00022: val_loss did not improve from 4.24040\n",
      "Epoch 23/100\n",
      "714/714 [==============================] - 0s 138us/step - loss: 3.1811 - mean_absolute_error: 3.1811 - accuracy: 0.3095 - val_loss: 4.3446 - val_mean_absolute_error: 4.3446 - val_accuracy: 0.2961\n",
      "\n",
      "Epoch 00023: val_loss did not improve from 4.24040\n",
      "Epoch 24/100\n",
      "714/714 [==============================] - 0s 108us/step - loss: 3.1493 - mean_absolute_error: 3.1493 - accuracy: 0.3249 - val_loss: 4.4849 - val_mean_absolute_error: 4.4849 - val_accuracy: 0.2793\n",
      "\n",
      "Epoch 00024: val_loss did not improve from 4.24040\n",
      "Epoch 25/100\n",
      "714/714 [==============================] - 0s 110us/step - loss: 3.0734 - mean_absolute_error: 3.0734 - accuracy: 0.3305 - val_loss: 4.4557 - val_mean_absolute_error: 4.4557 - val_accuracy: 0.3017\n",
      "\n",
      "Epoch 00025: val_loss did not improve from 4.24040\n",
      "Epoch 26/100\n",
      "714/714 [==============================] - 0s 144us/step - loss: 3.4289 - mean_absolute_error: 3.4289 - accuracy: 0.3333 - val_loss: 4.4864 - val_mean_absolute_error: 4.4864 - val_accuracy: 0.2626\n",
      "\n",
      "Epoch 00026: val_loss did not improve from 4.24040\n",
      "Epoch 27/100\n",
      "714/714 [==============================] - 0s 135us/step - loss: 2.9841 - mean_absolute_error: 2.9841 - accuracy: 0.3235 - val_loss: 4.3423 - val_mean_absolute_error: 4.3423 - val_accuracy: 0.2961\n",
      "\n",
      "Epoch 00027: val_loss did not improve from 4.24040\n",
      "Epoch 28/100\n",
      "714/714 [==============================] - 0s 103us/step - loss: 3.1955 - mean_absolute_error: 3.1955 - accuracy: 0.3207 - val_loss: 4.4876 - val_mean_absolute_error: 4.4876 - val_accuracy: 0.3296\n",
      "\n",
      "Epoch 00028: val_loss did not improve from 4.24040\n",
      "Epoch 29/100\n",
      "714/714 [==============================] - 0s 112us/step - loss: 3.1252 - mean_absolute_error: 3.1252 - accuracy: 0.3165 - val_loss: 4.5819 - val_mean_absolute_error: 4.5819 - val_accuracy: 0.3240\n",
      "\n",
      "Epoch 00029: val_loss did not improve from 4.24040\n",
      "Epoch 30/100\n"
     ]
    },
    {
     "name": "stdout",
     "output_type": "stream",
     "text": [
      "714/714 [==============================] - 0s 113us/step - loss: 3.1066 - mean_absolute_error: 3.1066 - accuracy: 0.3207 - val_loss: 4.1797 - val_mean_absolute_error: 4.1797 - val_accuracy: 0.3073\n",
      "\n",
      "Epoch 00030: val_loss improved from 4.24040 to 4.17967, saving model to Weights-030--4.17967.hdf5\n",
      "Epoch 31/100\n",
      "714/714 [==============================] - 0s 140us/step - loss: 3.0296 - mean_absolute_error: 3.0296 - accuracy: 0.3207 - val_loss: 4.3500 - val_mean_absolute_error: 4.3500 - val_accuracy: 0.2961\n",
      "\n",
      "Epoch 00031: val_loss did not improve from 4.17967\n",
      "Epoch 32/100\n",
      "714/714 [==============================] - 0s 120us/step - loss: 3.1691 - mean_absolute_error: 3.1691 - accuracy: 0.3263 - val_loss: 4.4003 - val_mean_absolute_error: 4.4003 - val_accuracy: 0.2682\n",
      "\n",
      "Epoch 00032: val_loss did not improve from 4.17967\n",
      "Epoch 33/100\n",
      "714/714 [==============================] - 0s 103us/step - loss: 3.2186 - mean_absolute_error: 3.2186 - accuracy: 0.3165 - val_loss: 4.1477 - val_mean_absolute_error: 4.1477 - val_accuracy: 0.2849\n",
      "\n",
      "Epoch 00033: val_loss improved from 4.17967 to 4.14768, saving model to Weights-033--4.14768.hdf5\n",
      "Epoch 34/100\n",
      "714/714 [==============================] - 0s 96us/step - loss: 3.1809 - mean_absolute_error: 3.1809 - accuracy: 0.3235 - val_loss: 4.2592 - val_mean_absolute_error: 4.2592 - val_accuracy: 0.2849\n",
      "\n",
      "Epoch 00034: val_loss did not improve from 4.14768\n",
      "Epoch 35/100\n",
      "714/714 [==============================] - 0s 108us/step - loss: 2.8982 - mean_absolute_error: 2.8982 - accuracy: 0.3319 - val_loss: 4.7826 - val_mean_absolute_error: 4.7826 - val_accuracy: 0.3240\n",
      "\n",
      "Epoch 00035: val_loss did not improve from 4.14768\n",
      "Epoch 36/100\n",
      "714/714 [==============================] - 0s 101us/step - loss: 3.1908 - mean_absolute_error: 3.1908 - accuracy: 0.3179 - val_loss: 4.0888 - val_mean_absolute_error: 4.0888 - val_accuracy: 0.3073\n",
      "\n",
      "Epoch 00036: val_loss improved from 4.14768 to 4.08883, saving model to Weights-036--4.08883.hdf5\n",
      "Epoch 37/100\n",
      "714/714 [==============================] - 0s 110us/step - loss: 3.1256 - mean_absolute_error: 3.1256 - accuracy: 0.3235 - val_loss: 4.0803 - val_mean_absolute_error: 4.0803 - val_accuracy: 0.3184\n",
      "\n",
      "Epoch 00037: val_loss improved from 4.08883 to 4.08028, saving model to Weights-037--4.08028.hdf5\n",
      "Epoch 38/100\n",
      "714/714 [==============================] - 0s 131us/step - loss: 3.0372 - mean_absolute_error: 3.0372 - accuracy: 0.3389 - val_loss: 4.1719 - val_mean_absolute_error: 4.1719 - val_accuracy: 0.3240\n",
      "\n",
      "Epoch 00038: val_loss did not improve from 4.08028\n",
      "Epoch 39/100\n",
      "714/714 [==============================] - 0s 120us/step - loss: 2.8747 - mean_absolute_error: 2.8747 - accuracy: 0.3165 - val_loss: 4.7046 - val_mean_absolute_error: 4.7046 - val_accuracy: 0.3240\n",
      "\n",
      "Epoch 00039: val_loss did not improve from 4.08028\n",
      "Epoch 40/100\n",
      "714/714 [==============================] - 0s 130us/step - loss: 2.9916 - mean_absolute_error: 2.9916 - accuracy: 0.3291 - val_loss: 4.2774 - val_mean_absolute_error: 4.2774 - val_accuracy: 0.3296\n",
      "\n",
      "Epoch 00040: val_loss did not improve from 4.08028\n",
      "Epoch 41/100\n",
      "714/714 [==============================] - 0s 108us/step - loss: 2.8617 - mean_absolute_error: 2.8617 - accuracy: 0.3361 - val_loss: 4.1203 - val_mean_absolute_error: 4.1203 - val_accuracy: 0.3296\n",
      "\n",
      "Epoch 00041: val_loss did not improve from 4.08028\n",
      "Epoch 42/100\n",
      "714/714 [==============================] - 0s 108us/step - loss: 2.9503 - mean_absolute_error: 2.9503 - accuracy: 0.3207 - val_loss: 4.1355 - val_mean_absolute_error: 4.1355 - val_accuracy: 0.3073\n",
      "\n",
      "Epoch 00042: val_loss did not improve from 4.08028\n",
      "Epoch 43/100\n",
      "714/714 [==============================] - 0s 103us/step - loss: 2.9201 - mean_absolute_error: 2.9201 - accuracy: 0.3221 - val_loss: 4.1753 - val_mean_absolute_error: 4.1753 - val_accuracy: 0.2961\n",
      "\n",
      "Epoch 00043: val_loss did not improve from 4.08028\n",
      "Epoch 44/100\n",
      "714/714 [==============================] - 0s 116us/step - loss: 2.9659 - mean_absolute_error: 2.9659 - accuracy: 0.3179 - val_loss: 4.2966 - val_mean_absolute_error: 4.2966 - val_accuracy: 0.3184\n",
      "\n",
      "Epoch 00044: val_loss did not improve from 4.08028\n",
      "Epoch 45/100\n",
      "714/714 [==============================] - 0s 112us/step - loss: 2.8701 - mean_absolute_error: 2.8701 - accuracy: 0.3277 - val_loss: 4.1175 - val_mean_absolute_error: 4.1175 - val_accuracy: 0.3184\n",
      "\n",
      "Epoch 00045: val_loss did not improve from 4.08028\n",
      "Epoch 46/100\n",
      "714/714 [==============================] - 0s 110us/step - loss: 2.9131 - mean_absolute_error: 2.9131 - accuracy: 0.3221 - val_loss: 4.3751 - val_mean_absolute_error: 4.3751 - val_accuracy: 0.3352\n",
      "\n",
      "Epoch 00046: val_loss did not improve from 4.08028\n",
      "Epoch 47/100\n",
      "714/714 [==============================] - 0s 124us/step - loss: 2.8755 - mean_absolute_error: 2.8755 - accuracy: 0.3249 - val_loss: 4.1376 - val_mean_absolute_error: 4.1376 - val_accuracy: 0.3296\n",
      "\n",
      "Epoch 00047: val_loss did not improve from 4.08028\n",
      "Epoch 48/100\n",
      "714/714 [==============================] - 0s 123us/step - loss: 3.0864 - mean_absolute_error: 3.0864 - accuracy: 0.3305 - val_loss: 4.5517 - val_mean_absolute_error: 4.5517 - val_accuracy: 0.2737\n",
      "\n",
      "Epoch 00048: val_loss did not improve from 4.08028\n",
      "Epoch 49/100\n",
      "714/714 [==============================] - 0s 108us/step - loss: 2.8111 - mean_absolute_error: 2.8111 - accuracy: 0.3305 - val_loss: 4.1557 - val_mean_absolute_error: 4.1557 - val_accuracy: 0.3240\n",
      "\n",
      "Epoch 00049: val_loss did not improve from 4.08028\n",
      "Epoch 50/100\n",
      "714/714 [==============================] - 0s 117us/step - loss: 2.9328 - mean_absolute_error: 2.9328 - accuracy: 0.3263 - val_loss: 4.2009 - val_mean_absolute_error: 4.2009 - val_accuracy: 0.3296\n",
      "\n",
      "Epoch 00050: val_loss did not improve from 4.08028\n",
      "Epoch 51/100\n",
      "714/714 [==============================] - 0s 112us/step - loss: 2.7982 - mean_absolute_error: 2.7982 - accuracy: 0.3235 - val_loss: 4.0413 - val_mean_absolute_error: 4.0413 - val_accuracy: 0.3296\n",
      "\n",
      "Epoch 00051: val_loss improved from 4.08028 to 4.04127, saving model to Weights-051--4.04127.hdf5\n",
      "Epoch 52/100\n",
      "714/714 [==============================] - 0s 122us/step - loss: 2.9009 - mean_absolute_error: 2.9009 - accuracy: 0.3179 - val_loss: 4.1605 - val_mean_absolute_error: 4.1605 - val_accuracy: 0.3352\n",
      "\n",
      "Epoch 00052: val_loss did not improve from 4.04127\n",
      "Epoch 53/100\n",
      "714/714 [==============================] - 0s 113us/step - loss: 2.9544 - mean_absolute_error: 2.9544 - accuracy: 0.3333 - val_loss: 4.1208 - val_mean_absolute_error: 4.1208 - val_accuracy: 0.3128\n",
      "\n",
      "Epoch 00053: val_loss did not improve from 4.04127\n",
      "Epoch 54/100\n",
      "714/714 [==============================] - 0s 115us/step - loss: 2.7575 - mean_absolute_error: 2.7575 - accuracy: 0.3277 - val_loss: 4.1349 - val_mean_absolute_error: 4.1349 - val_accuracy: 0.3128\n",
      "\n",
      "Epoch 00054: val_loss did not improve from 4.04127\n",
      "Epoch 55/100\n",
      "714/714 [==============================] - 0s 106us/step - loss: 2.8712 - mean_absolute_error: 2.8712 - accuracy: 0.3221 - val_loss: 4.4100 - val_mean_absolute_error: 4.4100 - val_accuracy: 0.2849\n",
      "\n",
      "Epoch 00055: val_loss did not improve from 4.04127\n",
      "Epoch 56/100\n",
      "714/714 [==============================] - 0s 168us/step - loss: 2.9680 - mean_absolute_error: 2.9680 - accuracy: 0.3221 - val_loss: 4.0678 - val_mean_absolute_error: 4.0678 - val_accuracy: 0.3184\n",
      "\n",
      "Epoch 00056: val_loss did not improve from 4.04127\n",
      "Epoch 57/100\n",
      "714/714 [==============================] - 0s 113us/step - loss: 3.0993 - mean_absolute_error: 3.0993 - accuracy: 0.3235 - val_loss: 4.1389 - val_mean_absolute_error: 4.1389 - val_accuracy: 0.3352\n",
      "\n",
      "Epoch 00057: val_loss did not improve from 4.04127\n",
      "Epoch 58/100\n",
      "714/714 [==============================] - 0s 112us/step - loss: 2.9435 - mean_absolute_error: 2.9435 - accuracy: 0.3235 - val_loss: 4.0603 - val_mean_absolute_error: 4.0603 - val_accuracy: 0.3296\n",
      "\n",
      "Epoch 00058: val_loss did not improve from 4.04127\n",
      "Epoch 59/100\n",
      "714/714 [==============================] - 0s 116us/step - loss: 2.9490 - mean_absolute_error: 2.9490 - accuracy: 0.3221 - val_loss: 4.2250 - val_mean_absolute_error: 4.2250 - val_accuracy: 0.3296\n",
      "\n",
      "Epoch 00059: val_loss did not improve from 4.04127\n",
      "Epoch 60/100\n"
     ]
    },
    {
     "name": "stdout",
     "output_type": "stream",
     "text": [
      "714/714 [==============================] - 0s 115us/step - loss: 2.9772 - mean_absolute_error: 2.9772 - accuracy: 0.3249 - val_loss: 4.1087 - val_mean_absolute_error: 4.1087 - val_accuracy: 0.3352\n",
      "\n",
      "Epoch 00060: val_loss did not improve from 4.04127\n",
      "Epoch 61/100\n",
      "714/714 [==============================] - 0s 108us/step - loss: 2.9104 - mean_absolute_error: 2.9104 - accuracy: 0.3305 - val_loss: 4.0831 - val_mean_absolute_error: 4.0831 - val_accuracy: 0.3352\n",
      "\n",
      "Epoch 00061: val_loss did not improve from 4.04127\n",
      "Epoch 62/100\n",
      "714/714 [==============================] - 0s 109us/step - loss: 2.7919 - mean_absolute_error: 2.7919 - accuracy: 0.3277 - val_loss: 4.0626 - val_mean_absolute_error: 4.0626 - val_accuracy: 0.3128\n",
      "\n",
      "Epoch 00062: val_loss did not improve from 4.04127\n",
      "Epoch 63/100\n",
      "714/714 [==============================] - 0s 115us/step - loss: 2.7518 - mean_absolute_error: 2.7518 - accuracy: 0.3291 - val_loss: 4.0334 - val_mean_absolute_error: 4.0334 - val_accuracy: 0.3296\n",
      "\n",
      "Epoch 00063: val_loss improved from 4.04127 to 4.03338, saving model to Weights-063--4.03338.hdf5\n",
      "Epoch 64/100\n",
      "714/714 [==============================] - 0s 102us/step - loss: 2.7627 - mean_absolute_error: 2.7627 - accuracy: 0.3389 - val_loss: 4.1064 - val_mean_absolute_error: 4.1064 - val_accuracy: 0.3128\n",
      "\n",
      "Epoch 00064: val_loss did not improve from 4.03338\n",
      "Epoch 65/100\n",
      "714/714 [==============================] - 0s 106us/step - loss: 2.7260 - mean_absolute_error: 2.7260 - accuracy: 0.3291 - val_loss: 4.0624 - val_mean_absolute_error: 4.0624 - val_accuracy: 0.3240\n",
      "\n",
      "Epoch 00065: val_loss did not improve from 4.03338\n",
      "Epoch 66/100\n",
      "714/714 [==============================] - 0s 108us/step - loss: 2.7726 - mean_absolute_error: 2.7726 - accuracy: 0.3249 - val_loss: 4.2845 - val_mean_absolute_error: 4.2845 - val_accuracy: 0.2849\n",
      "\n",
      "Epoch 00066: val_loss did not improve from 4.03338\n",
      "Epoch 67/100\n",
      "714/714 [==============================] - 0s 108us/step - loss: 2.9481 - mean_absolute_error: 2.9481 - accuracy: 0.3291 - val_loss: 4.1269 - val_mean_absolute_error: 4.1269 - val_accuracy: 0.3240\n",
      "\n",
      "Epoch 00067: val_loss did not improve from 4.03338\n",
      "Epoch 68/100\n",
      "714/714 [==============================] - 0s 131us/step - loss: 2.9170 - mean_absolute_error: 2.9170 - accuracy: 0.3179 - val_loss: 4.2100 - val_mean_absolute_error: 4.2100 - val_accuracy: 0.3240\n",
      "\n",
      "Epoch 00068: val_loss did not improve from 4.03338\n",
      "Epoch 69/100\n",
      "714/714 [==============================] - 0s 137us/step - loss: 2.7549 - mean_absolute_error: 2.7549 - accuracy: 0.3375 - val_loss: 4.3522 - val_mean_absolute_error: 4.3522 - val_accuracy: 0.3184\n",
      "\n",
      "Epoch 00069: val_loss did not improve from 4.03338\n",
      "Epoch 70/100\n",
      "714/714 [==============================] - 0s 154us/step - loss: 2.9353 - mean_absolute_error: 2.9353 - accuracy: 0.3179 - val_loss: 4.0221 - val_mean_absolute_error: 4.0221 - val_accuracy: 0.3352\n",
      "\n",
      "Epoch 00070: val_loss improved from 4.03338 to 4.02211, saving model to Weights-070--4.02211.hdf5\n",
      "Epoch 71/100\n",
      "714/714 [==============================] - 0s 112us/step - loss: 2.8139 - mean_absolute_error: 2.8139 - accuracy: 0.3221 - val_loss: 4.0207 - val_mean_absolute_error: 4.0207 - val_accuracy: 0.3017\n",
      "\n",
      "Epoch 00071: val_loss improved from 4.02211 to 4.02068, saving model to Weights-071--4.02068.hdf5\n",
      "Epoch 72/100\n",
      "714/714 [==============================] - 0s 103us/step - loss: 2.7060 - mean_absolute_error: 2.7060 - accuracy: 0.3319 - val_loss: 3.9955 - val_mean_absolute_error: 3.9955 - val_accuracy: 0.3128\n",
      "\n",
      "Epoch 00072: val_loss improved from 4.02068 to 3.99553, saving model to Weights-072--3.99553.hdf5\n",
      "Epoch 73/100\n",
      "714/714 [==============================] - 0s 113us/step - loss: 2.8965 - mean_absolute_error: 2.8965 - accuracy: 0.3123 - val_loss: 4.0323 - val_mean_absolute_error: 4.0323 - val_accuracy: 0.3240\n",
      "\n",
      "Epoch 00073: val_loss did not improve from 3.99553\n",
      "Epoch 74/100\n",
      "714/714 [==============================] - 0s 102us/step - loss: 2.8041 - mean_absolute_error: 2.8041 - accuracy: 0.3193 - val_loss: 4.0707 - val_mean_absolute_error: 4.0707 - val_accuracy: 0.3184\n",
      "\n",
      "Epoch 00074: val_loss did not improve from 3.99553\n",
      "Epoch 75/100\n",
      "714/714 [==============================] - 0s 99us/step - loss: 2.7647 - mean_absolute_error: 2.7647 - accuracy: 0.3151 - val_loss: 4.2493 - val_mean_absolute_error: 4.2493 - val_accuracy: 0.3017\n",
      "\n",
      "Epoch 00075: val_loss did not improve from 3.99553\n",
      "Epoch 76/100\n",
      "714/714 [==============================] - 0s 96us/step - loss: 2.6776 - mean_absolute_error: 2.6776 - accuracy: 0.3319 - val_loss: 4.0904 - val_mean_absolute_error: 4.0904 - val_accuracy: 0.3073\n",
      "\n",
      "Epoch 00076: val_loss did not improve from 3.99553\n",
      "Epoch 77/100\n",
      "714/714 [==============================] - 0s 106us/step - loss: 2.7349 - mean_absolute_error: 2.7349 - accuracy: 0.3403 - val_loss: 4.0558 - val_mean_absolute_error: 4.0558 - val_accuracy: 0.3240\n",
      "\n",
      "Epoch 00077: val_loss did not improve from 3.99553\n",
      "Epoch 78/100\n",
      "714/714 [==============================] - 0s 112us/step - loss: 2.6393 - mean_absolute_error: 2.6393 - accuracy: 0.3221 - val_loss: 4.2187 - val_mean_absolute_error: 4.2187 - val_accuracy: 0.3184\n",
      "\n",
      "Epoch 00078: val_loss did not improve from 3.99553\n",
      "Epoch 79/100\n",
      "714/714 [==============================] - 0s 119us/step - loss: 2.6993 - mean_absolute_error: 2.6993 - accuracy: 0.3277 - val_loss: 4.0017 - val_mean_absolute_error: 4.0017 - val_accuracy: 0.3184\n",
      "\n",
      "Epoch 00079: val_loss did not improve from 3.99553\n",
      "Epoch 80/100\n",
      "714/714 [==============================] - 0s 117us/step - loss: 2.7222 - mean_absolute_error: 2.7222 - accuracy: 0.3263 - val_loss: 3.9646 - val_mean_absolute_error: 3.9646 - val_accuracy: 0.3184\n",
      "\n",
      "Epoch 00080: val_loss improved from 3.99553 to 3.96459, saving model to Weights-080--3.96459.hdf5\n",
      "Epoch 81/100\n",
      "714/714 [==============================] - 0s 135us/step - loss: 2.6851 - mean_absolute_error: 2.6851 - accuracy: 0.3347 - val_loss: 4.6961 - val_mean_absolute_error: 4.6961 - val_accuracy: 0.3296\n",
      "\n",
      "Epoch 00081: val_loss did not improve from 3.96459\n",
      "Epoch 82/100\n",
      "714/714 [==============================] - 0s 129us/step - loss: 3.2038 - mean_absolute_error: 3.2038 - accuracy: 0.3081 - val_loss: 3.8694 - val_mean_absolute_error: 3.8694 - val_accuracy: 0.3464\n",
      "\n",
      "Epoch 00082: val_loss improved from 3.96459 to 3.86939, saving model to Weights-082--3.86939.hdf5\n",
      "Epoch 83/100\n",
      "714/714 [==============================] - 0s 120us/step - loss: 2.7635 - mean_absolute_error: 2.7635 - accuracy: 0.3291 - val_loss: 4.0140 - val_mean_absolute_error: 4.0140 - val_accuracy: 0.2793\n",
      "\n",
      "Epoch 00083: val_loss did not improve from 3.86939\n",
      "Epoch 84/100\n",
      "714/714 [==============================] - 0s 116us/step - loss: 2.9060 - mean_absolute_error: 2.9060 - accuracy: 0.3235 - val_loss: 4.0907 - val_mean_absolute_error: 4.0907 - val_accuracy: 0.3073\n",
      "\n",
      "Epoch 00084: val_loss did not improve from 3.86939\n",
      "Epoch 85/100\n",
      "714/714 [==============================] - 0s 101us/step - loss: 2.8754 - mean_absolute_error: 2.8754 - accuracy: 0.3193 - val_loss: 4.1119 - val_mean_absolute_error: 4.1119 - val_accuracy: 0.3352\n",
      "\n",
      "Epoch 00085: val_loss did not improve from 3.86939\n",
      "Epoch 86/100\n",
      "714/714 [==============================] - 0s 103us/step - loss: 2.7973 - mean_absolute_error: 2.7973 - accuracy: 0.3389 - val_loss: 4.4192 - val_mean_absolute_error: 4.4192 - val_accuracy: 0.2849\n",
      "\n",
      "Epoch 00086: val_loss did not improve from 3.86939\n",
      "Epoch 87/100\n",
      "714/714 [==============================] - 0s 94us/step - loss: 3.3478 - mean_absolute_error: 3.3478 - accuracy: 0.3137 - val_loss: 4.4261 - val_mean_absolute_error: 4.4261 - val_accuracy: 0.3128\n",
      "\n",
      "Epoch 00087: val_loss did not improve from 3.86939\n",
      "Epoch 88/100\n",
      "714/714 [==============================] - 0s 95us/step - loss: 2.9683 - mean_absolute_error: 2.9683 - accuracy: 0.3207 - val_loss: 4.1008 - val_mean_absolute_error: 4.1008 - val_accuracy: 0.3128\n",
      "\n",
      "Epoch 00088: val_loss did not improve from 3.86939\n",
      "Epoch 89/100\n",
      "714/714 [==============================] - 0s 95us/step - loss: 3.0825 - mean_absolute_error: 3.0825 - accuracy: 0.3123 - val_loss: 4.0198 - val_mean_absolute_error: 4.0198 - val_accuracy: 0.3296\n",
      "\n",
      "Epoch 00089: val_loss did not improve from 3.86939\n",
      "Epoch 90/100\n"
     ]
    },
    {
     "name": "stdout",
     "output_type": "stream",
     "text": [
      "714/714 [==============================] - 0s 92us/step - loss: 2.6862 - mean_absolute_error: 2.6862 - accuracy: 0.3207 - val_loss: 4.0262 - val_mean_absolute_error: 4.0262 - val_accuracy: 0.2905\n",
      "\n",
      "Epoch 00090: val_loss did not improve from 3.86939\n",
      "Epoch 91/100\n",
      "714/714 [==============================] - 0s 95us/step - loss: 2.6215 - mean_absolute_error: 2.6215 - accuracy: 0.3319 - val_loss: 4.0233 - val_mean_absolute_error: 4.0233 - val_accuracy: 0.3184\n",
      "\n",
      "Epoch 00091: val_loss did not improve from 3.86939\n",
      "Epoch 92/100\n",
      "714/714 [==============================] - 0s 103us/step - loss: 3.0346 - mean_absolute_error: 3.0346 - accuracy: 0.3207 - val_loss: 4.0921 - val_mean_absolute_error: 4.0921 - val_accuracy: 0.3464\n",
      "\n",
      "Epoch 00092: val_loss did not improve from 3.86939\n",
      "Epoch 93/100\n",
      "714/714 [==============================] - 0s 96us/step - loss: 2.7227 - mean_absolute_error: 2.7227 - accuracy: 0.3291 - val_loss: 4.2245 - val_mean_absolute_error: 4.2245 - val_accuracy: 0.3296\n",
      "\n",
      "Epoch 00093: val_loss did not improve from 3.86939\n",
      "Epoch 94/100\n",
      "714/714 [==============================] - 0s 98us/step - loss: 2.5908 - mean_absolute_error: 2.5908 - accuracy: 0.3389 - val_loss: 4.0202 - val_mean_absolute_error: 4.0202 - val_accuracy: 0.3073\n",
      "\n",
      "Epoch 00094: val_loss did not improve from 3.86939\n",
      "Epoch 95/100\n",
      "714/714 [==============================] - 0s 101us/step - loss: 2.6635 - mean_absolute_error: 2.6635 - accuracy: 0.3221 - val_loss: 3.9382 - val_mean_absolute_error: 3.9382 - val_accuracy: 0.3240\n",
      "\n",
      "Epoch 00095: val_loss did not improve from 3.86939\n",
      "Epoch 96/100\n",
      "714/714 [==============================] - 0s 99us/step - loss: 2.8323 - mean_absolute_error: 2.8323 - accuracy: 0.3123 - val_loss: 4.0222 - val_mean_absolute_error: 4.0222 - val_accuracy: 0.3296\n",
      "\n",
      "Epoch 00096: val_loss did not improve from 3.86939\n",
      "Epoch 97/100\n",
      "714/714 [==============================] - 0s 99us/step - loss: 2.8849 - mean_absolute_error: 2.8849 - accuracy: 0.3305 - val_loss: 4.5287 - val_mean_absolute_error: 4.5287 - val_accuracy: 0.3184\n",
      "\n",
      "Epoch 00097: val_loss did not improve from 3.86939\n",
      "Epoch 98/100\n",
      "714/714 [==============================] - 0s 112us/step - loss: 2.9304 - mean_absolute_error: 2.9304 - accuracy: 0.3235 - val_loss: 3.9560 - val_mean_absolute_error: 3.9560 - val_accuracy: 0.3184\n",
      "\n",
      "Epoch 00098: val_loss did not improve from 3.86939\n",
      "Epoch 99/100\n",
      "714/714 [==============================] - 0s 117us/step - loss: 2.5909 - mean_absolute_error: 2.5909 - accuracy: 0.3319 - val_loss: 4.1758 - val_mean_absolute_error: 4.1758 - val_accuracy: 0.2961\n",
      "\n",
      "Epoch 00099: val_loss did not improve from 3.86939\n",
      "Epoch 100/100\n",
      "714/714 [==============================] - 0s 108us/step - loss: 2.6652 - mean_absolute_error: 2.6652 - accuracy: 0.3249 - val_loss: 4.0348 - val_mean_absolute_error: 4.0348 - val_accuracy: 0.3296\n",
      "\n",
      "Epoch 00100: val_loss did not improve from 3.86939\n"
     ]
    }
   ],
   "source": [
    "history = NN_model.fit(X_train, y_train, epochs=100, batch_size=32, validation_split = 0.2, callbacks=callbacks_list)"
   ]
  },
  {
   "cell_type": "code",
   "execution_count": 34,
   "metadata": {
    "id": "MyEioeZ2B8AA"
   },
   "outputs": [
    {
     "name": "stdout",
     "output_type": "stream",
     "text": [
      "dict_keys(['val_loss', 'val_mean_absolute_error', 'val_accuracy', 'loss', 'mean_absolute_error', 'accuracy'])\n"
     ]
    }
   ],
   "source": [
    "print(history.history.keys())"
   ]
  },
  {
   "cell_type": "code",
   "execution_count": 35,
   "metadata": {},
   "outputs": [
    {
     "data": {
      "image/png": "[encoded data removed]",
      "text/plain": [
       "<Figure size 432x288 with 1 Axes>"
      ]
     },
     "metadata": {
      "needs_background": "light"
     },
     "output_type": "display_data"
    }
   ],
   "source": [
    "plt.plot(history.history['accuracy'])\n",
    "plt.plot(history.history['val_accuracy'])\n",
    "plt.title('model accuracy')\n",
    "plt.ylabel('accuracy')\n",
    "plt.xlabel('epoch')\n",
    "plt.legend(['train', 'test'], loc='upper left')\n",
    "plt.show()"
   ]
  },
  {
   "cell_type": "code",
   "execution_count": 36,
   "metadata": {},
   "outputs": [
    {
     "data": {
      "image/png": "[encoded data removed]",
      "text/plain": [
       "<Figure size 432x288 with 1 Axes>"
      ]
     },
     "metadata": {
      "needs_background": "light"
     },
     "output_type": "display_data"
    }
   ],
   "source": [
    "plt.plot(history.history['loss'])\n",
    "plt.plot(history.history['val_loss'])\n",
    "plt.title('model loss')\n",
    "plt.ylabel('loss')\n",
    "plt.xlabel('epoch')\n",
    "plt.legend(['train', 'test'], loc='upper left')\n",
    "plt.show()"
   ]
  },
  {
   "cell_type": "code",
   "execution_count": 37,
   "metadata": {
    "colab": {
     "base_uri": "https://localhost:8080/"
    },
    "id": "vxuU6KZyAWbg",
    "outputId": "b37e7d5a-5457-41e4-ac6e-ccf35794c3ef"
   },
   "outputs": [
    {
     "name": "stdout",
     "output_type": "stream",
     "text": [
      "441/441 [==============================] - 0s 36us/step\n",
      "Test loss: 3.0985293880341547\n",
      "Test accuracy: 0.29931971430778503\n"
     ]
    }
   ],
   "source": [
    "evaluation = NN_model.evaluate(X_test, y_test, batch_size=32)\n",
    "loss = evaluation[0]\n",
    "acc = evaluation[2]\n",
    "print(\"Test loss:\", loss)\n",
    "print(\"Test accuracy:\", acc)"
   ]
  }
 ],
 "metadata": {
  "colab": {
   "collapsed_sections": [],
   "name": "Epigenetic Clock",
   "provenance": []
  },
  "kernelspec": {
   "display_name": "Python 3",
   "language": "python",
   "name": "python3"
  },
  "language_info": {
   "codemirror_mode": {
    "name": "ipython",
    "version": 3
   },
   "file_extension": ".py",
   "mimetype": "text/x-python",
   "name": "python",
   "nbconvert_exporter": "python",
   "pygments_lexer": "ipython3",
   "version": "3.7.3"
  }
 },
 "nbformat": 4,
 "nbformat_minor": 1
}
